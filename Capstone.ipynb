{
  "nbformat": 4,
  "nbformat_minor": 0,
  "metadata": {
    "colab": {
      "name": "Capstone.ipynb",
      "provenance": [],
      "collapsed_sections": [],
      "authorship_tag": "ABX9TyOWrsuTPGInsnmuyDtu78AU",
      "include_colab_link": true
    },
    "kernelspec": {
      "display_name": "Python 3",
      "name": "python3"
    }
  },
  "cells": [
    {
      "cell_type": "markdown",
      "metadata": {
        "id": "view-in-github",
        "colab_type": "text"
      },
      "source": [
        "<a href=\"https://colab.research.google.com/github/johnnyagaka/Data-Science-Projects/blob/main/Capstone.ipynb\" target=\"_parent\"><img src=\"https://colab.research.google.com/assets/colab-badge.svg\" alt=\"Open In Colab\"/></a>"
      ]
    },
    {
      "cell_type": "markdown",
      "metadata": {
        "id": "e6bfjZJwrxLI"
      },
      "source": [
        "#Capstone Project\n",
        "##Smart Predictive Analysis in clinical trial Research: The case of Covid-19\n",
        "\n",
        "By John Morisi Okero Nyagaka\n",
        "\n",
        "[\n",
        "MIT Licence](https://opensource.org/licenses/MIT)"
      ]
    },
    {
      "cell_type": "markdown",
      "metadata": {
        "id": "Cmpb7CRVsfY2"
      },
      "source": [
        "#Introduction\n",
        "\n",
        "Data used for the project is from kaggle\n",
        "There are two datasets used which can be accessed via this [Patient Pre-condition-Dataset](https://www.kaggle.com/tanmoyx/covid19-patient-precondition-dataset) and [Covid-19 Clinical Trials](https://www.kaggle.com/parulpandey/covid19-clinical-trials-dataset)\n"
      ]
    },
    {
      "cell_type": "code",
      "metadata": {
        "id": "KX1MLLVQc2Di"
      },
      "source": [
        "import numpy as np\n",
        "import pandas as pd\n",
        "import matplotlib.pyplot as plt\n",
        "import seaborn as sns"
      ],
      "execution_count": null,
      "outputs": []
    },
    {
      "cell_type": "markdown",
      "metadata": {
        "id": "qEI7MQUG2jTD"
      },
      "source": [
        "##Setting up to download covid-19 patient precondition dataset"
      ]
    },
    {
      "cell_type": "code",
      "metadata": {
        "id": "JAFwFUGj2GB6"
      },
      "source": [
        " ! pip install -q kaggle"
      ],
      "execution_count": null,
      "outputs": []
    },
    {
      "cell_type": "code",
      "metadata": {
        "colab": {
          "resources": {
            "http://localhost:8080/nbextensions/google.colab/files.js": {
              "data": "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",
              "ok": true,
              "headers": [
                [
                  "content-type",
                  "application/javascript"
                ]
              ],
              "status": 200,
              "status_text": ""
            }
          },
          "base_uri": "https://localhost:8080/",
          "height": 89
        },
        "id": "wIWIVRBR3BdM",
        "outputId": "62e2a9e5-46fe-4d49-fd84-0e7c1c27d0a6"
      },
      "source": [
        "from google.colab import files\n",
        "files.upload()"
      ],
      "execution_count": null,
      "outputs": [
        {
          "output_type": "display_data",
          "data": {
            "text/html": [
              "\n",
              "     <input type=\"file\" id=\"files-92c6890b-28ba-488c-a2ff-8e20c02dda08\" name=\"files[]\" multiple disabled\n",
              "        style=\"border:none\" />\n",
              "     <output id=\"result-92c6890b-28ba-488c-a2ff-8e20c02dda08\">\n",
              "      Upload widget is only available when the cell has been executed in the\n",
              "      current browser session. Please rerun this cell to enable.\n",
              "      </output>\n",
              "      <script src=\"/nbextensions/google.colab/files.js\"></script> "
            ],
            "text/plain": [
              "<IPython.core.display.HTML object>"
            ]
          },
          "metadata": {
            "tags": []
          }
        },
        {
          "output_type": "stream",
          "text": [
            "Saving kaggle.json to kaggle.json\n"
          ],
          "name": "stdout"
        },
        {
          "output_type": "execute_result",
          "data": {
            "text/plain": [
              "{'kaggle.json': b'{\"username\":\"johnnyagaka\",\"key\":\"e41b87e09743965c851f96c504fc5589\"}'}"
            ]
          },
          "metadata": {
            "tags": []
          },
          "execution_count": 3
        }
      ]
    },
    {
      "cell_type": "code",
      "metadata": {
        "colab": {
          "base_uri": "https://localhost:8080/"
        },
        "id": "n71FpZOu4KXi",
        "outputId": "dce46337-d48b-4737-e35d-9dc868d4f53c"
      },
      "source": [
        "! mkdir ~/.kaggle\n",
        "! cp kaggle.json ~/.kaggle/\n",
        "! chmod 600 ~/.kaggle/kaggle.json! "
      ],
      "execution_count": null,
      "outputs": [
        {
          "output_type": "stream",
          "text": [
            "chmod: cannot access '/root/.kaggle/kaggle.json!': No such file or directory\n"
          ],
          "name": "stdout"
        }
      ]
    },
    {
      "cell_type": "code",
      "metadata": {
        "colab": {
          "base_uri": "https://localhost:8080/"
        },
        "id": "chhv0wBD2Cwe",
        "outputId": "7186b9d5-9456-4cd1-8614-532224641fc3"
      },
      "source": [
        "! kaggle datasets download -d tanmoyx/covid19-patient-precondition-dataset"
      ],
      "execution_count": null,
      "outputs": [
        {
          "output_type": "stream",
          "text": [
            "Warning: Your Kaggle API key is readable by other users on this system! To fix this, you can run 'chmod 600 /root/.kaggle/kaggle.json'\n",
            "Downloading covid19-patient-precondition-dataset.zip to /content\n",
            " 66% 5.00M/7.56M [00:00<00:00, 37.4MB/s]\n",
            "100% 7.56M/7.56M [00:00<00:00, 48.1MB/s]\n"
          ],
          "name": "stdout"
        }
      ]
    },
    {
      "cell_type": "code",
      "metadata": {
        "colab": {
          "base_uri": "https://localhost:8080/"
        },
        "id": "UbzuRafqtBVy",
        "outputId": "79cfe169-8f6d-4221-9dd2-996b28810057"
      },
      "source": [
        "!ls"
      ],
      "execution_count": null,
      "outputs": [
        {
          "output_type": "stream",
          "text": [
            "covid19-patient-precondition-dataset.zip  kaggle.json  sample_data\n"
          ],
          "name": "stdout"
        }
      ]
    },
    {
      "cell_type": "markdown",
      "metadata": {
        "id": "y4wo8StZZoxi"
      },
      "source": [
        "##Loading the data: Covid-19 Clinical Trials Dataset\n",
        "\n",
        "This dataset was obtained from [Clinical Trials Transformation Initiative(CTTI)](https://www.ctti-clinicaltrials.org/) and can be accessed [here](https:https://aact.ctti-clinicaltrials.org/covid_19//)"
      ]
    },
    {
      "cell_type": "code",
      "metadata": {
        "colab": {
          "base_uri": "https://localhost:8080/"
        },
        "id": "TlXXvh5Wl03m",
        "outputId": "4d90acd3-f6a4-4e8d-a481-ebf0a0277b6d"
      },
      "source": [
        "from google.colab import drive\n",
        "drive.mount('/content/drive')"
      ],
      "execution_count": null,
      "outputs": [
        {
          "output_type": "stream",
          "text": [
            "Mounted at /content/drive\n"
          ],
          "name": "stdout"
        }
      ]
    },
    {
      "cell_type": "code",
      "metadata": {
        "id": "9v7lJMb2nodj"
      },
      "source": [
        "trial_data = pd.read_csv (\"/content/drive/MyDrive/Colab Notebooks/covid-19 trials.tsv\", sep = '\\t')"
      ],
      "execution_count": null,
      "outputs": []
    },
    {
      "cell_type": "code",
      "metadata": {
        "colab": {
          "base_uri": "https://localhost:8080/"
        },
        "id": "r9JTqjwzvGiA",
        "outputId": "f97fd123-e3d1-41df-b177-aad23edae5ea"
      },
      "source": [
        "trial_data.shape"
      ],
      "execution_count": null,
      "outputs": [
        {
          "output_type": "execute_result",
          "data": {
            "text/plain": [
              "(5059, 68)"
            ]
          },
          "metadata": {
            "tags": []
          },
          "execution_count": 9
        }
      ]
    },
    {
      "cell_type": "code",
      "metadata": {
        "colab": {
          "base_uri": "https://localhost:8080/",
          "height": 564
        },
        "id": "Nrl2awcfxmrI",
        "outputId": "cfd3b647-9bab-46c9-ddcd-a759da92bab0"
      },
      "source": [
        "trial_data.head()"
      ],
      "execution_count": null,
      "outputs": [
        {
          "output_type": "execute_result",
          "data": {
            "text/html": [
              "<div>\n",
              "<style scoped>\n",
              "    .dataframe tbody tr th:only-of-type {\n",
              "        vertical-align: middle;\n",
              "    }\n",
              "\n",
              "    .dataframe tbody tr th {\n",
              "        vertical-align: top;\n",
              "    }\n",
              "\n",
              "    .dataframe thead th {\n",
              "        text-align: right;\n",
              "    }\n",
              "</style>\n",
              "<table border=\"1\" class=\"dataframe\">\n",
              "  <thead>\n",
              "    <tr style=\"text-align: right;\">\n",
              "      <th></th>\n",
              "      <th>nct_id</th>\n",
              "      <th>title</th>\n",
              "      <th>acronym</th>\n",
              "      <th>other_ids</th>\n",
              "      <th>url</th>\n",
              "      <th>status</th>\n",
              "      <th>why_stopped</th>\n",
              "      <th>hcq</th>\n",
              "      <th>has_dmc</th>\n",
              "      <th>funded_bys</th>\n",
              "      <th>sponsor_collaborators</th>\n",
              "      <th>lead_sponsor</th>\n",
              "      <th>collaborators</th>\n",
              "      <th>study_type</th>\n",
              "      <th>phases</th>\n",
              "      <th>enrollment</th>\n",
              "      <th>brief_summary</th>\n",
              "      <th>detailed_description</th>\n",
              "      <th>conditions</th>\n",
              "      <th>keywords</th>\n",
              "      <th>interventions</th>\n",
              "      <th>intervention_details</th>\n",
              "      <th>arm_details</th>\n",
              "      <th>arm_intervention_details</th>\n",
              "      <th>outcome_measures</th>\n",
              "      <th>start_date</th>\n",
              "      <th>primary_completion_date</th>\n",
              "      <th>completion_date</th>\n",
              "      <th>first_posted</th>\n",
              "      <th>results_first_posted</th>\n",
              "      <th>last_update_posted</th>\n",
              "      <th>nlm_download_date</th>\n",
              "      <th>study_first_submitted_date</th>\n",
              "      <th>has_expanded_access</th>\n",
              "      <th>is_fda_regulated_drug</th>\n",
              "      <th>is_fda_regulated_device</th>\n",
              "      <th>is_unapproved_device</th>\n",
              "      <th>locations</th>\n",
              "      <th>number_of_facilities</th>\n",
              "      <th>has_us_facility</th>\n",
              "      <th>has_single_facility</th>\n",
              "      <th>study_design</th>\n",
              "      <th>number_of_arms</th>\n",
              "      <th>number_of_groups</th>\n",
              "      <th>primary_purpose</th>\n",
              "      <th>intervention_model</th>\n",
              "      <th>observational_model</th>\n",
              "      <th>allocation</th>\n",
              "      <th>masking</th>\n",
              "      <th>subject_masked</th>\n",
              "      <th>caregiver_masked</th>\n",
              "      <th>investigator_masked</th>\n",
              "      <th>outcomes_assessor_masked</th>\n",
              "      <th>adaptive_protocol</th>\n",
              "      <th>master_protocol</th>\n",
              "      <th>platform_protocol</th>\n",
              "      <th>umbrella_protocol</th>\n",
              "      <th>basket_protocol</th>\n",
              "      <th>minimum_agey</th>\n",
              "      <th>maximum_agey</th>\n",
              "      <th>gender</th>\n",
              "      <th>gender_based</th>\n",
              "      <th>gender_description</th>\n",
              "      <th>healthy_volunteers</th>\n",
              "      <th>population</th>\n",
              "      <th>criteria</th>\n",
              "      <th>study_results</th>\n",
              "      <th>study_documents</th>\n",
              "    </tr>\n",
              "  </thead>\n",
              "  <tbody>\n",
              "    <tr>\n",
              "      <th>0</th>\n",
              "      <td>NCT00571389</td>\n",
              "      <td>Isolation and Culture of Immune Cells and Circ...</td>\n",
              "      <td>NaN</td>\n",
              "      <td>BioCytics 0001|WIRB Protocol # 20070969</td>\n",
              "      <td>https://ClinicalTrials.gov/show/NCT00571389</td>\n",
              "      <td>Recruiting</td>\n",
              "      <td>NaN</td>\n",
              "      <td>No</td>\n",
              "      <td>Yes</td>\n",
              "      <td>Industry</td>\n",
              "      <td>BioCytics, Inc.</td>\n",
              "      <td>BioCytics, Inc.[Industry]</td>\n",
              "      <td>NaN</td>\n",
              "      <td>Observational</td>\n",
              "      <td>NaN</td>\n",
              "      <td>1000.0</td>\n",
              "      <td>Primary Objective: This is a study to investig...</td>\n",
              "      <td>NaN</td>\n",
              "      <td>Solid Tumor, Adult|Healthy Donors|COVID-19 Donors</td>\n",
              "      <td>All Stages of cancer|All stages of solid tumor...</td>\n",
              "      <td>NaN</td>\n",
              "      <td>NaN</td>\n",
              "      <td>NaN</td>\n",
              "      <td>NaN</td>\n",
              "      <td>NaN</td>\n",
              "      <td>2007-11-30</td>\n",
              "      <td>2025-02-28</td>\n",
              "      <td>2025-02-28</td>\n",
              "      <td>2007-12-12</td>\n",
              "      <td>NaN</td>\n",
              "      <td>2020-09-10</td>\n",
              "      <td>ClinicalTrials.gov processed this data on Janu...</td>\n",
              "      <td>2007-12-10</td>\n",
              "      <td>No</td>\n",
              "      <td>No</td>\n",
              "      <td>No</td>\n",
              "      <td>No</td>\n",
              "      <td>Carolina BioOncology Institute, Huntersville, ...</td>\n",
              "      <td>1</td>\n",
              "      <td>Yes</td>\n",
              "      <td>Yes</td>\n",
              "      <td>Observational Model: Case-Only|Time Perspectiv...</td>\n",
              "      <td>NaN</td>\n",
              "      <td>NaN</td>\n",
              "      <td>NaN</td>\n",
              "      <td>NaN</td>\n",
              "      <td>Case-Only</td>\n",
              "      <td>NaN</td>\n",
              "      <td>NaN</td>\n",
              "      <td>No</td>\n",
              "      <td>No</td>\n",
              "      <td>No</td>\n",
              "      <td>No</td>\n",
              "      <td>No</td>\n",
              "      <td>No</td>\n",
              "      <td>Yes</td>\n",
              "      <td>No</td>\n",
              "      <td>No</td>\n",
              "      <td>18 Years</td>\n",
              "      <td>NaN</td>\n",
              "      <td>All</td>\n",
              "      <td>NaN</td>\n",
              "      <td>NaN</td>\n",
              "      <td>Accepts Healthy Volunteers</td>\n",
              "      <td>The population of patients to be enrolled for ...</td>\n",
              "      <td>Inclusion Criteria for Biospecimen(s) collecti...</td>\n",
              "      <td>No</td>\n",
              "      <td>NaN</td>\n",
              "    </tr>\n",
              "    <tr>\n",
              "      <th>1</th>\n",
              "      <td>NCT01306084</td>\n",
              "      <td>Viral Infections in Healthy and Immunocompromi...</td>\n",
              "      <td>NaN</td>\n",
              "      <td>110109|11-I-0109</td>\n",
              "      <td>https://ClinicalTrials.gov/show/NCT01306084</td>\n",
              "      <td>Recruiting</td>\n",
              "      <td>NaN</td>\n",
              "      <td>No</td>\n",
              "      <td>No</td>\n",
              "      <td>NIH</td>\n",
              "      <td>National Institute of Allergy and Infectious D...</td>\n",
              "      <td>National Institute of Allergy and Infectious D...</td>\n",
              "      <td>NaN</td>\n",
              "      <td>Observational</td>\n",
              "      <td>NaN</td>\n",
              "      <td>1000.0</td>\n",
              "      <td>Background: - Viral infections are an importan...</td>\n",
              "      <td>Viral infections are an important cause of mor...</td>\n",
              "      <td>Anogenital Herpes|Herpes Labialis|COVID-19</td>\n",
              "      <td>SARS-CoV-2|Adenovirus|Viral Infection|Respirat...</td>\n",
              "      <td>NaN</td>\n",
              "      <td>NaN</td>\n",
              "      <td>N/A:1:NIH campus workers who have recently rec...</td>\n",
              "      <td>NaN</td>\n",
              "      <td>Sample collection, analysis of immune function...</td>\n",
              "      <td>2011-03-15</td>\n",
              "      <td>NaN</td>\n",
              "      <td>NaN</td>\n",
              "      <td>2011-03-01</td>\n",
              "      <td>NaN</td>\n",
              "      <td>2021-02-10</td>\n",
              "      <td>ClinicalTrials.gov processed this data on Febr...</td>\n",
              "      <td>2011-02-26</td>\n",
              "      <td>No</td>\n",
              "      <td>No</td>\n",
              "      <td>No</td>\n",
              "      <td>No</td>\n",
              "      <td>National Institutes of Health Clinical Center,...</td>\n",
              "      <td>1</td>\n",
              "      <td>Yes</td>\n",
              "      <td>Yes</td>\n",
              "      <td>Observational Model: Other|Time Perspective: P...</td>\n",
              "      <td>NaN</td>\n",
              "      <td>4.0</td>\n",
              "      <td>NaN</td>\n",
              "      <td>NaN</td>\n",
              "      <td>Other</td>\n",
              "      <td>NaN</td>\n",
              "      <td>NaN</td>\n",
              "      <td>No</td>\n",
              "      <td>No</td>\n",
              "      <td>No</td>\n",
              "      <td>No</td>\n",
              "      <td>No</td>\n",
              "      <td>No</td>\n",
              "      <td>No</td>\n",
              "      <td>No</td>\n",
              "      <td>No</td>\n",
              "      <td>NaN</td>\n",
              "      <td>NaN</td>\n",
              "      <td>All</td>\n",
              "      <td>NaN</td>\n",
              "      <td>NaN</td>\n",
              "      <td>No</td>\n",
              "      <td>Healthy or immunocompromised subjects with vir...</td>\n",
              "      <td>- INCLUSION CRITERIA: 1. The protocol is open ...</td>\n",
              "      <td>No</td>\n",
              "      <td>NaN</td>\n",
              "    </tr>\n",
              "    <tr>\n",
              "      <th>2</th>\n",
              "      <td>NCT02735707</td>\n",
              "      <td>Randomized, Embedded, Multifactorial Adaptive ...</td>\n",
              "      <td>REMAP-CAP</td>\n",
              "      <td>U1111-1189-1653|2015-002340-14|602525|16/631|A...</td>\n",
              "      <td>https://ClinicalTrials.gov/show/NCT02735707</td>\n",
              "      <td>Recruiting</td>\n",
              "      <td>NaN</td>\n",
              "      <td>Yes</td>\n",
              "      <td>Yes</td>\n",
              "      <td>Other</td>\n",
              "      <td>MJM Bonten|Australian and New Zealand Intensiv...</td>\n",
              "      <td>MJM Bonten[Other]</td>\n",
              "      <td>Australian and New Zealand Intensive Care Rese...</td>\n",
              "      <td>Interventional</td>\n",
              "      <td>Phase 4</td>\n",
              "      <td>7100.0</td>\n",
              "      <td>REMAP-CAP is a randomised, embedded, multifact...</td>\n",
              "      <td>Community-acquired pneumonia (CAP) that is of ...</td>\n",
              "      <td>Community-acquired Pneumonia, Influenza, COVID-19</td>\n",
              "      <td>Respiratory Tract Infections|Therapeutic Antic...</td>\n",
              "      <td>Drug: Fixed-duration Hydrocortisone|Drug: Shoc...</td>\n",
              "      <td>Drug:Fixed-duration Hydrocortisone:50mg of int...</td>\n",
              "      <td>Active Comparator:Eritoran:Patients will recei...</td>\n",
              "      <td>Active Comparator[Eritoran]:Drug[Eritoran]|Act...</td>\n",
              "      <td>Proportion of intubated patients who receive a...</td>\n",
              "      <td>2016-04-11</td>\n",
              "      <td>2021-12-31</td>\n",
              "      <td>2023-12-31</td>\n",
              "      <td>2016-04-13</td>\n",
              "      <td>NaN</td>\n",
              "      <td>2020-10-12</td>\n",
              "      <td>ClinicalTrials.gov processed this data on Janu...</td>\n",
              "      <td>2015-12-11</td>\n",
              "      <td>No</td>\n",
              "      <td>Yes</td>\n",
              "      <td>No</td>\n",
              "      <td>No</td>\n",
              "      <td>University of Pittsburgh Medical Centre, Pitts...</td>\n",
              "      <td>90</td>\n",
              "      <td>Yes</td>\n",
              "      <td>No</td>\n",
              "      <td>Allocation: Randomized|Intervention Model: Fac...</td>\n",
              "      <td>38.0</td>\n",
              "      <td>NaN</td>\n",
              "      <td>Treatment</td>\n",
              "      <td>Factorial Assignment</td>\n",
              "      <td>NaN</td>\n",
              "      <td>Randomized</td>\n",
              "      <td>None (Open Label)</td>\n",
              "      <td>No</td>\n",
              "      <td>No</td>\n",
              "      <td>No</td>\n",
              "      <td>No</td>\n",
              "      <td>Yes</td>\n",
              "      <td>No</td>\n",
              "      <td>Yes</td>\n",
              "      <td>No</td>\n",
              "      <td>No</td>\n",
              "      <td>18 Years</td>\n",
              "      <td>NaN</td>\n",
              "      <td>All</td>\n",
              "      <td>NaN</td>\n",
              "      <td>NaN</td>\n",
              "      <td>No</td>\n",
              "      <td>NaN</td>\n",
              "      <td>REMAP-CAP PLATFORM INCLUSION CRITERIA: 1. Adul...</td>\n",
              "      <td>No</td>\n",
              "      <td>NaN</td>\n",
              "    </tr>\n",
              "    <tr>\n",
              "      <th>3</th>\n",
              "      <td>NCT02765191</td>\n",
              "      <td>MR-Evaluation of Renal Function In Septic Pati...</td>\n",
              "      <td>MERSEP</td>\n",
              "      <td>MERSEP-523-2014-2569</td>\n",
              "      <td>https://ClinicalTrials.gov/show/NCT02765191</td>\n",
              "      <td>Recruiting</td>\n",
              "      <td>NaN</td>\n",
              "      <td>No</td>\n",
              "      <td>No</td>\n",
              "      <td>Other</td>\n",
              "      <td>Uppsala University</td>\n",
              "      <td>Uppsala University[Other]</td>\n",
              "      <td>NaN</td>\n",
              "      <td>Interventional</td>\n",
              "      <td>N|A</td>\n",
              "      <td>20.0</td>\n",
              "      <td>A study of renal blood flow and renal oxygenat...</td>\n",
              "      <td>Critically ill, septic patients with or withou...</td>\n",
              "      <td>COVID-19|Sepsis, Severe|Acute Kidney Injury</td>\n",
              "      <td>Fluid Therapy|Renal Circulation|Renal Oxygenat...</td>\n",
              "      <td>Other: Plasma expansion with Ringer's Acetate</td>\n",
              "      <td>Other:Plasma expansion with Ringer's Acetate:7...</td>\n",
              "      <td>Experimental:Study group:Subjects investigated...</td>\n",
              "      <td>Experimental[Study group]:Other[Plasma expansi...</td>\n",
              "      <td>Change in renal blood flow and renal oxygenati...</td>\n",
              "      <td>2016-04-30</td>\n",
              "      <td>2021-10-31</td>\n",
              "      <td>2025-10-31</td>\n",
              "      <td>2016-05-06</td>\n",
              "      <td>NaN</td>\n",
              "      <td>2020-06-17</td>\n",
              "      <td>ClinicalTrials.gov processed this data on Janu...</td>\n",
              "      <td>2016-05-02</td>\n",
              "      <td>No</td>\n",
              "      <td>No</td>\n",
              "      <td>No</td>\n",
              "      <td>No</td>\n",
              "      <td>Uppsala University Hospital, Uppsala, Sweden</td>\n",
              "      <td>1</td>\n",
              "      <td>No</td>\n",
              "      <td>Yes</td>\n",
              "      <td>Allocation: N/A|Intervention Model: Single Gro...</td>\n",
              "      <td>1.0</td>\n",
              "      <td>NaN</td>\n",
              "      <td>Other</td>\n",
              "      <td>Single Group Assignment</td>\n",
              "      <td>NaN</td>\n",
              "      <td>NaN</td>\n",
              "      <td>None (Open Label)</td>\n",
              "      <td>No</td>\n",
              "      <td>No</td>\n",
              "      <td>No</td>\n",
              "      <td>No</td>\n",
              "      <td>No</td>\n",
              "      <td>No</td>\n",
              "      <td>No</td>\n",
              "      <td>No</td>\n",
              "      <td>No</td>\n",
              "      <td>18 Years</td>\n",
              "      <td>NaN</td>\n",
              "      <td>All</td>\n",
              "      <td>NaN</td>\n",
              "      <td>NaN</td>\n",
              "      <td>No</td>\n",
              "      <td>NaN</td>\n",
              "      <td>Inclusion Criteria: - Patients with clinical d...</td>\n",
              "      <td>No</td>\n",
              "      <td>NaN</td>\n",
              "    </tr>\n",
              "    <tr>\n",
              "      <th>4</th>\n",
              "      <td>NCT02788903</td>\n",
              "      <td>A Patient-Centered PaTH to Addressing Diabetes</td>\n",
              "      <td>NaN</td>\n",
              "      <td>PCORI|NEN-1509-32304</td>\n",
              "      <td>https://ClinicalTrials.gov/show/NCT02788903</td>\n",
              "      <td>Active, not recruiting</td>\n",
              "      <td>NaN</td>\n",
              "      <td>No</td>\n",
              "      <td>No</td>\n",
              "      <td>Other</td>\n",
              "      <td>Milton S. Hershey Medical Center|Patient-Cente...</td>\n",
              "      <td>Milton S. Hershey Medical Center[Other]</td>\n",
              "      <td>Patient-Centered Outcomes Research Institute[O...</td>\n",
              "      <td>Observational</td>\n",
              "      <td>NaN</td>\n",
              "      <td>2000000.0</td>\n",
              "      <td>The overarching goal of this proposal is to un...</td>\n",
              "      <td>Aim 1: Evaluate the impact of universal preven...</td>\n",
              "      <td>Obesity|Diabetes|Covid19</td>\n",
              "      <td>Obesity Counseling|telemedicine</td>\n",
              "      <td>Other: Weight Counseling|Other: Telemedicine</td>\n",
              "      <td>Other:Weight Counseling:This is a natural expe...</td>\n",
              "      <td>N/A:Diabetes:During year 1 of the proposed pro...</td>\n",
              "      <td>N/A[Diabetes]:Other[Weight Counseling]|N/A[Dia...</td>\n",
              "      <td>Weight change|Diabetes Incidence|Hospitalizati...</td>\n",
              "      <td>2016-03-31</td>\n",
              "      <td>2021-05-31</td>\n",
              "      <td>2021-05-31</td>\n",
              "      <td>2016-06-02</td>\n",
              "      <td>NaN</td>\n",
              "      <td>2021-03-03</td>\n",
              "      <td>ClinicalTrials.gov processed this data on Marc...</td>\n",
              "      <td>2016-05-27</td>\n",
              "      <td>No</td>\n",
              "      <td>No</td>\n",
              "      <td>No</td>\n",
              "      <td>No</td>\n",
              "      <td>NaN</td>\n",
              "      <td>0</td>\n",
              "      <td>No</td>\n",
              "      <td>No</td>\n",
              "      <td>Observational Model: Cohort|Time Perspective: ...</td>\n",
              "      <td>NaN</td>\n",
              "      <td>3.0</td>\n",
              "      <td>NaN</td>\n",
              "      <td>NaN</td>\n",
              "      <td>Cohort</td>\n",
              "      <td>NaN</td>\n",
              "      <td>NaN</td>\n",
              "      <td>No</td>\n",
              "      <td>No</td>\n",
              "      <td>No</td>\n",
              "      <td>No</td>\n",
              "      <td>No</td>\n",
              "      <td>No</td>\n",
              "      <td>No</td>\n",
              "      <td>No</td>\n",
              "      <td>No</td>\n",
              "      <td>18 Years</td>\n",
              "      <td>NaN</td>\n",
              "      <td>All</td>\n",
              "      <td>NaN</td>\n",
              "      <td>NaN</td>\n",
              "      <td>Accepts Healthy Volunteers</td>\n",
              "      <td>Data will be collected through the PaTH Clinic...</td>\n",
              "      <td>Inclusion Criteria: Patients with Diabetes - A...</td>\n",
              "      <td>No</td>\n",
              "      <td>NaN</td>\n",
              "    </tr>\n",
              "  </tbody>\n",
              "</table>\n",
              "</div>"
            ],
            "text/plain": [
              "        nct_id  ... study_documents\n",
              "0  NCT00571389  ...             NaN\n",
              "1  NCT01306084  ...             NaN\n",
              "2  NCT02735707  ...             NaN\n",
              "3  NCT02765191  ...             NaN\n",
              "4  NCT02788903  ...             NaN\n",
              "\n",
              "[5 rows x 68 columns]"
            ]
          },
          "metadata": {
            "tags": []
          },
          "execution_count": 10
        }
      ]
    },
    {
      "cell_type": "code",
      "metadata": {
        "colab": {
          "base_uri": "https://localhost:8080/"
        },
        "id": "EKrcXlB5tZwU",
        "outputId": "b1690358-d1ec-4645-c193-fee211eb647b"
      },
      "source": [
        "trial_data.info()"
      ],
      "execution_count": null,
      "outputs": [
        {
          "output_type": "stream",
          "text": [
            "<class 'pandas.core.frame.DataFrame'>\n",
            "RangeIndex: 5059 entries, 0 to 5058\n",
            "Data columns (total 68 columns):\n",
            " #   Column                      Non-Null Count  Dtype  \n",
            "---  ------                      --------------  -----  \n",
            " 0   nct_id                      5059 non-null   object \n",
            " 1   title                       5059 non-null   object \n",
            " 2   acronym                     2191 non-null   object \n",
            " 3   other_ids                   5058 non-null   object \n",
            " 4   url                         5059 non-null   object \n",
            " 5   status                      5059 non-null   object \n",
            " 6   why_stopped                 185 non-null    object \n",
            " 7   hcq                         5059 non-null   object \n",
            " 8   has_dmc                     5059 non-null   object \n",
            " 9   funded_bys                  5059 non-null   object \n",
            " 10  sponsor_collaborators       5059 non-null   object \n",
            " 11  lead_sponsor                5059 non-null   object \n",
            " 12  collaborators               1754 non-null   object \n",
            " 13  study_type                  5059 non-null   object \n",
            " 14  phases                      2844 non-null   object \n",
            " 15  enrollment                  5027 non-null   float64\n",
            " 16  brief_summary               5059 non-null   object \n",
            " 17  detailed_description        3554 non-null   object \n",
            " 18  conditions                  5059 non-null   object \n",
            " 19  keywords                    2951 non-null   object \n",
            " 20  interventions               4268 non-null   object \n",
            " 21  intervention_details        4268 non-null   object \n",
            " 22  arm_details                 4167 non-null   object \n",
            " 23  arm_intervention_details    3853 non-null   object \n",
            " 24  outcome_measures            5026 non-null   object \n",
            " 25  start_date                  5027 non-null   object \n",
            " 26  primary_completion_date     5026 non-null   object \n",
            " 27  completion_date             5026 non-null   object \n",
            " 28  first_posted                5059 non-null   object \n",
            " 29  results_first_posted        25 non-null     object \n",
            " 30  last_update_posted          5059 non-null   object \n",
            " 31  nlm_download_date           5059 non-null   object \n",
            " 32  study_first_submitted_date  5059 non-null   object \n",
            " 33  has_expanded_access         5059 non-null   object \n",
            " 34  is_fda_regulated_drug       5059 non-null   object \n",
            " 35  is_fda_regulated_device     5059 non-null   object \n",
            " 36  is_unapproved_device        5059 non-null   object \n",
            " 37  locations                   4523 non-null   object \n",
            " 38  number_of_facilities        5059 non-null   int64  \n",
            " 39  has_us_facility             5059 non-null   object \n",
            " 40  has_single_facility         5059 non-null   object \n",
            " 41  study_design                5026 non-null   object \n",
            " 42  number_of_arms              2827 non-null   float64\n",
            " 43  number_of_groups            1340 non-null   float64\n",
            " 44  primary_purpose             2844 non-null   object \n",
            " 45  intervention_model          2844 non-null   object \n",
            " 46  observational_model         2182 non-null   object \n",
            " 47  allocation                  2342 non-null   object \n",
            " 48  masking                     2844 non-null   object \n",
            " 49  subject_masked              5059 non-null   object \n",
            " 50  caregiver_masked            5059 non-null   object \n",
            " 51  investigator_masked         5059 non-null   object \n",
            " 52  outcomes_assessor_masked    5059 non-null   object \n",
            " 53  adaptive_protocol           5059 non-null   object \n",
            " 54  master_protocol             5059 non-null   object \n",
            " 55  platform_protocol           5059 non-null   object \n",
            " 56  umbrella_protocol           5059 non-null   object \n",
            " 57  basket_protocol             5059 non-null   object \n",
            " 58  minimum_agey                4544 non-null   object \n",
            " 59  maximum_agey                1665 non-null   object \n",
            " 60  gender                      5058 non-null   object \n",
            " 61  gender_based                93 non-null     object \n",
            " 62  gender_description          63 non-null     object \n",
            " 63  healthy_volunteers          4698 non-null   object \n",
            " 64  population                  2183 non-null   object \n",
            " 65  criteria                    5058 non-null   object \n",
            " 66  study_results               5059 non-null   object \n",
            " 67  study_documents             137 non-null    object \n",
            "dtypes: float64(3), int64(1), object(64)\n",
            "memory usage: 2.6+ MB\n"
          ],
          "name": "stdout"
        }
      ]
    },
    {
      "cell_type": "code",
      "metadata": {
        "colab": {
          "base_uri": "https://localhost:8080/",
          "height": 297
        },
        "id": "r4WRRwElteVF",
        "outputId": "78c6ab67-625a-4260-b028-449c2b99922c"
      },
      "source": [
        "trial_data.describe()"
      ],
      "execution_count": null,
      "outputs": [
        {
          "output_type": "execute_result",
          "data": {
            "text/html": [
              "<div>\n",
              "<style scoped>\n",
              "    .dataframe tbody tr th:only-of-type {\n",
              "        vertical-align: middle;\n",
              "    }\n",
              "\n",
              "    .dataframe tbody tr th {\n",
              "        vertical-align: top;\n",
              "    }\n",
              "\n",
              "    .dataframe thead th {\n",
              "        text-align: right;\n",
              "    }\n",
              "</style>\n",
              "<table border=\"1\" class=\"dataframe\">\n",
              "  <thead>\n",
              "    <tr style=\"text-align: right;\">\n",
              "      <th></th>\n",
              "      <th>enrollment</th>\n",
              "      <th>number_of_facilities</th>\n",
              "      <th>number_of_arms</th>\n",
              "      <th>number_of_groups</th>\n",
              "    </tr>\n",
              "  </thead>\n",
              "  <tbody>\n",
              "    <tr>\n",
              "      <th>count</th>\n",
              "      <td>5.027000e+03</td>\n",
              "      <td>5059.000000</td>\n",
              "      <td>2827.000000</td>\n",
              "      <td>1340.000000</td>\n",
              "    </tr>\n",
              "    <tr>\n",
              "      <th>mean</th>\n",
              "      <td>2.003932e+04</td>\n",
              "      <td>3.903143</td>\n",
              "      <td>2.373895</td>\n",
              "      <td>1.950746</td>\n",
              "    </tr>\n",
              "    <tr>\n",
              "      <th>std</th>\n",
              "      <td>4.320822e+05</td>\n",
              "      <td>17.580131</td>\n",
              "      <td>1.887287</td>\n",
              "      <td>1.505467</td>\n",
              "    </tr>\n",
              "    <tr>\n",
              "      <th>min</th>\n",
              "      <td>0.000000e+00</td>\n",
              "      <td>0.000000</td>\n",
              "      <td>1.000000</td>\n",
              "      <td>1.000000</td>\n",
              "    </tr>\n",
              "    <tr>\n",
              "      <th>25%</th>\n",
              "      <td>6.000000e+01</td>\n",
              "      <td>1.000000</td>\n",
              "      <td>2.000000</td>\n",
              "      <td>1.000000</td>\n",
              "    </tr>\n",
              "    <tr>\n",
              "      <th>50%</th>\n",
              "      <td>1.750000e+02</td>\n",
              "      <td>1.000000</td>\n",
              "      <td>2.000000</td>\n",
              "      <td>2.000000</td>\n",
              "    </tr>\n",
              "    <tr>\n",
              "      <th>75%</th>\n",
              "      <td>5.580000e+02</td>\n",
              "      <td>1.000000</td>\n",
              "      <td>2.000000</td>\n",
              "      <td>2.000000</td>\n",
              "    </tr>\n",
              "    <tr>\n",
              "      <th>max</th>\n",
              "      <td>2.000000e+07</td>\n",
              "      <td>890.000000</td>\n",
              "      <td>38.000000</td>\n",
              "      <td>27.000000</td>\n",
              "    </tr>\n",
              "  </tbody>\n",
              "</table>\n",
              "</div>"
            ],
            "text/plain": [
              "         enrollment  number_of_facilities  number_of_arms  number_of_groups\n",
              "count  5.027000e+03           5059.000000     2827.000000       1340.000000\n",
              "mean   2.003932e+04              3.903143        2.373895          1.950746\n",
              "std    4.320822e+05             17.580131        1.887287          1.505467\n",
              "min    0.000000e+00              0.000000        1.000000          1.000000\n",
              "25%    6.000000e+01              1.000000        2.000000          1.000000\n",
              "50%    1.750000e+02              1.000000        2.000000          2.000000\n",
              "75%    5.580000e+02              1.000000        2.000000          2.000000\n",
              "max    2.000000e+07            890.000000       38.000000         27.000000"
            ]
          },
          "metadata": {
            "tags": []
          },
          "execution_count": 12
        }
      ]
    },
    {
      "cell_type": "code",
      "metadata": {
        "colab": {
          "base_uri": "https://localhost:8080/"
        },
        "id": "bynSG2UeteYV",
        "outputId": "659496c3-0190-44d5-8e15-157bdebe8a6a"
      },
      "source": [
        "trial_data.count()"
      ],
      "execution_count": null,
      "outputs": [
        {
          "output_type": "execute_result",
          "data": {
            "text/plain": [
              "nct_id                5059\n",
              "title                 5059\n",
              "acronym               2191\n",
              "other_ids             5058\n",
              "url                   5059\n",
              "                      ... \n",
              "healthy_volunteers    4698\n",
              "population            2183\n",
              "criteria              5058\n",
              "study_results         5059\n",
              "study_documents        137\n",
              "Length: 68, dtype: int64"
            ]
          },
          "metadata": {
            "tags": []
          },
          "execution_count": 13
        }
      ]
    },
    {
      "cell_type": "markdown",
      "metadata": {
        "id": "G8-c1jHPqly-"
      },
      "source": [
        "We consider the **\"criteria\"** column as it is important in this study"
      ]
    },
    {
      "cell_type": "code",
      "metadata": {
        "colab": {
          "base_uri": "https://localhost:8080/",
          "height": 419
        },
        "id": "3132kiVUuRxr",
        "outputId": "a62daa6f-d270-4afc-9a9e-6261580fb4f6"
      },
      "source": [
        "trial_data.loc[:,[\"criteria\"]]"
      ],
      "execution_count": null,
      "outputs": [
        {
          "output_type": "execute_result",
          "data": {
            "text/html": [
              "<div>\n",
              "<style scoped>\n",
              "    .dataframe tbody tr th:only-of-type {\n",
              "        vertical-align: middle;\n",
              "    }\n",
              "\n",
              "    .dataframe tbody tr th {\n",
              "        vertical-align: top;\n",
              "    }\n",
              "\n",
              "    .dataframe thead th {\n",
              "        text-align: right;\n",
              "    }\n",
              "</style>\n",
              "<table border=\"1\" class=\"dataframe\">\n",
              "  <thead>\n",
              "    <tr style=\"text-align: right;\">\n",
              "      <th></th>\n",
              "      <th>criteria</th>\n",
              "    </tr>\n",
              "  </thead>\n",
              "  <tbody>\n",
              "    <tr>\n",
              "      <th>0</th>\n",
              "      <td>Inclusion Criteria for Biospecimen(s) collecti...</td>\n",
              "    </tr>\n",
              "    <tr>\n",
              "      <th>1</th>\n",
              "      <td>- INCLUSION CRITERIA: 1. The protocol is open ...</td>\n",
              "    </tr>\n",
              "    <tr>\n",
              "      <th>2</th>\n",
              "      <td>REMAP-CAP PLATFORM INCLUSION CRITERIA: 1. Adul...</td>\n",
              "    </tr>\n",
              "    <tr>\n",
              "      <th>3</th>\n",
              "      <td>Inclusion Criteria: - Patients with clinical d...</td>\n",
              "    </tr>\n",
              "    <tr>\n",
              "      <th>4</th>\n",
              "      <td>Inclusion Criteria: Patients with Diabetes - A...</td>\n",
              "    </tr>\n",
              "    <tr>\n",
              "      <th>...</th>\n",
              "      <td>...</td>\n",
              "    </tr>\n",
              "    <tr>\n",
              "      <th>5054</th>\n",
              "      <td>Inclusion criteria: All patients who satisfy t...</td>\n",
              "    </tr>\n",
              "    <tr>\n",
              "      <th>5055</th>\n",
              "      <td>Inclusion Criteria: 1. Hospitalized adult male...</td>\n",
              "    </tr>\n",
              "    <tr>\n",
              "      <th>5056</th>\n",
              "      <td>Inclusion Criteria: - African American - Unvac...</td>\n",
              "    </tr>\n",
              "    <tr>\n",
              "      <th>5057</th>\n",
              "      <td>Inclusion Criteria: 1. Willing and able to pro...</td>\n",
              "    </tr>\n",
              "    <tr>\n",
              "      <th>5058</th>\n",
              "      <td>Inclusion Criteria: - Hispanic children, estab...</td>\n",
              "    </tr>\n",
              "  </tbody>\n",
              "</table>\n",
              "<p>5059 rows × 1 columns</p>\n",
              "</div>"
            ],
            "text/plain": [
              "                                               criteria\n",
              "0     Inclusion Criteria for Biospecimen(s) collecti...\n",
              "1     - INCLUSION CRITERIA: 1. The protocol is open ...\n",
              "2     REMAP-CAP PLATFORM INCLUSION CRITERIA: 1. Adul...\n",
              "3     Inclusion Criteria: - Patients with clinical d...\n",
              "4     Inclusion Criteria: Patients with Diabetes - A...\n",
              "...                                                 ...\n",
              "5054  Inclusion criteria: All patients who satisfy t...\n",
              "5055  Inclusion Criteria: 1. Hospitalized adult male...\n",
              "5056  Inclusion Criteria: - African American - Unvac...\n",
              "5057  Inclusion Criteria: 1. Willing and able to pro...\n",
              "5058  Inclusion Criteria: - Hispanic children, estab...\n",
              "\n",
              "[5059 rows x 1 columns]"
            ]
          },
          "metadata": {
            "tags": []
          },
          "execution_count": 14
        }
      ]
    },
    {
      "cell_type": "code",
      "metadata": {
        "colab": {
          "base_uri": "https://localhost:8080/",
          "height": 137
        },
        "id": "qPtBLI6Hx1F4",
        "outputId": "5543dc9d-8d83-4b77-fd05-cf45ea919c27"
      },
      "source": [
        "trial_data.iloc[0, -3] "
      ],
      "execution_count": null,
      "outputs": [
        {
          "output_type": "execute_result",
          "data": {
            "application/vnd.google.colaboratory.intrinsic+json": {
              "type": "string"
            },
            "text/plain": [
              "\"Inclusion Criteria for Biospecimen(s) collection: - Histological diagnosis of metastatic stage IV or locally advanced (unresectable) stage III cancer of any solid tumor type, histological non-metastatic cancer of any solid tumor type of any stage and healthy volunteers - Age ≥ 18yo - Life expectancy ≥ 12 weeks - ECOG Performance Status of 0, 1, 2, or 3 (Appendix 2) - Negative serology screening test for HIV, HBV and HCV; in event of a postive result, a reflex PCR may be performed and if negative, the pt may be allowed on the study Additional Subject Eligibility for Leukapheresis Collection: - ECOG Performance Status of 0 or 1 - Screening laboratory values must meet following criteria on leukapheresis collection day: - WBC ≥ 2000/µL - Neutrophils ≥ 1500/µL - Platelets ≥ 100 x103/µL - Hemoglobin ≥ 9 g/dL - Creatinine ≤ 2.5 x ULN - AST ≤ 2.5 x ULN without, and ≤ 5 x ULN with hepatic metastases - Bilirubin ≤ 2 x ULN (except patients with Gilbert's syndrome, who must have total bilirubin < 3.0 mg/dL) Exclusion Criteria: - Patients with any active infection requiring therapy (fever, localizing source) will be excluded until the infection resolves. - Confirmed PCR test result for HIV, HBV or HCV - Underlying medical condition that, in the Principal Investigator's or treating oncologist's opinion, will obscure the interpretation of the patient's safety.\""
            ]
          },
          "metadata": {
            "tags": []
          },
          "execution_count": 15
        }
      ]
    },
    {
      "cell_type": "code",
      "metadata": {
        "id": "fCa4gX0h-FXt"
      },
      "source": [
        "trial_data['criteria'] = trial_data['criteria'].astype(str)"
      ],
      "execution_count": null,
      "outputs": []
    },
    {
      "cell_type": "markdown",
      "metadata": {
        "id": "ZAm1LWZMypAy"
      },
      "source": [
        "###Segregating the inclusion and exclusion criteria\n",
        "I create regular expressions to help in extracting the **inclusion criteria** and the **exclusion criteria** from the **criteria** column into two new columns "
      ]
    },
    {
      "cell_type": "code",
      "metadata": {
        "id": "aNgdMPvDL432"
      },
      "source": [
        "trial_data['Inclusion criteria'] = trial_data['criteria'].str.extract(r\"Inclusion Criteria:\\s*(.*?)\\s*Exclusion Criteria\\b\") \n",
        "trial_data['Exclusion criteria'] = trial_data['criteria'].str.extract(r\"Exclusion Criteria(\\b(?:)\\b.*)\")\n",
        "#trial_data['Exclusion criteria'] = trial_data['criteria'].str.extract(r\"Exclusion Criteria(\\b(?:)\\b.*)\")    #If only int use `(\\d+)`\n",
        "#regex\n",
        "#Exclusion Criteria(\\b(?:)\\b.*)*(?!(Exclusion Criteria)$).+$\n",
        "#Exclusion Criteria\\s*(.*?)\\s* (.*)\\b\n",
        "#Inclusion Criteria \\s*(.*?)\\s*Exclusion Criteria\\b"
      ],
      "execution_count": null,
      "outputs": []
    },
    {
      "cell_type": "code",
      "metadata": {
        "id": "8xLawhsUr-uw",
        "colab": {
          "base_uri": "https://localhost:8080/",
          "height": 615
        },
        "outputId": "5853713b-d5a7-479a-a519-c7fd5ea56710"
      },
      "source": [
        "trial_data.head(5)"
      ],
      "execution_count": null,
      "outputs": [
        {
          "output_type": "execute_result",
          "data": {
            "text/html": [
              "<div>\n",
              "<style scoped>\n",
              "    .dataframe tbody tr th:only-of-type {\n",
              "        vertical-align: middle;\n",
              "    }\n",
              "\n",
              "    .dataframe tbody tr th {\n",
              "        vertical-align: top;\n",
              "    }\n",
              "\n",
              "    .dataframe thead th {\n",
              "        text-align: right;\n",
              "    }\n",
              "</style>\n",
              "<table border=\"1\" class=\"dataframe\">\n",
              "  <thead>\n",
              "    <tr style=\"text-align: right;\">\n",
              "      <th></th>\n",
              "      <th>nct_id</th>\n",
              "      <th>title</th>\n",
              "      <th>acronym</th>\n",
              "      <th>other_ids</th>\n",
              "      <th>url</th>\n",
              "      <th>status</th>\n",
              "      <th>why_stopped</th>\n",
              "      <th>hcq</th>\n",
              "      <th>has_dmc</th>\n",
              "      <th>funded_bys</th>\n",
              "      <th>sponsor_collaborators</th>\n",
              "      <th>lead_sponsor</th>\n",
              "      <th>collaborators</th>\n",
              "      <th>study_type</th>\n",
              "      <th>phases</th>\n",
              "      <th>enrollment</th>\n",
              "      <th>brief_summary</th>\n",
              "      <th>detailed_description</th>\n",
              "      <th>conditions</th>\n",
              "      <th>keywords</th>\n",
              "      <th>interventions</th>\n",
              "      <th>intervention_details</th>\n",
              "      <th>arm_details</th>\n",
              "      <th>arm_intervention_details</th>\n",
              "      <th>outcome_measures</th>\n",
              "      <th>start_date</th>\n",
              "      <th>primary_completion_date</th>\n",
              "      <th>completion_date</th>\n",
              "      <th>first_posted</th>\n",
              "      <th>results_first_posted</th>\n",
              "      <th>last_update_posted</th>\n",
              "      <th>nlm_download_date</th>\n",
              "      <th>study_first_submitted_date</th>\n",
              "      <th>has_expanded_access</th>\n",
              "      <th>is_fda_regulated_drug</th>\n",
              "      <th>is_fda_regulated_device</th>\n",
              "      <th>is_unapproved_device</th>\n",
              "      <th>locations</th>\n",
              "      <th>number_of_facilities</th>\n",
              "      <th>has_us_facility</th>\n",
              "      <th>has_single_facility</th>\n",
              "      <th>study_design</th>\n",
              "      <th>number_of_arms</th>\n",
              "      <th>number_of_groups</th>\n",
              "      <th>primary_purpose</th>\n",
              "      <th>intervention_model</th>\n",
              "      <th>observational_model</th>\n",
              "      <th>allocation</th>\n",
              "      <th>masking</th>\n",
              "      <th>subject_masked</th>\n",
              "      <th>caregiver_masked</th>\n",
              "      <th>investigator_masked</th>\n",
              "      <th>outcomes_assessor_masked</th>\n",
              "      <th>adaptive_protocol</th>\n",
              "      <th>master_protocol</th>\n",
              "      <th>platform_protocol</th>\n",
              "      <th>umbrella_protocol</th>\n",
              "      <th>basket_protocol</th>\n",
              "      <th>minimum_agey</th>\n",
              "      <th>maximum_agey</th>\n",
              "      <th>gender</th>\n",
              "      <th>gender_based</th>\n",
              "      <th>gender_description</th>\n",
              "      <th>healthy_volunteers</th>\n",
              "      <th>population</th>\n",
              "      <th>criteria</th>\n",
              "      <th>study_results</th>\n",
              "      <th>study_documents</th>\n",
              "      <th>Inclusion criteria</th>\n",
              "      <th>Exclusion criteria</th>\n",
              "    </tr>\n",
              "  </thead>\n",
              "  <tbody>\n",
              "    <tr>\n",
              "      <th>0</th>\n",
              "      <td>NCT00571389</td>\n",
              "      <td>Isolation and Culture of Immune Cells and Circ...</td>\n",
              "      <td>NaN</td>\n",
              "      <td>BioCytics 0001|WIRB Protocol # 20070969</td>\n",
              "      <td>https://ClinicalTrials.gov/show/NCT00571389</td>\n",
              "      <td>Recruiting</td>\n",
              "      <td>NaN</td>\n",
              "      <td>No</td>\n",
              "      <td>Yes</td>\n",
              "      <td>Industry</td>\n",
              "      <td>BioCytics, Inc.</td>\n",
              "      <td>BioCytics, Inc.[Industry]</td>\n",
              "      <td>NaN</td>\n",
              "      <td>Observational</td>\n",
              "      <td>NaN</td>\n",
              "      <td>1000.0</td>\n",
              "      <td>Primary Objective: This is a study to investig...</td>\n",
              "      <td>NaN</td>\n",
              "      <td>Solid Tumor, Adult|Healthy Donors|COVID-19 Donors</td>\n",
              "      <td>All Stages of cancer|All stages of solid tumor...</td>\n",
              "      <td>NaN</td>\n",
              "      <td>NaN</td>\n",
              "      <td>NaN</td>\n",
              "      <td>NaN</td>\n",
              "      <td>NaN</td>\n",
              "      <td>2007-11-30</td>\n",
              "      <td>2025-02-28</td>\n",
              "      <td>2025-02-28</td>\n",
              "      <td>2007-12-12</td>\n",
              "      <td>NaN</td>\n",
              "      <td>2020-09-10</td>\n",
              "      <td>ClinicalTrials.gov processed this data on Janu...</td>\n",
              "      <td>2007-12-10</td>\n",
              "      <td>No</td>\n",
              "      <td>No</td>\n",
              "      <td>No</td>\n",
              "      <td>No</td>\n",
              "      <td>Carolina BioOncology Institute, Huntersville, ...</td>\n",
              "      <td>1</td>\n",
              "      <td>Yes</td>\n",
              "      <td>Yes</td>\n",
              "      <td>Observational Model: Case-Only|Time Perspectiv...</td>\n",
              "      <td>NaN</td>\n",
              "      <td>NaN</td>\n",
              "      <td>NaN</td>\n",
              "      <td>NaN</td>\n",
              "      <td>Case-Only</td>\n",
              "      <td>NaN</td>\n",
              "      <td>NaN</td>\n",
              "      <td>No</td>\n",
              "      <td>No</td>\n",
              "      <td>No</td>\n",
              "      <td>No</td>\n",
              "      <td>No</td>\n",
              "      <td>No</td>\n",
              "      <td>Yes</td>\n",
              "      <td>No</td>\n",
              "      <td>No</td>\n",
              "      <td>18 Years</td>\n",
              "      <td>NaN</td>\n",
              "      <td>All</td>\n",
              "      <td>NaN</td>\n",
              "      <td>NaN</td>\n",
              "      <td>Accepts Healthy Volunteers</td>\n",
              "      <td>The population of patients to be enrolled for ...</td>\n",
              "      <td>Inclusion Criteria for Biospecimen(s) collecti...</td>\n",
              "      <td>No</td>\n",
              "      <td>NaN</td>\n",
              "      <td>NaN</td>\n",
              "      <td>: - Patients with any active infection requiri...</td>\n",
              "    </tr>\n",
              "    <tr>\n",
              "      <th>1</th>\n",
              "      <td>NCT01306084</td>\n",
              "      <td>Viral Infections in Healthy and Immunocompromi...</td>\n",
              "      <td>NaN</td>\n",
              "      <td>110109|11-I-0109</td>\n",
              "      <td>https://ClinicalTrials.gov/show/NCT01306084</td>\n",
              "      <td>Recruiting</td>\n",
              "      <td>NaN</td>\n",
              "      <td>No</td>\n",
              "      <td>No</td>\n",
              "      <td>NIH</td>\n",
              "      <td>National Institute of Allergy and Infectious D...</td>\n",
              "      <td>National Institute of Allergy and Infectious D...</td>\n",
              "      <td>NaN</td>\n",
              "      <td>Observational</td>\n",
              "      <td>NaN</td>\n",
              "      <td>1000.0</td>\n",
              "      <td>Background: - Viral infections are an importan...</td>\n",
              "      <td>Viral infections are an important cause of mor...</td>\n",
              "      <td>Anogenital Herpes|Herpes Labialis|COVID-19</td>\n",
              "      <td>SARS-CoV-2|Adenovirus|Viral Infection|Respirat...</td>\n",
              "      <td>NaN</td>\n",
              "      <td>NaN</td>\n",
              "      <td>N/A:1:NIH campus workers who have recently rec...</td>\n",
              "      <td>NaN</td>\n",
              "      <td>Sample collection, analysis of immune function...</td>\n",
              "      <td>2011-03-15</td>\n",
              "      <td>NaN</td>\n",
              "      <td>NaN</td>\n",
              "      <td>2011-03-01</td>\n",
              "      <td>NaN</td>\n",
              "      <td>2021-02-10</td>\n",
              "      <td>ClinicalTrials.gov processed this data on Febr...</td>\n",
              "      <td>2011-02-26</td>\n",
              "      <td>No</td>\n",
              "      <td>No</td>\n",
              "      <td>No</td>\n",
              "      <td>No</td>\n",
              "      <td>National Institutes of Health Clinical Center,...</td>\n",
              "      <td>1</td>\n",
              "      <td>Yes</td>\n",
              "      <td>Yes</td>\n",
              "      <td>Observational Model: Other|Time Perspective: P...</td>\n",
              "      <td>NaN</td>\n",
              "      <td>4.0</td>\n",
              "      <td>NaN</td>\n",
              "      <td>NaN</td>\n",
              "      <td>Other</td>\n",
              "      <td>NaN</td>\n",
              "      <td>NaN</td>\n",
              "      <td>No</td>\n",
              "      <td>No</td>\n",
              "      <td>No</td>\n",
              "      <td>No</td>\n",
              "      <td>No</td>\n",
              "      <td>No</td>\n",
              "      <td>No</td>\n",
              "      <td>No</td>\n",
              "      <td>No</td>\n",
              "      <td>NaN</td>\n",
              "      <td>NaN</td>\n",
              "      <td>All</td>\n",
              "      <td>NaN</td>\n",
              "      <td>NaN</td>\n",
              "      <td>No</td>\n",
              "      <td>Healthy or immunocompromised subjects with vir...</td>\n",
              "      <td>- INCLUSION CRITERIA: 1. The protocol is open ...</td>\n",
              "      <td>No</td>\n",
              "      <td>NaN</td>\n",
              "      <td>NaN</td>\n",
              "      <td>NaN</td>\n",
              "    </tr>\n",
              "    <tr>\n",
              "      <th>2</th>\n",
              "      <td>NCT02735707</td>\n",
              "      <td>Randomized, Embedded, Multifactorial Adaptive ...</td>\n",
              "      <td>REMAP-CAP</td>\n",
              "      <td>U1111-1189-1653|2015-002340-14|602525|16/631|A...</td>\n",
              "      <td>https://ClinicalTrials.gov/show/NCT02735707</td>\n",
              "      <td>Recruiting</td>\n",
              "      <td>NaN</td>\n",
              "      <td>Yes</td>\n",
              "      <td>Yes</td>\n",
              "      <td>Other</td>\n",
              "      <td>MJM Bonten|Australian and New Zealand Intensiv...</td>\n",
              "      <td>MJM Bonten[Other]</td>\n",
              "      <td>Australian and New Zealand Intensive Care Rese...</td>\n",
              "      <td>Interventional</td>\n",
              "      <td>Phase 4</td>\n",
              "      <td>7100.0</td>\n",
              "      <td>REMAP-CAP is a randomised, embedded, multifact...</td>\n",
              "      <td>Community-acquired pneumonia (CAP) that is of ...</td>\n",
              "      <td>Community-acquired Pneumonia, Influenza, COVID-19</td>\n",
              "      <td>Respiratory Tract Infections|Therapeutic Antic...</td>\n",
              "      <td>Drug: Fixed-duration Hydrocortisone|Drug: Shoc...</td>\n",
              "      <td>Drug:Fixed-duration Hydrocortisone:50mg of int...</td>\n",
              "      <td>Active Comparator:Eritoran:Patients will recei...</td>\n",
              "      <td>Active Comparator[Eritoran]:Drug[Eritoran]|Act...</td>\n",
              "      <td>Proportion of intubated patients who receive a...</td>\n",
              "      <td>2016-04-11</td>\n",
              "      <td>2021-12-31</td>\n",
              "      <td>2023-12-31</td>\n",
              "      <td>2016-04-13</td>\n",
              "      <td>NaN</td>\n",
              "      <td>2020-10-12</td>\n",
              "      <td>ClinicalTrials.gov processed this data on Janu...</td>\n",
              "      <td>2015-12-11</td>\n",
              "      <td>No</td>\n",
              "      <td>Yes</td>\n",
              "      <td>No</td>\n",
              "      <td>No</td>\n",
              "      <td>University of Pittsburgh Medical Centre, Pitts...</td>\n",
              "      <td>90</td>\n",
              "      <td>Yes</td>\n",
              "      <td>No</td>\n",
              "      <td>Allocation: Randomized|Intervention Model: Fac...</td>\n",
              "      <td>38.0</td>\n",
              "      <td>NaN</td>\n",
              "      <td>Treatment</td>\n",
              "      <td>Factorial Assignment</td>\n",
              "      <td>NaN</td>\n",
              "      <td>Randomized</td>\n",
              "      <td>None (Open Label)</td>\n",
              "      <td>No</td>\n",
              "      <td>No</td>\n",
              "      <td>No</td>\n",
              "      <td>No</td>\n",
              "      <td>Yes</td>\n",
              "      <td>No</td>\n",
              "      <td>Yes</td>\n",
              "      <td>No</td>\n",
              "      <td>No</td>\n",
              "      <td>18 Years</td>\n",
              "      <td>NaN</td>\n",
              "      <td>All</td>\n",
              "      <td>NaN</td>\n",
              "      <td>NaN</td>\n",
              "      <td>No</td>\n",
              "      <td>NaN</td>\n",
              "      <td>REMAP-CAP PLATFORM INCLUSION CRITERIA: 1. Adul...</td>\n",
              "      <td>No</td>\n",
              "      <td>NaN</td>\n",
              "      <td>NaN</td>\n",
              "      <td>NaN</td>\n",
              "    </tr>\n",
              "    <tr>\n",
              "      <th>3</th>\n",
              "      <td>NCT02765191</td>\n",
              "      <td>MR-Evaluation of Renal Function In Septic Pati...</td>\n",
              "      <td>MERSEP</td>\n",
              "      <td>MERSEP-523-2014-2569</td>\n",
              "      <td>https://ClinicalTrials.gov/show/NCT02765191</td>\n",
              "      <td>Recruiting</td>\n",
              "      <td>NaN</td>\n",
              "      <td>No</td>\n",
              "      <td>No</td>\n",
              "      <td>Other</td>\n",
              "      <td>Uppsala University</td>\n",
              "      <td>Uppsala University[Other]</td>\n",
              "      <td>NaN</td>\n",
              "      <td>Interventional</td>\n",
              "      <td>N|A</td>\n",
              "      <td>20.0</td>\n",
              "      <td>A study of renal blood flow and renal oxygenat...</td>\n",
              "      <td>Critically ill, septic patients with or withou...</td>\n",
              "      <td>COVID-19|Sepsis, Severe|Acute Kidney Injury</td>\n",
              "      <td>Fluid Therapy|Renal Circulation|Renal Oxygenat...</td>\n",
              "      <td>Other: Plasma expansion with Ringer's Acetate</td>\n",
              "      <td>Other:Plasma expansion with Ringer's Acetate:7...</td>\n",
              "      <td>Experimental:Study group:Subjects investigated...</td>\n",
              "      <td>Experimental[Study group]:Other[Plasma expansi...</td>\n",
              "      <td>Change in renal blood flow and renal oxygenati...</td>\n",
              "      <td>2016-04-30</td>\n",
              "      <td>2021-10-31</td>\n",
              "      <td>2025-10-31</td>\n",
              "      <td>2016-05-06</td>\n",
              "      <td>NaN</td>\n",
              "      <td>2020-06-17</td>\n",
              "      <td>ClinicalTrials.gov processed this data on Janu...</td>\n",
              "      <td>2016-05-02</td>\n",
              "      <td>No</td>\n",
              "      <td>No</td>\n",
              "      <td>No</td>\n",
              "      <td>No</td>\n",
              "      <td>Uppsala University Hospital, Uppsala, Sweden</td>\n",
              "      <td>1</td>\n",
              "      <td>No</td>\n",
              "      <td>Yes</td>\n",
              "      <td>Allocation: N/A|Intervention Model: Single Gro...</td>\n",
              "      <td>1.0</td>\n",
              "      <td>NaN</td>\n",
              "      <td>Other</td>\n",
              "      <td>Single Group Assignment</td>\n",
              "      <td>NaN</td>\n",
              "      <td>NaN</td>\n",
              "      <td>None (Open Label)</td>\n",
              "      <td>No</td>\n",
              "      <td>No</td>\n",
              "      <td>No</td>\n",
              "      <td>No</td>\n",
              "      <td>No</td>\n",
              "      <td>No</td>\n",
              "      <td>No</td>\n",
              "      <td>No</td>\n",
              "      <td>No</td>\n",
              "      <td>18 Years</td>\n",
              "      <td>NaN</td>\n",
              "      <td>All</td>\n",
              "      <td>NaN</td>\n",
              "      <td>NaN</td>\n",
              "      <td>No</td>\n",
              "      <td>NaN</td>\n",
              "      <td>Inclusion Criteria: - Patients with clinical d...</td>\n",
              "      <td>No</td>\n",
              "      <td>NaN</td>\n",
              "      <td>- Patients with clinical diagnosis sepsis (inf...</td>\n",
              "      <td>: - Pregnancy - Chronic kidney failure - Renal...</td>\n",
              "    </tr>\n",
              "    <tr>\n",
              "      <th>4</th>\n",
              "      <td>NCT02788903</td>\n",
              "      <td>A Patient-Centered PaTH to Addressing Diabetes</td>\n",
              "      <td>NaN</td>\n",
              "      <td>PCORI|NEN-1509-32304</td>\n",
              "      <td>https://ClinicalTrials.gov/show/NCT02788903</td>\n",
              "      <td>Active, not recruiting</td>\n",
              "      <td>NaN</td>\n",
              "      <td>No</td>\n",
              "      <td>No</td>\n",
              "      <td>Other</td>\n",
              "      <td>Milton S. Hershey Medical Center|Patient-Cente...</td>\n",
              "      <td>Milton S. Hershey Medical Center[Other]</td>\n",
              "      <td>Patient-Centered Outcomes Research Institute[O...</td>\n",
              "      <td>Observational</td>\n",
              "      <td>NaN</td>\n",
              "      <td>2000000.0</td>\n",
              "      <td>The overarching goal of this proposal is to un...</td>\n",
              "      <td>Aim 1: Evaluate the impact of universal preven...</td>\n",
              "      <td>Obesity|Diabetes|Covid19</td>\n",
              "      <td>Obesity Counseling|telemedicine</td>\n",
              "      <td>Other: Weight Counseling|Other: Telemedicine</td>\n",
              "      <td>Other:Weight Counseling:This is a natural expe...</td>\n",
              "      <td>N/A:Diabetes:During year 1 of the proposed pro...</td>\n",
              "      <td>N/A[Diabetes]:Other[Weight Counseling]|N/A[Dia...</td>\n",
              "      <td>Weight change|Diabetes Incidence|Hospitalizati...</td>\n",
              "      <td>2016-03-31</td>\n",
              "      <td>2021-05-31</td>\n",
              "      <td>2021-05-31</td>\n",
              "      <td>2016-06-02</td>\n",
              "      <td>NaN</td>\n",
              "      <td>2021-03-03</td>\n",
              "      <td>ClinicalTrials.gov processed this data on Marc...</td>\n",
              "      <td>2016-05-27</td>\n",
              "      <td>No</td>\n",
              "      <td>No</td>\n",
              "      <td>No</td>\n",
              "      <td>No</td>\n",
              "      <td>NaN</td>\n",
              "      <td>0</td>\n",
              "      <td>No</td>\n",
              "      <td>No</td>\n",
              "      <td>Observational Model: Cohort|Time Perspective: ...</td>\n",
              "      <td>NaN</td>\n",
              "      <td>3.0</td>\n",
              "      <td>NaN</td>\n",
              "      <td>NaN</td>\n",
              "      <td>Cohort</td>\n",
              "      <td>NaN</td>\n",
              "      <td>NaN</td>\n",
              "      <td>No</td>\n",
              "      <td>No</td>\n",
              "      <td>No</td>\n",
              "      <td>No</td>\n",
              "      <td>No</td>\n",
              "      <td>No</td>\n",
              "      <td>No</td>\n",
              "      <td>No</td>\n",
              "      <td>No</td>\n",
              "      <td>18 Years</td>\n",
              "      <td>NaN</td>\n",
              "      <td>All</td>\n",
              "      <td>NaN</td>\n",
              "      <td>NaN</td>\n",
              "      <td>Accepts Healthy Volunteers</td>\n",
              "      <td>Data will be collected through the PaTH Clinic...</td>\n",
              "      <td>Inclusion Criteria: Patients with Diabetes - A...</td>\n",
              "      <td>No</td>\n",
              "      <td>NaN</td>\n",
              "      <td>Patients with Diabetes - Ages 18 and older - I...</td>\n",
              "      <td>: - Patients under the age of 18</td>\n",
              "    </tr>\n",
              "  </tbody>\n",
              "</table>\n",
              "</div>"
            ],
            "text/plain": [
              "        nct_id  ...                                 Exclusion criteria\n",
              "0  NCT00571389  ...  : - Patients with any active infection requiri...\n",
              "1  NCT01306084  ...                                                NaN\n",
              "2  NCT02735707  ...                                                NaN\n",
              "3  NCT02765191  ...  : - Pregnancy - Chronic kidney failure - Renal...\n",
              "4  NCT02788903  ...                   : - Patients under the age of 18\n",
              "\n",
              "[5 rows x 70 columns]"
            ]
          },
          "metadata": {
            "tags": []
          },
          "execution_count": 18
        }
      ]
    },
    {
      "cell_type": "code",
      "metadata": {
        "id": "XhF-rIuahPrp",
        "colab": {
          "base_uri": "https://localhost:8080/"
        },
        "outputId": "1d9c1366-d3c2-4327-de70-94a939317194"
      },
      "source": [
        "trial_data.info()"
      ],
      "execution_count": null,
      "outputs": [
        {
          "output_type": "stream",
          "text": [
            "<class 'pandas.core.frame.DataFrame'>\n",
            "RangeIndex: 5059 entries, 0 to 5058\n",
            "Data columns (total 70 columns):\n",
            " #   Column                      Non-Null Count  Dtype  \n",
            "---  ------                      --------------  -----  \n",
            " 0   nct_id                      5059 non-null   object \n",
            " 1   title                       5059 non-null   object \n",
            " 2   acronym                     2191 non-null   object \n",
            " 3   other_ids                   5058 non-null   object \n",
            " 4   url                         5059 non-null   object \n",
            " 5   status                      5059 non-null   object \n",
            " 6   why_stopped                 185 non-null    object \n",
            " 7   hcq                         5059 non-null   object \n",
            " 8   has_dmc                     5059 non-null   object \n",
            " 9   funded_bys                  5059 non-null   object \n",
            " 10  sponsor_collaborators       5059 non-null   object \n",
            " 11  lead_sponsor                5059 non-null   object \n",
            " 12  collaborators               1754 non-null   object \n",
            " 13  study_type                  5059 non-null   object \n",
            " 14  phases                      2844 non-null   object \n",
            " 15  enrollment                  5027 non-null   float64\n",
            " 16  brief_summary               5059 non-null   object \n",
            " 17  detailed_description        3554 non-null   object \n",
            " 18  conditions                  5059 non-null   object \n",
            " 19  keywords                    2951 non-null   object \n",
            " 20  interventions               4268 non-null   object \n",
            " 21  intervention_details        4268 non-null   object \n",
            " 22  arm_details                 4167 non-null   object \n",
            " 23  arm_intervention_details    3853 non-null   object \n",
            " 24  outcome_measures            5026 non-null   object \n",
            " 25  start_date                  5027 non-null   object \n",
            " 26  primary_completion_date     5026 non-null   object \n",
            " 27  completion_date             5026 non-null   object \n",
            " 28  first_posted                5059 non-null   object \n",
            " 29  results_first_posted        25 non-null     object \n",
            " 30  last_update_posted          5059 non-null   object \n",
            " 31  nlm_download_date           5059 non-null   object \n",
            " 32  study_first_submitted_date  5059 non-null   object \n",
            " 33  has_expanded_access         5059 non-null   object \n",
            " 34  is_fda_regulated_drug       5059 non-null   object \n",
            " 35  is_fda_regulated_device     5059 non-null   object \n",
            " 36  is_unapproved_device        5059 non-null   object \n",
            " 37  locations                   4523 non-null   object \n",
            " 38  number_of_facilities        5059 non-null   int64  \n",
            " 39  has_us_facility             5059 non-null   object \n",
            " 40  has_single_facility         5059 non-null   object \n",
            " 41  study_design                5026 non-null   object \n",
            " 42  number_of_arms              2827 non-null   float64\n",
            " 43  number_of_groups            1340 non-null   float64\n",
            " 44  primary_purpose             2844 non-null   object \n",
            " 45  intervention_model          2844 non-null   object \n",
            " 46  observational_model         2182 non-null   object \n",
            " 47  allocation                  2342 non-null   object \n",
            " 48  masking                     2844 non-null   object \n",
            " 49  subject_masked              5059 non-null   object \n",
            " 50  caregiver_masked            5059 non-null   object \n",
            " 51  investigator_masked         5059 non-null   object \n",
            " 52  outcomes_assessor_masked    5059 non-null   object \n",
            " 53  adaptive_protocol           5059 non-null   object \n",
            " 54  master_protocol             5059 non-null   object \n",
            " 55  platform_protocol           5059 non-null   object \n",
            " 56  umbrella_protocol           5059 non-null   object \n",
            " 57  basket_protocol             5059 non-null   object \n",
            " 58  minimum_agey                4544 non-null   object \n",
            " 59  maximum_agey                1665 non-null   object \n",
            " 60  gender                      5058 non-null   object \n",
            " 61  gender_based                93 non-null     object \n",
            " 62  gender_description          63 non-null     object \n",
            " 63  healthy_volunteers          4698 non-null   object \n",
            " 64  population                  2183 non-null   object \n",
            " 65  criteria                    5059 non-null   object \n",
            " 66  study_results               5059 non-null   object \n",
            " 67  study_documents             137 non-null    object \n",
            " 68  Inclusion criteria          4621 non-null   object \n",
            " 69  Exclusion criteria          4754 non-null   object \n",
            "dtypes: float64(3), int64(1), object(66)\n",
            "memory usage: 2.7+ MB\n"
          ],
          "name": "stdout"
        }
      ]
    },
    {
      "cell_type": "code",
      "metadata": {
        "colab": {
          "base_uri": "https://localhost:8080/",
          "height": 419
        },
        "id": "c06kf5vHnlZO",
        "outputId": "24147484-8259-43c9-d985-711a55bf0553"
      },
      "source": [
        "trial_data.loc[:,['Inclusion criteria','Exclusion criteria' ]]\n",
        "#trial_data[['Inclusion criteria','Exclusion criteria']]"
      ],
      "execution_count": null,
      "outputs": [
        {
          "output_type": "execute_result",
          "data": {
            "text/html": [
              "<div>\n",
              "<style scoped>\n",
              "    .dataframe tbody tr th:only-of-type {\n",
              "        vertical-align: middle;\n",
              "    }\n",
              "\n",
              "    .dataframe tbody tr th {\n",
              "        vertical-align: top;\n",
              "    }\n",
              "\n",
              "    .dataframe thead th {\n",
              "        text-align: right;\n",
              "    }\n",
              "</style>\n",
              "<table border=\"1\" class=\"dataframe\">\n",
              "  <thead>\n",
              "    <tr style=\"text-align: right;\">\n",
              "      <th></th>\n",
              "      <th>Inclusion criteria</th>\n",
              "      <th>Exclusion criteria</th>\n",
              "    </tr>\n",
              "  </thead>\n",
              "  <tbody>\n",
              "    <tr>\n",
              "      <th>0</th>\n",
              "      <td>NaN</td>\n",
              "      <td>: - Patients with any active infection requiri...</td>\n",
              "    </tr>\n",
              "    <tr>\n",
              "      <th>1</th>\n",
              "      <td>NaN</td>\n",
              "      <td>NaN</td>\n",
              "    </tr>\n",
              "    <tr>\n",
              "      <th>2</th>\n",
              "      <td>NaN</td>\n",
              "      <td>NaN</td>\n",
              "    </tr>\n",
              "    <tr>\n",
              "      <th>3</th>\n",
              "      <td>- Patients with clinical diagnosis sepsis (inf...</td>\n",
              "      <td>: - Pregnancy - Chronic kidney failure - Renal...</td>\n",
              "    </tr>\n",
              "    <tr>\n",
              "      <th>4</th>\n",
              "      <td>Patients with Diabetes - Ages 18 and older - I...</td>\n",
              "      <td>: - Patients under the age of 18</td>\n",
              "    </tr>\n",
              "    <tr>\n",
              "      <th>...</th>\n",
              "      <td>...</td>\n",
              "      <td>...</td>\n",
              "    </tr>\n",
              "    <tr>\n",
              "      <th>5054</th>\n",
              "      <td>NaN</td>\n",
              "      <td>: * Patients who already scheduled an appointm...</td>\n",
              "    </tr>\n",
              "    <tr>\n",
              "      <th>5055</th>\n",
              "      <td>1. Hospitalized adult male or non-pregnant, no...</td>\n",
              "      <td>: 1. Participation in any other clinical trial...</td>\n",
              "    </tr>\n",
              "    <tr>\n",
              "      <th>5056</th>\n",
              "      <td>- African American - Unvaccinated for COVID-19...</td>\n",
              "      <td>: - Not African American - Receipt of COVID-19...</td>\n",
              "    </tr>\n",
              "    <tr>\n",
              "      <th>5057</th>\n",
              "      <td>1. Willing and able to provide written informe...</td>\n",
              "      <td>: 1. Participation in any other clinical trial...</td>\n",
              "    </tr>\n",
              "    <tr>\n",
              "      <th>5058</th>\n",
              "      <td>- Hispanic children, established patients of 2...</td>\n",
              "      <td>: - non-Hispanic children, families that scree...</td>\n",
              "    </tr>\n",
              "  </tbody>\n",
              "</table>\n",
              "<p>5059 rows × 2 columns</p>\n",
              "</div>"
            ],
            "text/plain": [
              "                                     Inclusion criteria                                 Exclusion criteria\n",
              "0                                                   NaN  : - Patients with any active infection requiri...\n",
              "1                                                   NaN                                                NaN\n",
              "2                                                   NaN                                                NaN\n",
              "3     - Patients with clinical diagnosis sepsis (inf...  : - Pregnancy - Chronic kidney failure - Renal...\n",
              "4     Patients with Diabetes - Ages 18 and older - I...                   : - Patients under the age of 18\n",
              "...                                                 ...                                                ...\n",
              "5054                                                NaN  : * Patients who already scheduled an appointm...\n",
              "5055  1. Hospitalized adult male or non-pregnant, no...  : 1. Participation in any other clinical trial...\n",
              "5056  - African American - Unvaccinated for COVID-19...  : - Not African American - Receipt of COVID-19...\n",
              "5057  1. Willing and able to provide written informe...  : 1. Participation in any other clinical trial...\n",
              "5058  - Hispanic children, established patients of 2...  : - non-Hispanic children, families that scree...\n",
              "\n",
              "[5059 rows x 2 columns]"
            ]
          },
          "metadata": {
            "tags": []
          },
          "execution_count": 20
        }
      ]
    },
    {
      "cell_type": "code",
      "metadata": {
        "colab": {
          "base_uri": "https://localhost:8080/"
        },
        "id": "lr4FEXiteqBg",
        "outputId": "631b9dca-c0d4-446c-890a-e4067548aa1f"
      },
      "source": [
        "print(trial_data.isnull().values.sum())"
      ],
      "execution_count": null,
      "outputs": [
        {
          "output_type": "stream",
          "text": [
            "67286\n"
          ],
          "name": "stdout"
        }
      ]
    },
    {
      "cell_type": "markdown",
      "metadata": {
        "id": "LE3UKZ2oaE7p"
      },
      "source": [
        "##Data Pre-processing: Clinical Trials Data"
      ]
    },
    {
      "cell_type": "code",
      "metadata": {
        "colab": {
          "base_uri": "https://localhost:8080/"
        },
        "id": "isnBr13C6MVF",
        "outputId": "29ae5bbb-ad76-4c7d-bcb0-8c3a98c5d8b9"
      },
      "source": [
        "trial_data.info()"
      ],
      "execution_count": null,
      "outputs": [
        {
          "output_type": "stream",
          "text": [
            "<class 'pandas.core.frame.DataFrame'>\n",
            "RangeIndex: 5059 entries, 0 to 5058\n",
            "Data columns (total 70 columns):\n",
            " #   Column                      Non-Null Count  Dtype  \n",
            "---  ------                      --------------  -----  \n",
            " 0   nct_id                      5059 non-null   object \n",
            " 1   title                       5059 non-null   object \n",
            " 2   acronym                     2191 non-null   object \n",
            " 3   other_ids                   5058 non-null   object \n",
            " 4   url                         5059 non-null   object \n",
            " 5   status                      5059 non-null   object \n",
            " 6   why_stopped                 185 non-null    object \n",
            " 7   hcq                         5059 non-null   object \n",
            " 8   has_dmc                     5059 non-null   object \n",
            " 9   funded_bys                  5059 non-null   object \n",
            " 10  sponsor_collaborators       5059 non-null   object \n",
            " 11  lead_sponsor                5059 non-null   object \n",
            " 12  collaborators               1754 non-null   object \n",
            " 13  study_type                  5059 non-null   object \n",
            " 14  phases                      2844 non-null   object \n",
            " 15  enrollment                  5027 non-null   float64\n",
            " 16  brief_summary               5059 non-null   object \n",
            " 17  detailed_description        3554 non-null   object \n",
            " 18  conditions                  5059 non-null   object \n",
            " 19  keywords                    2951 non-null   object \n",
            " 20  interventions               4268 non-null   object \n",
            " 21  intervention_details        4268 non-null   object \n",
            " 22  arm_details                 4167 non-null   object \n",
            " 23  arm_intervention_details    3853 non-null   object \n",
            " 24  outcome_measures            5026 non-null   object \n",
            " 25  start_date                  5027 non-null   object \n",
            " 26  primary_completion_date     5026 non-null   object \n",
            " 27  completion_date             5026 non-null   object \n",
            " 28  first_posted                5059 non-null   object \n",
            " 29  results_first_posted        25 non-null     object \n",
            " 30  last_update_posted          5059 non-null   object \n",
            " 31  nlm_download_date           5059 non-null   object \n",
            " 32  study_first_submitted_date  5059 non-null   object \n",
            " 33  has_expanded_access         5059 non-null   object \n",
            " 34  is_fda_regulated_drug       5059 non-null   object \n",
            " 35  is_fda_regulated_device     5059 non-null   object \n",
            " 36  is_unapproved_device        5059 non-null   object \n",
            " 37  locations                   4523 non-null   object \n",
            " 38  number_of_facilities        5059 non-null   int64  \n",
            " 39  has_us_facility             5059 non-null   object \n",
            " 40  has_single_facility         5059 non-null   object \n",
            " 41  study_design                5026 non-null   object \n",
            " 42  number_of_arms              2827 non-null   float64\n",
            " 43  number_of_groups            1340 non-null   float64\n",
            " 44  primary_purpose             2844 non-null   object \n",
            " 45  intervention_model          2844 non-null   object \n",
            " 46  observational_model         2182 non-null   object \n",
            " 47  allocation                  2342 non-null   object \n",
            " 48  masking                     2844 non-null   object \n",
            " 49  subject_masked              5059 non-null   object \n",
            " 50  caregiver_masked            5059 non-null   object \n",
            " 51  investigator_masked         5059 non-null   object \n",
            " 52  outcomes_assessor_masked    5059 non-null   object \n",
            " 53  adaptive_protocol           5059 non-null   object \n",
            " 54  master_protocol             5059 non-null   object \n",
            " 55  platform_protocol           5059 non-null   object \n",
            " 56  umbrella_protocol           5059 non-null   object \n",
            " 57  basket_protocol             5059 non-null   object \n",
            " 58  minimum_agey                4544 non-null   object \n",
            " 59  maximum_agey                1665 non-null   object \n",
            " 60  gender                      5058 non-null   object \n",
            " 61  gender_based                93 non-null     object \n",
            " 62  gender_description          63 non-null     object \n",
            " 63  healthy_volunteers          4698 non-null   object \n",
            " 64  population                  2183 non-null   object \n",
            " 65  criteria                    5059 non-null   object \n",
            " 66  study_results               5059 non-null   object \n",
            " 67  study_documents             137 non-null    object \n",
            " 68  Inclusion criteria          4621 non-null   object \n",
            " 69  Exclusion criteria          4754 non-null   object \n",
            "dtypes: float64(3), int64(1), object(66)\n",
            "memory usage: 2.7+ MB\n"
          ],
          "name": "stdout"
        }
      ]
    },
    {
      "cell_type": "code",
      "metadata": {
        "id": "NEtExMKGx81e"
      },
      "source": [
        "trial_data.drop(columns = ['acronym',\n",
        "                         'other_ids',\n",
        "                         'url',\n",
        "                         'hcq',\n",
        "                         'why_stopped',\n",
        "                         'has_dmc',\n",
        "                         'funded_bys',\n",
        "                         'sponsor_collaborators',\n",
        "                         'collaborators',\n",
        "                         'study_type',\n",
        "                         'phases',\n",
        "                         'enrollment',\n",
        "                         'detailed_description',\n",
        "                         'conditions',\n",
        "                         'keywords',\n",
        "                         'interventions',\n",
        "                         'intervention_details',\n",
        "                         'arm_details',\n",
        "                         'arm_intervention_details',\n",
        "                         'outcome_measures',\n",
        "                         'primary_completion_date',\n",
        "                         'first_posted',\n",
        "                         'results_first_posted',\n",
        "                         'last_update_posted',\n",
        "                         'nlm_download_date', \n",
        "                         'study_first_submitted_date', \n",
        "                         'has_expanded_access', \n",
        "                         'is_fda_regulated_drug',\n",
        "                         'is_fda_regulated_device',\n",
        "                         'is_unapproved_device', \n",
        "                         'locations', \n",
        "                         'number_of_facilities',\n",
        "                         'has_us_facility',\n",
        "                         'has_single_facility',\n",
        "                         'study_design', \n",
        "                         'number_of_arms',\n",
        "                         'number_of_groups',\n",
        "                         'primary_purpose',\n",
        "                         'intervention_model',\n",
        "                         'observational_model',\n",
        "                         'allocation',\n",
        "                         'masking',\n",
        "                         'subject_masked',\n",
        "                         'caregiver_masked',\n",
        "                         'investigator_masked',\n",
        "                         'outcomes_assessor_masked',\n",
        "                         'adaptive_protocol',\n",
        "                         'master_protocol',\n",
        "                         'platform_protocol',\n",
        "                         'umbrella_protocol',\n",
        "                         'basket_protocol',\n",
        "                         'minimum_agey',\n",
        "                         'maximum_agey',\n",
        "                         'gender_based',\n",
        "                         'gender_description',\n",
        "                         'healthy_volunteers',\n",
        "                         'population', \n",
        "                         'study_results',\n",
        "                         'study_documents'\n",
        "                         ], inplace=True)"
      ],
      "execution_count": null,
      "outputs": []
    },
    {
      "cell_type": "code",
      "metadata": {
        "colab": {
          "base_uri": "https://localhost:8080/",
          "height": 544
        },
        "id": "lSpJZNXBSXxP",
        "outputId": "ef702a3e-baff-4339-abe9-cef62d7f8461"
      },
      "source": [
        "trial_data.head()"
      ],
      "execution_count": null,
      "outputs": [
        {
          "output_type": "execute_result",
          "data": {
            "text/html": [
              "<div>\n",
              "<style scoped>\n",
              "    .dataframe tbody tr th:only-of-type {\n",
              "        vertical-align: middle;\n",
              "    }\n",
              "\n",
              "    .dataframe tbody tr th {\n",
              "        vertical-align: top;\n",
              "    }\n",
              "\n",
              "    .dataframe thead th {\n",
              "        text-align: right;\n",
              "    }\n",
              "</style>\n",
              "<table border=\"1\" class=\"dataframe\">\n",
              "  <thead>\n",
              "    <tr style=\"text-align: right;\">\n",
              "      <th></th>\n",
              "      <th>nct_id</th>\n",
              "      <th>title</th>\n",
              "      <th>status</th>\n",
              "      <th>lead_sponsor</th>\n",
              "      <th>brief_summary</th>\n",
              "      <th>start_date</th>\n",
              "      <th>completion_date</th>\n",
              "      <th>gender</th>\n",
              "      <th>criteria</th>\n",
              "      <th>Inclusion criteria</th>\n",
              "      <th>Exclusion criteria</th>\n",
              "    </tr>\n",
              "  </thead>\n",
              "  <tbody>\n",
              "    <tr>\n",
              "      <th>0</th>\n",
              "      <td>NCT00571389</td>\n",
              "      <td>Isolation and Culture of Immune Cells and Circ...</td>\n",
              "      <td>Recruiting</td>\n",
              "      <td>BioCytics, Inc.[Industry]</td>\n",
              "      <td>Primary Objective: This is a study to investig...</td>\n",
              "      <td>2007-11-30</td>\n",
              "      <td>2025-02-28</td>\n",
              "      <td>All</td>\n",
              "      <td>Inclusion Criteria for Biospecimen(s) collecti...</td>\n",
              "      <td>NaN</td>\n",
              "      <td>: - Patients with any active infection requiri...</td>\n",
              "    </tr>\n",
              "    <tr>\n",
              "      <th>1</th>\n",
              "      <td>NCT01306084</td>\n",
              "      <td>Viral Infections in Healthy and Immunocompromi...</td>\n",
              "      <td>Recruiting</td>\n",
              "      <td>National Institute of Allergy and Infectious D...</td>\n",
              "      <td>Background: - Viral infections are an importan...</td>\n",
              "      <td>2011-03-15</td>\n",
              "      <td>NaN</td>\n",
              "      <td>All</td>\n",
              "      <td>- INCLUSION CRITERIA: 1. The protocol is open ...</td>\n",
              "      <td>NaN</td>\n",
              "      <td>NaN</td>\n",
              "    </tr>\n",
              "    <tr>\n",
              "      <th>2</th>\n",
              "      <td>NCT02735707</td>\n",
              "      <td>Randomized, Embedded, Multifactorial Adaptive ...</td>\n",
              "      <td>Recruiting</td>\n",
              "      <td>MJM Bonten[Other]</td>\n",
              "      <td>REMAP-CAP is a randomised, embedded, multifact...</td>\n",
              "      <td>2016-04-11</td>\n",
              "      <td>2023-12-31</td>\n",
              "      <td>All</td>\n",
              "      <td>REMAP-CAP PLATFORM INCLUSION CRITERIA: 1. Adul...</td>\n",
              "      <td>NaN</td>\n",
              "      <td>NaN</td>\n",
              "    </tr>\n",
              "    <tr>\n",
              "      <th>3</th>\n",
              "      <td>NCT02765191</td>\n",
              "      <td>MR-Evaluation of Renal Function In Septic Pati...</td>\n",
              "      <td>Recruiting</td>\n",
              "      <td>Uppsala University[Other]</td>\n",
              "      <td>A study of renal blood flow and renal oxygenat...</td>\n",
              "      <td>2016-04-30</td>\n",
              "      <td>2025-10-31</td>\n",
              "      <td>All</td>\n",
              "      <td>Inclusion Criteria: - Patients with clinical d...</td>\n",
              "      <td>- Patients with clinical diagnosis sepsis (inf...</td>\n",
              "      <td>: - Pregnancy - Chronic kidney failure - Renal...</td>\n",
              "    </tr>\n",
              "    <tr>\n",
              "      <th>4</th>\n",
              "      <td>NCT02788903</td>\n",
              "      <td>A Patient-Centered PaTH to Addressing Diabetes</td>\n",
              "      <td>Active, not recruiting</td>\n",
              "      <td>Milton S. Hershey Medical Center[Other]</td>\n",
              "      <td>The overarching goal of this proposal is to un...</td>\n",
              "      <td>2016-03-31</td>\n",
              "      <td>2021-05-31</td>\n",
              "      <td>All</td>\n",
              "      <td>Inclusion Criteria: Patients with Diabetes - A...</td>\n",
              "      <td>Patients with Diabetes - Ages 18 and older - I...</td>\n",
              "      <td>: - Patients under the age of 18</td>\n",
              "    </tr>\n",
              "  </tbody>\n",
              "</table>\n",
              "</div>"
            ],
            "text/plain": [
              "        nct_id  ...                                 Exclusion criteria\n",
              "0  NCT00571389  ...  : - Patients with any active infection requiri...\n",
              "1  NCT01306084  ...                                                NaN\n",
              "2  NCT02735707  ...                                                NaN\n",
              "3  NCT02765191  ...  : - Pregnancy - Chronic kidney failure - Renal...\n",
              "4  NCT02788903  ...                   : - Patients under the age of 18\n",
              "\n",
              "[5 rows x 11 columns]"
            ]
          },
          "metadata": {
            "tags": []
          },
          "execution_count": 25
        }
      ]
    },
    {
      "cell_type": "code",
      "metadata": {
        "id": "7zDX4CPiDWFG"
      },
      "source": [
        "new_trial_data = trial_data.dropna(how = 'any')"
      ],
      "execution_count": null,
      "outputs": []
    },
    {
      "cell_type": "code",
      "metadata": {
        "colab": {
          "base_uri": "https://localhost:8080/"
        },
        "id": "vDKStIrLbTnI",
        "outputId": "68771ddd-8b18-42f6-e82e-752e172057e7"
      },
      "source": [
        "new_trial_data.info()"
      ],
      "execution_count": null,
      "outputs": [
        {
          "output_type": "stream",
          "text": [
            "<class 'pandas.core.frame.DataFrame'>\n",
            "Int64Index: 4593 entries, 3 to 5058\n",
            "Data columns (total 11 columns):\n",
            " #   Column              Non-Null Count  Dtype \n",
            "---  ------              --------------  ----- \n",
            " 0   nct_id              4593 non-null   object\n",
            " 1   title               4593 non-null   object\n",
            " 2   status              4593 non-null   object\n",
            " 3   lead_sponsor        4593 non-null   object\n",
            " 4   brief_summary       4593 non-null   object\n",
            " 5   start_date          4593 non-null   object\n",
            " 6   completion_date     4593 non-null   object\n",
            " 7   gender              4593 non-null   object\n",
            " 8   criteria            4593 non-null   object\n",
            " 9   Inclusion criteria  4593 non-null   object\n",
            " 10  Exclusion criteria  4593 non-null   object\n",
            "dtypes: object(11)\n",
            "memory usage: 430.6+ KB\n"
          ],
          "name": "stdout"
        }
      ]
    },
    {
      "cell_type": "code",
      "metadata": {
        "colab": {
          "base_uri": "https://localhost:8080/",
          "height": 1000
        },
        "id": "kB7kGwhDKYZ3",
        "outputId": "a772d08b-65ed-45c4-c45a-a321f89c38cd"
      },
      "source": [
        "new_trial_data.head(10).style.hide_index()"
      ],
      "execution_count": null,
      "outputs": [
        {
          "output_type": "execute_result",
          "data": {
            "text/html": [
              "<style  type=\"text/css\" >\n",
              "</style><table id=\"T_86791974_a67f_11eb_b2f0_0242ac1c0002\" ><thead>    <tr>        <th class=\"col_heading level0 col0\" >nct_id</th>        <th class=\"col_heading level0 col1\" >title</th>        <th class=\"col_heading level0 col2\" >status</th>        <th class=\"col_heading level0 col3\" >lead_sponsor</th>        <th class=\"col_heading level0 col4\" >brief_summary</th>        <th class=\"col_heading level0 col5\" >start_date</th>        <th class=\"col_heading level0 col6\" >completion_date</th>        <th class=\"col_heading level0 col7\" >gender</th>        <th class=\"col_heading level0 col8\" >criteria</th>        <th class=\"col_heading level0 col9\" >Inclusion criteria</th>        <th class=\"col_heading level0 col10\" >Exclusion criteria</th>    </tr></thead><tbody>\n",
              "                <tr>\n",
              "                                <td id=\"T_86791974_a67f_11eb_b2f0_0242ac1c0002row0_col0\" class=\"data row0 col0\" >NCT02765191</td>\n",
              "                        <td id=\"T_86791974_a67f_11eb_b2f0_0242ac1c0002row0_col1\" class=\"data row0 col1\" >MR-Evaluation of Renal Function In Septic Patients</td>\n",
              "                        <td id=\"T_86791974_a67f_11eb_b2f0_0242ac1c0002row0_col2\" class=\"data row0 col2\" >Recruiting</td>\n",
              "                        <td id=\"T_86791974_a67f_11eb_b2f0_0242ac1c0002row0_col3\" class=\"data row0 col3\" >Uppsala University[Other]</td>\n",
              "                        <td id=\"T_86791974_a67f_11eb_b2f0_0242ac1c0002row0_col4\" class=\"data row0 col4\" >A study of renal blood flow and renal oxygenation measured by magnetic resonance after a standardized fluid challenge in critically ill, resuscitated, patients with sepsis due to COVID-19 or other agents.</td>\n",
              "                        <td id=\"T_86791974_a67f_11eb_b2f0_0242ac1c0002row0_col5\" class=\"data row0 col5\" >2016-04-30</td>\n",
              "                        <td id=\"T_86791974_a67f_11eb_b2f0_0242ac1c0002row0_col6\" class=\"data row0 col6\" >2025-10-31</td>\n",
              "                        <td id=\"T_86791974_a67f_11eb_b2f0_0242ac1c0002row0_col7\" class=\"data row0 col7\" >All</td>\n",
              "                        <td id=\"T_86791974_a67f_11eb_b2f0_0242ac1c0002row0_col8\" class=\"data row0 col8\" >Inclusion Criteria: - Patients with clinical diagnosis sepsis (infection and organ dysfuncion) treated in intensive care. - Manifest Acute kidney injury (AKI) or risk of AKI. - 18 years of age or older Exclusion Criteria: - Pregnancy - Chronic kidney failure - Renal Replacement Therapy - Instability in vital parameters to a degree where MRI is not feasible - Contraindications for MRI (implants, coils, pacemakers, etc)</td>\n",
              "                        <td id=\"T_86791974_a67f_11eb_b2f0_0242ac1c0002row0_col9\" class=\"data row0 col9\" >- Patients with clinical diagnosis sepsis (infection and organ dysfuncion) treated in intensive care. - Manifest Acute kidney injury (AKI) or risk of AKI. - 18 years of age or older</td>\n",
              "                        <td id=\"T_86791974_a67f_11eb_b2f0_0242ac1c0002row0_col10\" class=\"data row0 col10\" >: - Pregnancy - Chronic kidney failure - Renal Replacement Therapy - Instability in vital parameters to a degree where MRI is not feasible - Contraindications for MRI (implants, coils, pacemakers, etc)</td>\n",
              "            </tr>\n",
              "            <tr>\n",
              "                                <td id=\"T_86791974_a67f_11eb_b2f0_0242ac1c0002row1_col0\" class=\"data row1 col0\" >NCT02788903</td>\n",
              "                        <td id=\"T_86791974_a67f_11eb_b2f0_0242ac1c0002row1_col1\" class=\"data row1 col1\" >A Patient-Centered PaTH to Addressing Diabetes</td>\n",
              "                        <td id=\"T_86791974_a67f_11eb_b2f0_0242ac1c0002row1_col2\" class=\"data row1 col2\" >Active, not recruiting</td>\n",
              "                        <td id=\"T_86791974_a67f_11eb_b2f0_0242ac1c0002row1_col3\" class=\"data row1 col3\" >Milton S. Hershey Medical Center[Other]</td>\n",
              "                        <td id=\"T_86791974_a67f_11eb_b2f0_0242ac1c0002row1_col4\" class=\"data row1 col4\" >The overarching goal of this proposal is to understand the comparative effectiveness of obesity counseling as covered by CMS in improving weight loss for adults either with or at high risk of type 2 diabetes. CMS and most insurers now include obesity screening and counseling benefits, with no cost sharing to patients. Since overweight patients are at highest risk for diabetes, improved weight management services could prevent diabetes and its negative health outcomes. Beneficiaries with obesity are eligible for up to 20 face-to-face visits for weight counseling in the primary care setting. The investigators propose comparing weight and diabetes outcomes in three states using EHR and claims data before and after this policy was implemented by leveraging the novel infrastructure of the Patient-Centered Outcomes Research Institute-funded PaTH Clinical Data Research Network. Following developments during the COVID-19 pandemic, the investigators further plan to leverage our study infrastructure across five health systems to understand the comparative effectiveness of telemedicine approaches for providing outpatient care for patients with or at risk of type 2 diabetes and how these approaches impact the subgroup of patients with COVID-19.</td>\n",
              "                        <td id=\"T_86791974_a67f_11eb_b2f0_0242ac1c0002row1_col5\" class=\"data row1 col5\" >2016-03-31</td>\n",
              "                        <td id=\"T_86791974_a67f_11eb_b2f0_0242ac1c0002row1_col6\" class=\"data row1 col6\" >2021-05-31</td>\n",
              "                        <td id=\"T_86791974_a67f_11eb_b2f0_0242ac1c0002row1_col7\" class=\"data row1 col7\" >All</td>\n",
              "                        <td id=\"T_86791974_a67f_11eb_b2f0_0242ac1c0002row1_col8\" class=\"data row1 col8\" >Inclusion Criteria: Patients with Diabetes - Ages 18 and older - Indication of Type 2 Diabetes as defined using a clinically validated algorithm: type 2 diabetes mellitus on the problem list, diabetes-specific medications, hemoglobin A1c (HbA1c) results > 6.5%, or one inpatient diagnosis code or two out-patient diagnosis codes for type 2 diabetes (ICD-9 codes 250.xx) - patients who have either: (1) visited a primary care doctor from one of the PaTH health systems in the past 3 years (since January 1, 2012), or (2) for whom claims data are available Patients with Pre-Diabetes (At risk): - Ages 18 and older - BMI > 25 kg/m2 - patients who have either: (1) visited a primary care doctor from one of the PaTH health systems in the past 3 years (since January 1, 2012), or (2) for whom claims data are available Patients with COVID-19: - Ages 18 and older - Patients with a diagnosis of COVID-19 Exclusion Criteria: - Patients under the age of 18</td>\n",
              "                        <td id=\"T_86791974_a67f_11eb_b2f0_0242ac1c0002row1_col9\" class=\"data row1 col9\" >Patients with Diabetes - Ages 18 and older - Indication of Type 2 Diabetes as defined using a clinically validated algorithm: type 2 diabetes mellitus on the problem list, diabetes-specific medications, hemoglobin A1c (HbA1c) results > 6.5%, or one inpatient diagnosis code or two out-patient diagnosis codes for type 2 diabetes (ICD-9 codes 250.xx) - patients who have either: (1) visited a primary care doctor from one of the PaTH health systems in the past 3 years (since January 1, 2012), or (2) for whom claims data are available Patients with Pre-Diabetes (At risk): - Ages 18 and older - BMI > 25 kg/m2 - patients who have either: (1) visited a primary care doctor from one of the PaTH health systems in the past 3 years (since January 1, 2012), or (2) for whom claims data are available Patients with COVID-19: - Ages 18 and older - Patients with a diagnosis of COVID-19</td>\n",
              "                        <td id=\"T_86791974_a67f_11eb_b2f0_0242ac1c0002row1_col10\" class=\"data row1 col10\" >: - Patients under the age of 18</td>\n",
              "            </tr>\n",
              "            <tr>\n",
              "                                <td id=\"T_86791974_a67f_11eb_b2f0_0242ac1c0002row2_col0\" class=\"data row2 col0\" >NCT03042143</td>\n",
              "                        <td id=\"T_86791974_a67f_11eb_b2f0_0242ac1c0002row2_col1\" class=\"data row2 col1\" >Repair of Acute Respiratory Distress Syndrome by Stromal Cell Administration (REALIST) (COVID-19)</td>\n",
              "                        <td id=\"T_86791974_a67f_11eb_b2f0_0242ac1c0002row2_col2\" class=\"data row2 col2\" >Recruiting</td>\n",
              "                        <td id=\"T_86791974_a67f_11eb_b2f0_0242ac1c0002row2_col3\" class=\"data row2 col3\" >Belfast Health and Social Care Trust[Other]</td>\n",
              "                        <td id=\"T_86791974_a67f_11eb_b2f0_0242ac1c0002row2_col4\" class=\"data row2 col4\" >Acute Respiratory Distress Syndrome (ARDS) causes the lungs to fail due to the collection of fluid in the lungs (pulmonary oedema). ARDS is common in severely ill patients in Intensive Care Units and is associated with a high mortality and a high morbidity in those who survive. ARDS occurs in approximately 20% case of COVID-19 and respiratory failure is the leading cause of mortality. There is a large economic burden with direct healthcare costs, but also indirectly due to the impact on the carer and patient through the patients inability to return to full time employment. There is little evidence for effective drug (pharmacological) treatment for ARDS. There is increasing information that mesenchymal stem cells (MSCs) might be important in treating ARDS. REALIST will investigate if a single infusion of MSCs will help in the treatment of ARDS. The first step will be to first of all determine what dose of MSCs is safe and then divide patients suffering from ARDS into two groups, one of which will get MSCs and the other a harmless dummy (or placebo) infusion, who will then be followed up to determine if lung function improves. If effective this may lead to further research to determine if MSCs are effective in patients with ARDS.</td>\n",
              "                        <td id=\"T_86791974_a67f_11eb_b2f0_0242ac1c0002row2_col5\" class=\"data row2 col5\" >2019-01-07</td>\n",
              "                        <td id=\"T_86791974_a67f_11eb_b2f0_0242ac1c0002row2_col6\" class=\"data row2 col6\" >2022-10-31</td>\n",
              "                        <td id=\"T_86791974_a67f_11eb_b2f0_0242ac1c0002row2_col7\" class=\"data row2 col7\" >All</td>\n",
              "                        <td id=\"T_86791974_a67f_11eb_b2f0_0242ac1c0002row2_col8\" class=\"data row2 col8\" >Inclusion Criteria: 1. ARDS as defined by the Berlin definition. 1. Onset within 1 week of identified insult. 2. Within the same 24-hour time period i. Hypoxic respiratory failure (PaO2/ FiO2 ratio ≤ 27kPa on PEEP ≥ 5 cmH20) ii. Bilateral infiltrates on chest X-ray consistent with pulmonary oedema not explained by another pulmonary pathology iii. Respiratory failure not fully explained by cardiac failure or fluid overload 2. Patient is receiving invasive mechanical ventilation 3. COVID-19 based on clinical diagnosis or PCR result Exclusion Criteria: 1. More than 72 hours from the onset of ARDS. 2. Age < 16 years. 3. Patient is known to be pregnant 4. Major trauma in the prior 5 days. 5. Presence of any active malignancy (other than non-melanoma skin cancer) that required treatment within the last year. 6. WHO Class III or IV pulmonary hypertension. 7. Venous thromboembolism currently receiving anti-coagulation or within the past 3 months 8. Currently receiving extracorporeal life support (ECLS). 9. Severe chronic liver disease with Child-Pugh score > 12. 10. DNAR (Do Not Attempt Resuscitation) order in place. 11. Treatment withdrawal imminent within 24 hours. 12. Consent declined. 13. Prisoners. 14. Non-English speaking patients or those who do not adequately understand verbal or written information unless an interpreter is available. 15. Previously enrolled in the REALIST trial.</td>\n",
              "                        <td id=\"T_86791974_a67f_11eb_b2f0_0242ac1c0002row2_col9\" class=\"data row2 col9\" >1. ARDS as defined by the Berlin definition. 1. Onset within 1 week of identified insult. 2. Within the same 24-hour time period i. Hypoxic respiratory failure (PaO2/ FiO2 ratio ≤ 27kPa on PEEP ≥ 5 cmH20) ii. Bilateral infiltrates on chest X-ray consistent with pulmonary oedema not explained by another pulmonary pathology iii. Respiratory failure not fully explained by cardiac failure or fluid overload 2. Patient is receiving invasive mechanical ventilation 3. COVID-19 based on clinical diagnosis or PCR result</td>\n",
              "                        <td id=\"T_86791974_a67f_11eb_b2f0_0242ac1c0002row2_col10\" class=\"data row2 col10\" >: 1. More than 72 hours from the onset of ARDS. 2. Age < 16 years. 3. Patient is known to be pregnant 4. Major trauma in the prior 5 days. 5. Presence of any active malignancy (other than non-melanoma skin cancer) that required treatment within the last year. 6. WHO Class III or IV pulmonary hypertension. 7. Venous thromboembolism currently receiving anti-coagulation or within the past 3 months 8. Currently receiving extracorporeal life support (ECLS). 9. Severe chronic liver disease with Child-Pugh score > 12. 10. DNAR (Do Not Attempt Resuscitation) order in place. 11. Treatment withdrawal imminent within 24 hours. 12. Consent declined. 13. Prisoners. 14. Non-English speaking patients or those who do not adequately understand verbal or written information unless an interpreter is available. 15. Previously enrolled in the REALIST trial.</td>\n",
              "            </tr>\n",
              "            <tr>\n",
              "                                <td id=\"T_86791974_a67f_11eb_b2f0_0242ac1c0002row3_col0\" class=\"data row3 col0\" >NCT03188796</td>\n",
              "                        <td id=\"T_86791974_a67f_11eb_b2f0_0242ac1c0002row3_col1\" class=\"data row3 col1\" >The VITDALIZE Study: Effect of High-dose Vitamin D3 on 28-day Mortality in Adult Critically Ill Patients</td>\n",
              "                        <td id=\"T_86791974_a67f_11eb_b2f0_0242ac1c0002row3_col2\" class=\"data row3 col2\" >Recruiting</td>\n",
              "                        <td id=\"T_86791974_a67f_11eb_b2f0_0242ac1c0002row3_col3\" class=\"data row3 col3\" >Medical University of Graz[Other]</td>\n",
              "                        <td id=\"T_86791974_a67f_11eb_b2f0_0242ac1c0002row3_col4\" class=\"data row3 col4\" >In the VITdAL-ICU trial using a large oral dose of vitamin D3 in 480 adult critically ill patients, there was no benefit regarding the primary endpoint hospital length of stay. However, the predefined subgroup with severe vitamin D deficiency (25(OH)D ≤ 12ng/ml) had significantly lower 28-day mortality (36.3% placebo vs. 20.4% vitamin D group, hazard ratio (HR) 0.52 (0.30-0.89), number needed to treat = 6). Therefore, high-dose vitamin D3 in a population of severely vitamin D deficient critically ill patients is a promising and inexpensive intervention that requires confirmatory multicenter studies. To date, only 7 interventions (e.g. noninvasive ventilation or prone positioning) have ever demonstrated mortality benefit for Intensive Care Unit (ICU) patients in multicenter trials. In case of benefit, vitamin D treatment in critically ill patients could be immediately implemented worldwide.</td>\n",
              "                        <td id=\"T_86791974_a67f_11eb_b2f0_0242ac1c0002row3_col5\" class=\"data row3 col5\" >2017-10-10</td>\n",
              "                        <td id=\"T_86791974_a67f_11eb_b2f0_0242ac1c0002row3_col6\" class=\"data row3 col6\" >2023-02-28</td>\n",
              "                        <td id=\"T_86791974_a67f_11eb_b2f0_0242ac1c0002row3_col7\" class=\"data row3 col7\" >All</td>\n",
              "                        <td id=\"T_86791974_a67f_11eb_b2f0_0242ac1c0002row3_col8\" class=\"data row3 col8\" >Inclusion Criteria: - ≥18 years - Anticipated ICU stay ≥ 48 hours - Admission to ICU ≤ 72 hours before screening - Severe vitamin D deficiency (≤12 ng/ml or undetectable) Exclusion Criteria: - Severe gastrointestinal dysfunction (> 400 ml residual volume)/unable to take study medication - Do not resuscitate (DNR) order/imminent death - hypercalcemia - known recent nephrolithiasis, active tuberculosis or sarcoidosis - pregnancy/lactation - not deemed appropriate by study team/physician</td>\n",
              "                        <td id=\"T_86791974_a67f_11eb_b2f0_0242ac1c0002row3_col9\" class=\"data row3 col9\" >- ≥18 years - Anticipated ICU stay ≥ 48 hours - Admission to ICU ≤ 72 hours before screening - Severe vitamin D deficiency (≤12 ng/ml or undetectable)</td>\n",
              "                        <td id=\"T_86791974_a67f_11eb_b2f0_0242ac1c0002row3_col10\" class=\"data row3 col10\" >: - Severe gastrointestinal dysfunction (> 400 ml residual volume)/unable to take study medication - Do not resuscitate (DNR) order/imminent death - hypercalcemia - known recent nephrolithiasis, active tuberculosis or sarcoidosis - pregnancy/lactation - not deemed appropriate by study team/physician</td>\n",
              "            </tr>\n",
              "            <tr>\n",
              "                                <td id=\"T_86791974_a67f_11eb_b2f0_0242ac1c0002row4_col0\" class=\"data row4 col0\" >NCT03226886</td>\n",
              "                        <td id=\"T_86791974_a67f_11eb_b2f0_0242ac1c0002row4_col1\" class=\"data row4 col1\" >TRACERx Renal CAPTURE Sub-study</td>\n",
              "                        <td id=\"T_86791974_a67f_11eb_b2f0_0242ac1c0002row4_col2\" class=\"data row4 col2\" >Recruiting</td>\n",
              "                        <td id=\"T_86791974_a67f_11eb_b2f0_0242ac1c0002row4_col3\" class=\"data row4 col3\" >Royal Marsden NHS Foundation Trust[Other]</td>\n",
              "                        <td id=\"T_86791974_a67f_11eb_b2f0_0242ac1c0002row4_col4\" class=\"data row4 col4\" >TRACERx Renal: This is a translational study, which, aims to develop prognostic and predictive biomarkers for patients with renal cell carcinoma (RCC). CAPTURE Sub-study: Covid-19 antiviral response in a pan-tumour immune monitoring study</td>\n",
              "                        <td id=\"T_86791974_a67f_11eb_b2f0_0242ac1c0002row4_col5\" class=\"data row4 col5\" >2012-02-05</td>\n",
              "                        <td id=\"T_86791974_a67f_11eb_b2f0_0242ac1c0002row4_col6\" class=\"data row4 col6\" >2023-09-01</td>\n",
              "                        <td id=\"T_86791974_a67f_11eb_b2f0_0242ac1c0002row4_col7\" class=\"data row4 col7\" >All</td>\n",
              "                        <td id=\"T_86791974_a67f_11eb_b2f0_0242ac1c0002row4_col8\" class=\"data row4 col8\" >TRACERx Renal Inclusion Criteria: - Age 18- years or older - Patients with histopathologically confirmed renal cell carcinoma, or suspected renal cell carcinoma, proceeding to neoadjuvant therapy and/or nephrectomy/metastasectomy, or identified as having progressive disease - Or in patients undergoing nephrectomy for non-malignant disease - Medical and/or surgical management in accordance with national and/or local guidelines - Written informed consent Exclusion Criteria: - Any concomitant medical or psychiatric problems which, in the opinion of the investigator, would prevent completion of treatment or follow-up - Lack of adequate tissue CAPTURE Inclusion criteria - Documented informed consent - Age 18 years or older - Confirmed cancer diagnosis (irrespective of cancer type, disease burden or treatment) - Group A: Suspected infection with SARS-CoV-2 or positive test for SARS-CoV-2 - Group B: no clinical indication to test for SARS-CoV-2 (by current Trust guidelines*) or tested negative for SARS-CoV-2 - Group C: Volunteers without cancer with SARS-CoV-2 (symptomatic and asymptomatic) and those without clinical indication (current national guidelines*) for SARS-CoV-2 testing or tested negative for SARS-CoV-2 Exclusion criteria • Medical or psychological condition that would preclude informed consent</td>\n",
              "                        <td id=\"T_86791974_a67f_11eb_b2f0_0242ac1c0002row4_col9\" class=\"data row4 col9\" >- Age 18- years or older - Patients with histopathologically confirmed renal cell carcinoma, or suspected renal cell carcinoma, proceeding to neoadjuvant therapy and/or nephrectomy/metastasectomy, or identified as having progressive disease - Or in patients undergoing nephrectomy for non-malignant disease - Medical and/or surgical management in accordance with national and/or local guidelines - Written informed consent</td>\n",
              "                        <td id=\"T_86791974_a67f_11eb_b2f0_0242ac1c0002row4_col10\" class=\"data row4 col10\" >: - Any concomitant medical or psychiatric problems which, in the opinion of the investigator, would prevent completion of treatment or follow-up - Lack of adequate tissue CAPTURE Inclusion criteria - Documented informed consent - Age 18 years or older - Confirmed cancer diagnosis (irrespective of cancer type, disease burden or treatment) - Group A: Suspected infection with SARS-CoV-2 or positive test for SARS-CoV-2 - Group B: no clinical indication to test for SARS-CoV-2 (by current Trust guidelines*) or tested negative for SARS-CoV-2 - Group C: Volunteers without cancer with SARS-CoV-2 (symptomatic and asymptomatic) and those without clinical indication (current national guidelines*) for SARS-CoV-2 testing or tested negative for SARS-CoV-2 Exclusion criteria • Medical or psychological condition that would preclude informed consent</td>\n",
              "            </tr>\n",
              "            <tr>\n",
              "                                <td id=\"T_86791974_a67f_11eb_b2f0_0242ac1c0002row5_col0\" class=\"data row5 col0\" >NCT03262051</td>\n",
              "                        <td id=\"T_86791974_a67f_11eb_b2f0_0242ac1c0002row5_col1\" class=\"data row5 col1\" >Impact of Acute and Chronic Inflammation on Cytochromes P450 Activity Measured With Dried Blood Spot</td>\n",
              "                        <td id=\"T_86791974_a67f_11eb_b2f0_0242ac1c0002row5_col2\" class=\"data row5 col2\" >Recruiting</td>\n",
              "                        <td id=\"T_86791974_a67f_11eb_b2f0_0242ac1c0002row5_col3\" class=\"data row5 col3\" >University Hospital, Geneva[Other]</td>\n",
              "                        <td id=\"T_86791974_a67f_11eb_b2f0_0242ac1c0002row5_col4\" class=\"data row5 col4\" >Cytochromes P450, main enzymes of drug metabolism, play a prominent role in the first-pass metabolism of oral substances. Inter-individual variability in their activity due to genetic and environmental factors has been observed and may be associated with adverse therapeutic outcomes (ineffectiveness or toxicity). The inflammation, whether acute or chronic, can theoretically modulate the pharmacokinetics of drugs by modulating enzyme activity. Indeed, in vitro data and animal models, as well as more limited data in humans, indicate a down-regulation of CYP in the context of inflammation. The cocktail approach developed and validated in Geneva (\"cocktail Geneva\") measures the activity of several CYP simultaneously using micro-doses of probe drugs and facilitating sampling (10uL capillary blood) on a dried blood spot. We intend to measure the activity of CYP in an acute inflammation model (hip surgery and SARS-CoV-2 infection) and chronic inflammation (rheumatoid arthritis, RA). The effect of the biological agent tocilizumab (anti IL-6 receptor) in a treated patient subgroup (patients treated regardless of our study) will be measured after 3 months of treatment. The main objective is to determine if interleukin 6 levels are correlated with the activity of CYP450 in patients with acute (orthopedic surgery - hip or SARS-CoV-2 infection) or chronic inflammation (RA). Secondary objectives are: - To correlate CYPs activities with the levels of other inflammatory markers (CRP, TNF-α, IL-1β, IFN-γ); - To assess correlation between markers of inflammation, CYP activities and the intensity of fatigue and pain; - To assess if tocilizumab reverse CYP activity in patients with RA after 3 months treatment; - To assess if SARS-CoV-2 infection modify pharmacokinetic parameters of concomitant medications which are CYPs substrates</td>\n",
              "                        <td id=\"T_86791974_a67f_11eb_b2f0_0242ac1c0002row5_col5\" class=\"data row5 col5\" >2017-09-01</td>\n",
              "                        <td id=\"T_86791974_a67f_11eb_b2f0_0242ac1c0002row5_col6\" class=\"data row5 col6\" >2021-09-01</td>\n",
              "                        <td id=\"T_86791974_a67f_11eb_b2f0_0242ac1c0002row5_col7\" class=\"data row5 col7\" >All</td>\n",
              "                        <td id=\"T_86791974_a67f_11eb_b2f0_0242ac1c0002row5_col8\" class=\"data row5 col8\" >--> Inclusion Criteria: For hip surgery and chronic inflammation groups - Male and female patients diagnosed with rheumatoid arthritis or undergoing an elective hip surgery - Age > 18 years old - Understanding of French language and ability to give a written inform consent For SARS-CoV-2 infection group - Male and female patients diagnosed with SARS-CoV-2 infection (positive RT-PCR) and CRP > 30 mg/L - Age > 18 years old - Understanding of French language and ability to give a written inform consent --> Exclusion Criteria: For hip surgery and chronic inflammation groups - Pregnant or lactating females - Severe cardiac failure, severe edema or ascites - Severe COPD or pulmonary embolism requiring oxygen - Uncontrolled infection - Active cancer - HIV infection - Renal impairment (defined as serum creatinine concentrations > 1.5 x ULN) - Hepatic impairment (alteration of hepatic tests AST, ALT, bilirubin, GGT >2 x ULN) - Inability to give blood samples - Sensitivity to any of the drugs used - Intake of drugs altering CYPs activity (based on [1]) except for tocilizumab For SARS-CoV-2 infection group - Pregnant or lactating females - Hospitalized in intensive care unit at time of inclusion - Hospitalized in intermediate care unit at time of inclusion - Active cancer - HIV infection - Renal impairment (glomerular filtration rate < 30 mL/min/1.73m2) - Hepatic impairment (Child-Pugh score B and C) - Inability to give blood samples - Sensitivity to any of the drugs used</td>\n",
              "                        <td id=\"T_86791974_a67f_11eb_b2f0_0242ac1c0002row5_col9\" class=\"data row5 col9\" >For hip surgery and chronic inflammation groups - Male and female patients diagnosed with rheumatoid arthritis or undergoing an elective hip surgery - Age > 18 years old - Understanding of French language and ability to give a written inform consent For SARS-CoV-2 infection group - Male and female patients diagnosed with SARS-CoV-2 infection (positive RT-PCR) and CRP > 30 mg/L - Age > 18 years old - Understanding of French language and ability to give a written inform consent --></td>\n",
              "                        <td id=\"T_86791974_a67f_11eb_b2f0_0242ac1c0002row5_col10\" class=\"data row5 col10\" >: For hip surgery and chronic inflammation groups - Pregnant or lactating females - Severe cardiac failure, severe edema or ascites - Severe COPD or pulmonary embolism requiring oxygen - Uncontrolled infection - Active cancer - HIV infection - Renal impairment (defined as serum creatinine concentrations > 1.5 x ULN) - Hepatic impairment (alteration of hepatic tests AST, ALT, bilirubin, GGT >2 x ULN) - Inability to give blood samples - Sensitivity to any of the drugs used - Intake of drugs altering CYPs activity (based on [1]) except for tocilizumab For SARS-CoV-2 infection group - Pregnant or lactating females - Hospitalized in intensive care unit at time of inclusion - Hospitalized in intermediate care unit at time of inclusion - Active cancer - HIV infection - Renal impairment (glomerular filtration rate < 30 mL/min/1.73m2) - Hepatic impairment (Child-Pugh score B and C) - Inability to give blood samples - Sensitivity to any of the drugs used</td>\n",
              "            </tr>\n",
              "            <tr>\n",
              "                                <td id=\"T_86791974_a67f_11eb_b2f0_0242ac1c0002row6_col0\" class=\"data row6 col0\" >NCT03305341</td>\n",
              "                        <td id=\"T_86791974_a67f_11eb_b2f0_0242ac1c0002row6_col1\" class=\"data row6 col1\" >Proof-of-Concept Clinical Pharmacology Trial for COVID-19 Antigen Presentation Therapeutic Biologics</td>\n",
              "                        <td id=\"T_86791974_a67f_11eb_b2f0_0242ac1c0002row6_col2\" class=\"data row6 col2\" >Active, not recruiting</td>\n",
              "                        <td id=\"T_86791974_a67f_11eb_b2f0_0242ac1c0002row6_col3\" class=\"data row6 col3\" >Han Xu, M.D., Ph.D., Sponsor-Investigator, IRB Chair[Industry]</td>\n",
              "                        <td id=\"T_86791974_a67f_11eb_b2f0_0242ac1c0002row6_col4\" class=\"data row6 col4\" >Conducting an initial small, controlled clinical pharmacology trial to assess for therapeutic biologics activity (proof-of-concept) that suggests the potential for clinical benefit of COVID-19 patients. 1. Treat Infection of Multiple Gene Mutation COVID-19 Virus Strains. 2. Activate Human Antigen Presentation Reaction to COVID-19 Specific Antigen. 3. The human antigen presenting cells (APCs) can take up and process COVID-19 target antigen protein into small peptide fragments, and then COVID-19 virus can be killed by APCs directly.</td>\n",
              "                        <td id=\"T_86791974_a67f_11eb_b2f0_0242ac1c0002row6_col5\" class=\"data row6 col5\" >2020-07-18</td>\n",
              "                        <td id=\"T_86791974_a67f_11eb_b2f0_0242ac1c0002row6_col6\" class=\"data row6 col6\" >2021-06-28</td>\n",
              "                        <td id=\"T_86791974_a67f_11eb_b2f0_0242ac1c0002row6_col7\" class=\"data row6 col7\" >All</td>\n",
              "                        <td id=\"T_86791974_a67f_11eb_b2f0_0242ac1c0002row6_col8\" class=\"data row6 col8\" >- Conducting an initial small, controlled trial to assess for therapeutic biologics activity (proof-of-concept) that suggests the potential for clinical benefit of COVID-19 patients. - 20 Moderate COVID-19 patients Inclusion Criteria: - Moderate COVID-19 - Positive testing by standard RT-PCR assay or equivalent testing - Symptoms of moderate illness with COVID-19, which could include any symptom of mild illness or shortness of breath with exertion - Clinical signs suggestive of moderate illness with COVID-19, such as respiratory rate ≥ 20 breaths per minute, saturation of oxygen (SpO2) > 93% on room air at sea level, heart rate ≥ 90 beats per minute - No clinical signs indicative of Severe or Critical Illness Severity Exclusion Criteria: - 1. Severe or Critical Illness Severity - 2. Pregnancy - 3. Breast-feeding - 4. The patients with other serious inter-current illness - 5. Serious Allergy - 6. Serious Bleed Tendency - 7. The prohibition of the biological product</td>\n",
              "                        <td id=\"T_86791974_a67f_11eb_b2f0_0242ac1c0002row6_col9\" class=\"data row6 col9\" >- Moderate COVID-19 - Positive testing by standard RT-PCR assay or equivalent testing - Symptoms of moderate illness with COVID-19, which could include any symptom of mild illness or shortness of breath with exertion - Clinical signs suggestive of moderate illness with COVID-19, such as respiratory rate ≥ 20 breaths per minute, saturation of oxygen (SpO2) > 93% on room air at sea level, heart rate ≥ 90 beats per minute - No clinical signs indicative of Severe or Critical Illness Severity</td>\n",
              "                        <td id=\"T_86791974_a67f_11eb_b2f0_0242ac1c0002row6_col10\" class=\"data row6 col10\" >: - 1. Severe or Critical Illness Severity - 2. Pregnancy - 3. Breast-feeding - 4. The patients with other serious inter-current illness - 5. Serious Allergy - 6. Serious Bleed Tendency - 7. The prohibition of the biological product</td>\n",
              "            </tr>\n",
              "            <tr>\n",
              "                                <td id=\"T_86791974_a67f_11eb_b2f0_0242ac1c0002row7_col0\" class=\"data row7 col0\" >NCT03331445</td>\n",
              "                        <td id=\"T_86791974_a67f_11eb_b2f0_0242ac1c0002row7_col1\" class=\"data row7 col1\" >Inhaled Gaseous Nitric Oxide (gNO) Antimicrobial Treatment of Difficult Bacterial and Viral Lung (COVID-19) Infections</td>\n",
              "                        <td id=\"T_86791974_a67f_11eb_b2f0_0242ac1c0002row7_col2\" class=\"data row7 col2\" >Recruiting</td>\n",
              "                        <td id=\"T_86791974_a67f_11eb_b2f0_0242ac1c0002row7_col3\" class=\"data row7 col3\" >Chris Miller[Industry]</td>\n",
              "                        <td id=\"T_86791974_a67f_11eb_b2f0_0242ac1c0002row7_col4\" class=\"data row7 col4\" >Non tuberculous mycobacteria (NTM), Burkholdria spp, Aspergillus in the lung are almost impossible to eradicate with conventional antibiotics. In addition COVID-19 has know current treatment. These patients have few options to treat their lung infection. Nitric oxide has broad bactericidal and virucidal properties. It has been shown that nitric oxide was safe to be inhaled for similar cystic fibrosis patients and reduced drug resistant bacteria in the lungs. Further, research indicates that clinical isolates of NTM, Burkholderia spp, Aspergillus spp and Corona-like viruses can be eradicated by 160ppm NO exposure in the laboratory petri dish. This is not the first time inhaled NO treatment has been used in patients with difficult lung infections. This study will provide more data to see if NO therapy can reduce the bacterial load in the lungs, help the patients breath better; and in the case of COVID-19 act as a anti-viral agent resulting in the reduction of incidence of oxygen therapy, mechanical assistance of BIPAP, CPAP, intubation and mechanical ventilation during the study period.</td>\n",
              "                        <td id=\"T_86791974_a67f_11eb_b2f0_0242ac1c0002row7_col5\" class=\"data row7 col5\" >2017-10-24</td>\n",
              "                        <td id=\"T_86791974_a67f_11eb_b2f0_0242ac1c0002row7_col6\" class=\"data row7 col6\" >2021-03-31</td>\n",
              "                        <td id=\"T_86791974_a67f_11eb_b2f0_0242ac1c0002row7_col7\" class=\"data row7 col7\" >All</td>\n",
              "                        <td id=\"T_86791974_a67f_11eb_b2f0_0242ac1c0002row7_col8\" class=\"data row7 col8\" >COVID SubStudy Inclusion Criteria - Capable of understanding and providing signed informed consent and ability to adhere to the requirements and restrictions of this protocol; - Men and Women ≥ 19 years of age unless local laws dictate otherwise; - English speaking; - Suspected of exposure to SARS-CoV-2 with fatigue and at least a fever (>37.90 C) or cough or sore throat or a positive swab for SAR-CoV-2 within 5 days of the of enrollment; - Must be willing to use an adequate form of contraception (or abstinence) from the time of the first dose with the IMP until after the last dose of IMP. Exclusion Criteria - Prior Tracheostomy; - Concomitant treatment involving high flow nasal cannula; - Any clinical contraindications, as judged by the attending physician; - Mentally or neurologically disabled patients who are considered not fit to consent to their participation in the study; - Prior COVID-19 infection or a positive swab for SARS-CoV-2 greater than 5 days from enrollment; - Family members in the same household already on the study; - Hydroxychloroquine, colchicine and other experimental antiviral medications; - unwilling to practice a medically acceptable form of contraception from screening to Day 26 (acceptable forms of contraception: abstinence, hormonal birth control, intrauterine device, or barrier method plus a spermicidal agent). Recruitment on hold for following Criteria during COVID-19 Pandemic Inclusion Criteria: - Written informed consent. - Has been previously diagnosed with NTM, Burkholderia spp and Aspergillus spp. or Corona-like viral infection: 1. NTM, Burkholderia spp and Aspergillus spp defined as positive culture(s) of at least one species of Mycobacterium avium Complex (MAC) or Mycobacterium abscessus Complex (MABSCor Burkholderia spp and Aspergillus spp) or Corona-like viral infection: 2. History of repeatedly positive cultures (2 or more), irregardless of therapy - Male or female ≥14 years of age. - Female not pregnant at time of study. - Has an FEV1 ≥ 30 % of predicted. c. Suspected corona-like viral infection - Oxygen saturation on room air >92% at screening. a. Able to breathe without supplemental oxygen for 60 minutes - Non-smoker for at least 6 months prior to screening and agrees not to smoke during the study. - Willing and able to comply with the treatment schedule and procedures. Exclusion Criteria: - Use of an investigational drug within 30 days of screening - History of frequent epistaxis (>1 episode/month) - Significant hemoptysis within 30 days (≥ 5 mL of blood in one coughing episode or > 30 mL of blood in a 24 hour period) - History of reactive pulmonary vascular hypertension - Methemoglobin >3% at screening - Liver function insufficiency (ALT/ AST >3 of normal values) - Hemoglobin <11 g/dl - Thrombocytopenia (platelet count <100,000/mm3) at screening - Prothrombin time international ratio (INR) > 1.3 at screening - Changes to antibiotics (e.g. azithromycin) from 7 days prior to screening through last treatment day. (Subjects may be taking antibiotics or antivirals during this time period, but they cannot start, stop or change doses during this time period) - On supplemental oxygen during gNO treatment (SaO2 < 90% for 50 minutes while resting in a chair). - For women of child bearing potential: 1. positive pregnancy test at screening or 2. lactating or 3. unwilling to practice a medically acceptable form of contraception from screening to Day 36 (acceptable forms of contraception: abstinence, hormonal birth control, intrauterine device, or barrier method plus a spermicidal agent) - Presence of a condition or abnormality that in the opinion of the Investigator would compromise the safety of the patient or the quality of the data.</td>\n",
              "                        <td id=\"T_86791974_a67f_11eb_b2f0_0242ac1c0002row7_col9\" class=\"data row7 col9\" >- Written informed consent. - Has been previously diagnosed with NTM, Burkholderia spp and Aspergillus spp. or Corona-like viral infection: 1. NTM, Burkholderia spp and Aspergillus spp defined as positive culture(s) of at least one species of Mycobacterium avium Complex (MAC) or Mycobacterium abscessus Complex (MABSCor Burkholderia spp and Aspergillus spp) or Corona-like viral infection: 2. History of repeatedly positive cultures (2 or more), irregardless of therapy - Male or female ≥14 years of age. - Female not pregnant at time of study. - Has an FEV1 ≥ 30 % of predicted. c. Suspected corona-like viral infection - Oxygen saturation on room air >92% at screening. a. Able to breathe without supplemental oxygen for 60 minutes - Non-smoker for at least 6 months prior to screening and agrees not to smoke during the study. - Willing and able to comply with the treatment schedule and procedures.</td>\n",
              "                        <td id=\"T_86791974_a67f_11eb_b2f0_0242ac1c0002row7_col10\" class=\"data row7 col10\" > - Prior Tracheostomy; - Concomitant treatment involving high flow nasal cannula; - Any clinical contraindications, as judged by the attending physician; - Mentally or neurologically disabled patients who are considered not fit to consent to their participation in the study; - Prior COVID-19 infection or a positive swab for SARS-CoV-2 greater than 5 days from enrollment; - Family members in the same household already on the study; - Hydroxychloroquine, colchicine and other experimental antiviral medications; - unwilling to practice a medically acceptable form of contraception from screening to Day 26 (acceptable forms of contraception: abstinence, hormonal birth control, intrauterine device, or barrier method plus a spermicidal agent). Recruitment on hold for following Criteria during COVID-19 Pandemic Inclusion Criteria: - Written informed consent. - Has been previously diagnosed with NTM, Burkholderia spp and Aspergillus spp. or Corona-like viral infection: 1. NTM, Burkholderia spp and Aspergillus spp defined as positive culture(s) of at least one species of Mycobacterium avium Complex (MAC) or Mycobacterium abscessus Complex (MABSCor Burkholderia spp and Aspergillus spp) or Corona-like viral infection: 2. History of repeatedly positive cultures (2 or more), irregardless of therapy - Male or female ≥14 years of age. - Female not pregnant at time of study. - Has an FEV1 ≥ 30 % of predicted. c. Suspected corona-like viral infection - Oxygen saturation on room air >92% at screening. a. Able to breathe without supplemental oxygen for 60 minutes - Non-smoker for at least 6 months prior to screening and agrees not to smoke during the study. - Willing and able to comply with the treatment schedule and procedures. Exclusion Criteria: - Use of an investigational drug within 30 days of screening - History of frequent epistaxis (>1 episode/month) - Significant hemoptysis within 30 days (≥ 5 mL of blood in one coughing episode or > 30 mL of blood in a 24 hour period) - History of reactive pulmonary vascular hypertension - Methemoglobin >3% at screening - Liver function insufficiency (ALT/ AST >3 of normal values) - Hemoglobin <11 g/dl - Thrombocytopenia (platelet count <100,000/mm3) at screening - Prothrombin time international ratio (INR) > 1.3 at screening - Changes to antibiotics (e.g. azithromycin) from 7 days prior to screening through last treatment day. (Subjects may be taking antibiotics or antivirals during this time period, but they cannot start, stop or change doses during this time period) - On supplemental oxygen during gNO treatment (SaO2 < 90% for 50 minutes while resting in a chair). - For women of child bearing potential: 1. positive pregnancy test at screening or 2. lactating or 3. unwilling to practice a medically acceptable form of contraception from screening to Day 36 (acceptable forms of contraception: abstinence, hormonal birth control, intrauterine device, or barrier method plus a spermicidal agent) - Presence of a condition or abnormality that in the opinion of the Investigator would compromise the safety of the patient or the quality of the data.</td>\n",
              "            </tr>\n",
              "            <tr>\n",
              "                                <td id=\"T_86791974_a67f_11eb_b2f0_0242ac1c0002row8_col0\" class=\"data row8 col0\" >NCT03348670</td>\n",
              "                        <td id=\"T_86791974_a67f_11eb_b2f0_0242ac1c0002row8_col1\" class=\"data row8 col1\" >Discovery Stage (Proof-of-concept) COVID-19 Antigen Presentation Therapeutic Biologics (COVID-19--AP)</td>\n",
              "                        <td id=\"T_86791974_a67f_11eb_b2f0_0242ac1c0002row8_col2\" class=\"data row8 col2\" >Active, not recruiting</td>\n",
              "                        <td id=\"T_86791974_a67f_11eb_b2f0_0242ac1c0002row8_col3\" class=\"data row8 col3\" >Han Xu, M.D., Ph.D., Sponsor-Investigator, IRB Chair[Industry]</td>\n",
              "                        <td id=\"T_86791974_a67f_11eb_b2f0_0242ac1c0002row8_col4\" class=\"data row8 col4\" >Conducting an initial small, controlled clinical trial to assess for COVID-19 therapeutic biologics activity (proof-of-concept) that suggests the potential for clinical benefit of COVID-19 patients. 1. Treat Infection of Multiple Gene Mutation COVID-19 Virus Strains. 2. Activate Antigen Presentation Reaction to COVID-19 Specific Antigen. 3. Produce Antigen Presentation Memory to COVID-19 Specific Antigen. 4. Produce Trained Immunity to COVID-19 Specific Antigen. 5. Avoid Antibody-Dependent Enhancement (ADE) to COVID-19 Virus.</td>\n",
              "                        <td id=\"T_86791974_a67f_11eb_b2f0_0242ac1c0002row8_col5\" class=\"data row8 col5\" >2020-07-20</td>\n",
              "                        <td id=\"T_86791974_a67f_11eb_b2f0_0242ac1c0002row8_col6\" class=\"data row8 col6\" >2021-06-28</td>\n",
              "                        <td id=\"T_86791974_a67f_11eb_b2f0_0242ac1c0002row8_col7\" class=\"data row8 col7\" >All</td>\n",
              "                        <td id=\"T_86791974_a67f_11eb_b2f0_0242ac1c0002row8_col8\" class=\"data row8 col8\" >- Conducting an initial small, controlled trial to assess for therapeutic biologics activity (proof-of-concept) that suggests the potential for clinical benefit of COVID-19 patients. - 20 Moderate COVID-19 patients Inclusion Criteria: - Moderate COVID-19 - Positive testing by standard RT-PCR assay or equivalent testing - Symptoms of moderate illness with COVID-19, which could include any symptom of mild illness or shortness of breath with exertion - Clinical signs suggestive of moderate illness with COVID-19, such as respiratory rate ≥ 20 breaths per minute, saturation of oxygen (SpO2) > 93% on room air at sea level, heart rate ≥ 90 beats per minute - No clinical signs indicative of Severe or Critical Illness Severity Exclusion Criteria: - 1. Severe or Critical Illness Severity - 2. Pregnancy - 3. Breast-feeding - 4. The patients with other serious inter-current illness - 5. Serious Allergy - 6. Serious Bleed Tendency - 7. The prohibition of the biological product</td>\n",
              "                        <td id=\"T_86791974_a67f_11eb_b2f0_0242ac1c0002row8_col9\" class=\"data row8 col9\" >- Moderate COVID-19 - Positive testing by standard RT-PCR assay or equivalent testing - Symptoms of moderate illness with COVID-19, which could include any symptom of mild illness or shortness of breath with exertion - Clinical signs suggestive of moderate illness with COVID-19, such as respiratory rate ≥ 20 breaths per minute, saturation of oxygen (SpO2) > 93% on room air at sea level, heart rate ≥ 90 beats per minute - No clinical signs indicative of Severe or Critical Illness Severity</td>\n",
              "                        <td id=\"T_86791974_a67f_11eb_b2f0_0242ac1c0002row8_col10\" class=\"data row8 col10\" >: - 1. Severe or Critical Illness Severity - 2. Pregnancy - 3. Breast-feeding - 4. The patients with other serious inter-current illness - 5. Serious Allergy - 6. Serious Bleed Tendency - 7. The prohibition of the biological product</td>\n",
              "            </tr>\n",
              "            <tr>\n",
              "                                <td id=\"T_86791974_a67f_11eb_b2f0_0242ac1c0002row9_col0\" class=\"data row9 col0\" >NCT03452774</td>\n",
              "                        <td id=\"T_86791974_a67f_11eb_b2f0_0242ac1c0002row9_col1\" class=\"data row9 col1\" >SYNERGY-AI: Artificial Intelligence Based Precision Oncology Clinical Trial Matching and Registry</td>\n",
              "                        <td id=\"T_86791974_a67f_11eb_b2f0_0242ac1c0002row9_col2\" class=\"data row9 col2\" >Recruiting</td>\n",
              "                        <td id=\"T_86791974_a67f_11eb_b2f0_0242ac1c0002row9_col3\" class=\"data row9 col3\" >Massive Bio, Inc.[Industry]</td>\n",
              "                        <td id=\"T_86791974_a67f_11eb_b2f0_0242ac1c0002row9_col4\" class=\"data row9 col4\" >International registry for cancer patients evaluating the feasibility and clinical utility of an Artificial Intelligence-based precision oncology clinical trial matching tool, powered by a virtual tumor boards (VTB) program, and its clinical impact on pts with advanced cancer to facilitate clinical trial enrollment (CTE), as well as the financial impact, and potential outcomes of the intervention.</td>\n",
              "                        <td id=\"T_86791974_a67f_11eb_b2f0_0242ac1c0002row9_col5\" class=\"data row9 col5\" >2018-01-01</td>\n",
              "                        <td id=\"T_86791974_a67f_11eb_b2f0_0242ac1c0002row9_col6\" class=\"data row9 col6\" >2022-12-31</td>\n",
              "                        <td id=\"T_86791974_a67f_11eb_b2f0_0242ac1c0002row9_col7\" class=\"data row9 col7\" >All</td>\n",
              "                        <td id=\"T_86791974_a67f_11eb_b2f0_0242ac1c0002row9_col8\" class=\"data row9 col8\" >Inclusion Criteria: - Pts with solid and hematological malignancies; - Pts cancer-related biomarkers, gene variants, fusion and rearrangements (by immunohistochemistry, PCR, FISH or NGS): PD-L1, MSI (MMR), Claudin18.2, Tumor mutational burden/load (TMB), ABL1, ACVR1B, AKT1, AKT2, AKT3, ALK, APC, AR, ATM, ATRX, AURKA, AURKB, BAP1, BCL2, BCL6, BRAF, BRCA1, BRCA2, BTK, CCND1, CCND2, CCND3, CDK4, CDK6, CDKN1A/B, CEBPA, CHEK1, CHEK2, CSF1R, CTNNB1, DAXX, DDR1/2, DNMT3A, EGFR, ERBB2, ERBB3, ERBB4, ERCC4, ER, ESR1, FANCA, FAS, FBXW7, FGFR1, FGFR2, FGFR3, FGFR4, FLT3, GATA3, GATA6, GNAS, HDAC1, HGF, HRAS, IDH1, IDH2, IGF1R, JAK1, JAK2, JAK3, KDR (VEGFR2), KIT, KRAS, MAP2K2 (MEK2), MAP3K1, MCL1, MDM2, MDM4, MEN1, MET, MSH2, MSH3, MSH6, MTOR, MUTYH, MYC, MYCL (MYCL1), NF1, NF2, NOTCH1, NPM1, NRAS, NTRK1, NTRK2, NTRK3, PALB2, PARP1, PARP2, PARP3, PBRM1, PDCD1 (PD1), PDCD1LG2 (PD-L2), PDGFRA, PDGFRB, PIK3C, PMS2, POLD1, POLE, PRDM1, PTCH1, PTEN, RAF1, RB1, RET, RICTOR, ROS1, RPTOR, SDHA/B/C, SMAD, SMARC, SMO, STK11, TGFBR2, TP53, TSC1, TSC2, VEGFA, VHL, WT1, ZNF217, ZNF703, among others. These biomarkers should be determined by local laboratory, external vendor, or next generation sequencing platform - Decision to consider clinical trial pre-screening enrollment (CTE) by primary provider and/or patient Exclusion Criteria: - ECOG PS > 2; - Abnormal organ function; - Hospice enrollment</td>\n",
              "                        <td id=\"T_86791974_a67f_11eb_b2f0_0242ac1c0002row9_col9\" class=\"data row9 col9\" >- Pts with solid and hematological malignancies; - Pts cancer-related biomarkers, gene variants, fusion and rearrangements (by immunohistochemistry, PCR, FISH or NGS): PD-L1, MSI (MMR), Claudin18.2, Tumor mutational burden/load (TMB), ABL1, ACVR1B, AKT1, AKT2, AKT3, ALK, APC, AR, ATM, ATRX, AURKA, AURKB, BAP1, BCL2, BCL6, BRAF, BRCA1, BRCA2, BTK, CCND1, CCND2, CCND3, CDK4, CDK6, CDKN1A/B, CEBPA, CHEK1, CHEK2, CSF1R, CTNNB1, DAXX, DDR1/2, DNMT3A, EGFR, ERBB2, ERBB3, ERBB4, ERCC4, ER, ESR1, FANCA, FAS, FBXW7, FGFR1, FGFR2, FGFR3, FGFR4, FLT3, GATA3, GATA6, GNAS, HDAC1, HGF, HRAS, IDH1, IDH2, IGF1R, JAK1, JAK2, JAK3, KDR (VEGFR2), KIT, KRAS, MAP2K2 (MEK2), MAP3K1, MCL1, MDM2, MDM4, MEN1, MET, MSH2, MSH3, MSH6, MTOR, MUTYH, MYC, MYCL (MYCL1), NF1, NF2, NOTCH1, NPM1, NRAS, NTRK1, NTRK2, NTRK3, PALB2, PARP1, PARP2, PARP3, PBRM1, PDCD1 (PD1), PDCD1LG2 (PD-L2), PDGFRA, PDGFRB, PIK3C, PMS2, POLD1, POLE, PRDM1, PTCH1, PTEN, RAF1, RB1, RET, RICTOR, ROS1, RPTOR, SDHA/B/C, SMAD, SMARC, SMO, STK11, TGFBR2, TP53, TSC1, TSC2, VEGFA, VHL, WT1, ZNF217, ZNF703, among others. These biomarkers should be determined by local laboratory, external vendor, or next generation sequencing platform - Decision to consider clinical trial pre-screening enrollment (CTE) by primary provider and/or patient</td>\n",
              "                        <td id=\"T_86791974_a67f_11eb_b2f0_0242ac1c0002row9_col10\" class=\"data row9 col10\" >: - ECOG PS > 2; - Abnormal organ function; - Hospice enrollment</td>\n",
              "            </tr>\n",
              "    </tbody></table>"
            ],
            "text/plain": [
              "<pandas.io.formats.style.Styler at 0x7fa4bbe751d0>"
            ]
          },
          "metadata": {
            "tags": []
          },
          "execution_count": 28
        }
      ]
    },
    {
      "cell_type": "markdown",
      "metadata": {
        "id": "KqJbwg2g0Yee"
      },
      "source": [
        "##Loading the data: Patient Pre-Condition Dataset"
      ]
    },
    {
      "cell_type": "code",
      "metadata": {
        "colab": {
          "base_uri": "https://localhost:8080/"
        },
        "id": "vb3v-7CdB6s6",
        "outputId": "e17c3fdb-f79e-461c-afc2-c74d97b018d1"
      },
      "source": [
        "new_trial_data.shape"
      ],
      "execution_count": null,
      "outputs": [
        {
          "output_type": "execute_result",
          "data": {
            "text/plain": [
              "(4593, 11)"
            ]
          },
          "metadata": {
            "tags": []
          },
          "execution_count": 29
        }
      ]
    },
    {
      "cell_type": "code",
      "metadata": {
        "id": "WeLskv3a0eK-"
      },
      "source": [
        "from zipfile import *\n",
        "file_name=(\"covid19-patient-precondition-dataset.zip\") \n",
        "with ZipFile(file_name,'r') as zip: \n",
        "             zip.extractall() \n",
        "             #print(\"done\") "
      ],
      "execution_count": null,
      "outputs": []
    },
    {
      "cell_type": "code",
      "metadata": {
        "id": "hNHzztRow00j",
        "colab": {
          "base_uri": "https://localhost:8080/"
        },
        "outputId": "b4faded9-1f3f-4706-f0dc-9de6654f37c5"
      },
      "source": [
        "!ls"
      ],
      "execution_count": null,
      "outputs": [
        {
          "output_type": "stream",
          "text": [
            "Catalogs.xlsx\t\t\t\t  Description.xlsx  sample_data\n",
            "covid19-patient-precondition-dataset.zip  drive\n",
            "covid.csv\t\t\t\t  kaggle.json\n"
          ],
          "name": "stdout"
        }
      ]
    },
    {
      "cell_type": "code",
      "metadata": {
        "colab": {
          "base_uri": "https://localhost:8080/"
        },
        "id": "ZsXmxpB3vztJ",
        "outputId": "a0d48087-2d26-4a60-f6fe-1c27a54e9091"
      },
      "source": [
        "pat_precondition=pd.read_csv('/content/covid.csv')\n",
        "pat_precondition.shape #number of rows and columns"
      ],
      "execution_count": null,
      "outputs": [
        {
          "output_type": "execute_result",
          "data": {
            "text/plain": [
              "(566602, 23)"
            ]
          },
          "metadata": {
            "tags": []
          },
          "execution_count": 32
        }
      ]
    },
    {
      "cell_type": "code",
      "metadata": {
        "colab": {
          "base_uri": "https://localhost:8080/"
        },
        "id": "SKhcgYSJ1gAB",
        "outputId": "5725ae6a-3648-44ad-a97d-1960c3affd44"
      },
      "source": [
        "pat_precondition.columns"
      ],
      "execution_count": null,
      "outputs": [
        {
          "output_type": "execute_result",
          "data": {
            "text/plain": [
              "Index(['id', 'sex', 'patient_type', 'entry_date', 'date_symptoms', 'date_died',\n",
              "       'intubed', 'pneumonia', 'age', 'pregnancy', 'diabetes', 'copd',\n",
              "       'asthma', 'inmsupr', 'hypertension', 'other_disease', 'cardiovascular',\n",
              "       'obesity', 'renal_chronic', 'tobacco', 'contact_other_covid',\n",
              "       'covid_res', 'icu'],\n",
              "      dtype='object')"
            ]
          },
          "metadata": {
            "tags": []
          },
          "execution_count": 33
        }
      ]
    },
    {
      "cell_type": "code",
      "metadata": {
        "colab": {
          "base_uri": "https://localhost:8080/"
        },
        "id": "0NVQnjaM1iK7",
        "outputId": "1de56d69-9d43-489d-90e6-5ecce248e493"
      },
      "source": [
        "pat_precondition.info()  "
      ],
      "execution_count": null,
      "outputs": [
        {
          "output_type": "stream",
          "text": [
            "<class 'pandas.core.frame.DataFrame'>\n",
            "RangeIndex: 566602 entries, 0 to 566601\n",
            "Data columns (total 23 columns):\n",
            " #   Column               Non-Null Count   Dtype \n",
            "---  ------               --------------   ----- \n",
            " 0   id                   566602 non-null  object\n",
            " 1   sex                  566602 non-null  int64 \n",
            " 2   patient_type         566602 non-null  int64 \n",
            " 3   entry_date           566602 non-null  object\n",
            " 4   date_symptoms        566602 non-null  object\n",
            " 5   date_died            566602 non-null  object\n",
            " 6   intubed              566602 non-null  int64 \n",
            " 7   pneumonia            566602 non-null  int64 \n",
            " 8   age                  566602 non-null  int64 \n",
            " 9   pregnancy            566602 non-null  int64 \n",
            " 10  diabetes             566602 non-null  int64 \n",
            " 11  copd                 566602 non-null  int64 \n",
            " 12  asthma               566602 non-null  int64 \n",
            " 13  inmsupr              566602 non-null  int64 \n",
            " 14  hypertension         566602 non-null  int64 \n",
            " 15  other_disease        566602 non-null  int64 \n",
            " 16  cardiovascular       566602 non-null  int64 \n",
            " 17  obesity              566602 non-null  int64 \n",
            " 18  renal_chronic        566602 non-null  int64 \n",
            " 19  tobacco              566602 non-null  int64 \n",
            " 20  contact_other_covid  566602 non-null  int64 \n",
            " 21  covid_res            566602 non-null  int64 \n",
            " 22  icu                  566602 non-null  int64 \n",
            "dtypes: int64(19), object(4)\n",
            "memory usage: 99.4+ MB\n"
          ],
          "name": "stdout"
        }
      ]
    },
    {
      "cell_type": "code",
      "metadata": {
        "colab": {
          "base_uri": "https://localhost:8080/",
          "height": 309
        },
        "id": "WCiCCmco2CYK",
        "outputId": "19b4b98d-4680-4714-9ff5-7d305d5f6aab"
      },
      "source": [
        "pat_precondition.head()"
      ],
      "execution_count": null,
      "outputs": [
        {
          "output_type": "execute_result",
          "data": {
            "text/html": [
              "<div>\n",
              "<style scoped>\n",
              "    .dataframe tbody tr th:only-of-type {\n",
              "        vertical-align: middle;\n",
              "    }\n",
              "\n",
              "    .dataframe tbody tr th {\n",
              "        vertical-align: top;\n",
              "    }\n",
              "\n",
              "    .dataframe thead th {\n",
              "        text-align: right;\n",
              "    }\n",
              "</style>\n",
              "<table border=\"1\" class=\"dataframe\">\n",
              "  <thead>\n",
              "    <tr style=\"text-align: right;\">\n",
              "      <th></th>\n",
              "      <th>id</th>\n",
              "      <th>sex</th>\n",
              "      <th>patient_type</th>\n",
              "      <th>entry_date</th>\n",
              "      <th>date_symptoms</th>\n",
              "      <th>date_died</th>\n",
              "      <th>intubed</th>\n",
              "      <th>pneumonia</th>\n",
              "      <th>age</th>\n",
              "      <th>pregnancy</th>\n",
              "      <th>diabetes</th>\n",
              "      <th>copd</th>\n",
              "      <th>asthma</th>\n",
              "      <th>inmsupr</th>\n",
              "      <th>hypertension</th>\n",
              "      <th>other_disease</th>\n",
              "      <th>cardiovascular</th>\n",
              "      <th>obesity</th>\n",
              "      <th>renal_chronic</th>\n",
              "      <th>tobacco</th>\n",
              "      <th>contact_other_covid</th>\n",
              "      <th>covid_res</th>\n",
              "      <th>icu</th>\n",
              "    </tr>\n",
              "  </thead>\n",
              "  <tbody>\n",
              "    <tr>\n",
              "      <th>0</th>\n",
              "      <td>16169f</td>\n",
              "      <td>2</td>\n",
              "      <td>1</td>\n",
              "      <td>04-05-2020</td>\n",
              "      <td>02-05-2020</td>\n",
              "      <td>9999-99-99</td>\n",
              "      <td>97</td>\n",
              "      <td>2</td>\n",
              "      <td>27</td>\n",
              "      <td>97</td>\n",
              "      <td>2</td>\n",
              "      <td>2</td>\n",
              "      <td>2</td>\n",
              "      <td>2</td>\n",
              "      <td>2</td>\n",
              "      <td>2</td>\n",
              "      <td>2</td>\n",
              "      <td>2</td>\n",
              "      <td>2</td>\n",
              "      <td>2</td>\n",
              "      <td>2</td>\n",
              "      <td>1</td>\n",
              "      <td>97</td>\n",
              "    </tr>\n",
              "    <tr>\n",
              "      <th>1</th>\n",
              "      <td>1009bf</td>\n",
              "      <td>2</td>\n",
              "      <td>1</td>\n",
              "      <td>19-03-2020</td>\n",
              "      <td>17-03-2020</td>\n",
              "      <td>9999-99-99</td>\n",
              "      <td>97</td>\n",
              "      <td>2</td>\n",
              "      <td>24</td>\n",
              "      <td>97</td>\n",
              "      <td>2</td>\n",
              "      <td>2</td>\n",
              "      <td>2</td>\n",
              "      <td>2</td>\n",
              "      <td>2</td>\n",
              "      <td>2</td>\n",
              "      <td>2</td>\n",
              "      <td>2</td>\n",
              "      <td>2</td>\n",
              "      <td>2</td>\n",
              "      <td>99</td>\n",
              "      <td>1</td>\n",
              "      <td>97</td>\n",
              "    </tr>\n",
              "    <tr>\n",
              "      <th>2</th>\n",
              "      <td>167386</td>\n",
              "      <td>1</td>\n",
              "      <td>2</td>\n",
              "      <td>06-04-2020</td>\n",
              "      <td>01-04-2020</td>\n",
              "      <td>9999-99-99</td>\n",
              "      <td>2</td>\n",
              "      <td>2</td>\n",
              "      <td>54</td>\n",
              "      <td>2</td>\n",
              "      <td>2</td>\n",
              "      <td>2</td>\n",
              "      <td>2</td>\n",
              "      <td>2</td>\n",
              "      <td>2</td>\n",
              "      <td>2</td>\n",
              "      <td>2</td>\n",
              "      <td>1</td>\n",
              "      <td>2</td>\n",
              "      <td>2</td>\n",
              "      <td>99</td>\n",
              "      <td>1</td>\n",
              "      <td>2</td>\n",
              "    </tr>\n",
              "    <tr>\n",
              "      <th>3</th>\n",
              "      <td>0b5948</td>\n",
              "      <td>2</td>\n",
              "      <td>2</td>\n",
              "      <td>17-04-2020</td>\n",
              "      <td>10-04-2020</td>\n",
              "      <td>9999-99-99</td>\n",
              "      <td>2</td>\n",
              "      <td>1</td>\n",
              "      <td>30</td>\n",
              "      <td>97</td>\n",
              "      <td>2</td>\n",
              "      <td>2</td>\n",
              "      <td>2</td>\n",
              "      <td>2</td>\n",
              "      <td>2</td>\n",
              "      <td>2</td>\n",
              "      <td>2</td>\n",
              "      <td>2</td>\n",
              "      <td>2</td>\n",
              "      <td>2</td>\n",
              "      <td>99</td>\n",
              "      <td>1</td>\n",
              "      <td>2</td>\n",
              "    </tr>\n",
              "    <tr>\n",
              "      <th>4</th>\n",
              "      <td>0d01b5</td>\n",
              "      <td>1</td>\n",
              "      <td>2</td>\n",
              "      <td>13-04-2020</td>\n",
              "      <td>13-04-2020</td>\n",
              "      <td>22-04-2020</td>\n",
              "      <td>2</td>\n",
              "      <td>2</td>\n",
              "      <td>60</td>\n",
              "      <td>2</td>\n",
              "      <td>1</td>\n",
              "      <td>2</td>\n",
              "      <td>2</td>\n",
              "      <td>2</td>\n",
              "      <td>1</td>\n",
              "      <td>2</td>\n",
              "      <td>1</td>\n",
              "      <td>2</td>\n",
              "      <td>2</td>\n",
              "      <td>2</td>\n",
              "      <td>99</td>\n",
              "      <td>1</td>\n",
              "      <td>2</td>\n",
              "    </tr>\n",
              "  </tbody>\n",
              "</table>\n",
              "</div>"
            ],
            "text/plain": [
              "       id  sex  patient_type  ... contact_other_covid covid_res icu\n",
              "0  16169f    2             1  ...                   2         1  97\n",
              "1  1009bf    2             1  ...                  99         1  97\n",
              "2  167386    1             2  ...                  99         1   2\n",
              "3  0b5948    2             2  ...                  99         1   2\n",
              "4  0d01b5    1             2  ...                  99         1   2\n",
              "\n",
              "[5 rows x 23 columns]"
            ]
          },
          "metadata": {
            "tags": []
          },
          "execution_count": 36
        }
      ]
    },
    {
      "cell_type": "markdown",
      "metadata": {
        "id": "dJ5E5HRw2hF7"
      },
      "source": [
        "#Data Description\n",
        "###In this section I will desribe what the data in the columns represents\n",
        "\n",
        "1. id - The identification number of the patient.\n",
        "\n",
        "2. sex - Identifies the sex of the patient. (Female - 1, Male - 2)\n",
        "\n",
        "3. patient_type - Identifies the type of care received by the patient in the unit. It is called an outpatient if you returned home or it is called an inpatient if you were admitted to hospital. (Outpatient - 1, Inpatient - 2)\n",
        "\n",
        "4. entry_date - Identifies the date of the patient's admission to the care unit.\n",
        "\n",
        "5. date_symptoms - Identifies the date on which the patient's symptoms began.\n",
        "\n",
        "6. date_died - Identifies the date the patient died. (“9999-99-99” stands for recovered)\n",
        "\n",
        "7. intubed - Identifies if the patient required intubation. (Yes - 1, No - 2, Data missing or NA - 97,98,99)\n",
        "\n",
        "8. pneumonia - Identifies if the patient was diagnosed with pneumonia. (Yes - 1, No - 2, Data missing or NA - 97,98,99)\n",
        "\n",
        "9. age - Identifies the age of the patient.\n",
        "\n",
        "10. pregnancy - Identifies if the patient is pregnant. (Yes - 1, No - 2, Data missing or NA - 97,98,99)\n",
        "\n",
        "11. diabetes - Identifies if the patient has a diagnosis of diabetes. (Yes - 1, No - 2, Data missing or NA - 97,98,99)\n",
        "\n",
        "12. copd - Identifies if the patient has a diagnosis of Chronic obstructive pulmonary disease (COPD). (Yes - 1, No - 2, Data missing or NA - 97,98,99)\n",
        "\n",
        "13. asthma - Identifies if the patient has a diagnosis of asthma. (Yes - 1, No - 2, Data missing or NA - 97,98,99)\n",
        "\n",
        "14. inmsupr - Identifies if the patient has immunosuppression (weakened immune system). (Yes - 1, No - 2, Data missing or NA - 97,98,99)\n",
        "\n",
        "15. hypertension - Identifies if the patient has a diagnosis of hypertension. (Yes - 1, No - 2, Data missing or NA - 97,98,99)\n",
        "\n",
        "16. other_disease - Identifies if the patient has a diagnosis of other diseases. (Yes - 1, No - 2, Data missing or NA - 97,98,99)\n",
        "\n",
        "17. cardiovascular - Identifies if the patient has a diagnosis of cardiovascular disease. (Yes - 1, No - 2, Data missing or NA - 97,98,99)\n",
        "\n",
        "18. obesity - Identifies if the patient is diagnosed with obesity. (Yes - 1, No - 2, Data missing or NA - 97,98,99)\n",
        "\n",
        "19. renal_chronic - Identifies if the patient has a diagnosis of chronic kidney failure. (Yes - 1, No - 2, Data missing or NA - 97,98,99)\n",
        "\n",
        "20. tobacco - Identifies if the patient is a tobacco user. (Yes - 1, No - 2, Data missing or NA - 97,98,99)\n",
        "\n",
        "21. contact_other_covid - Identifies if the patient had contact with other Covid19 patient. (Yes - 1, No - 2, Data missing or NA - 97,98,99)\n",
        "\n",
        "22. covid_res - The result of the test. (Positive - 1, Negative - 2, Awaiting Results - 3)\n",
        "\n",
        "23. icu - Identifies if the patient required to enter an Intensive Care Unit. (Yes - 1, No - 2, Data missing or NA - 97,98,99)"
      ]
    },
    {
      "cell_type": "markdown",
      "metadata": {
        "id": "z7P_s8gM5KS_"
      },
      "source": [
        "#Data Preprocessing/Transformation: Patient Pre-Condition Data"
      ]
    },
    {
      "cell_type": "markdown",
      "metadata": {
        "id": "x_24DAr9KaBM"
      },
      "source": [
        "##Data Cleaning\n",
        "\n",
        "Cleaning the data to keep only the rows containing 1, 2 values and eliminating the missing values represented by 97 and 99 "
      ]
    },
    {
      "cell_type": "code",
      "metadata": {
        "id": "KJDKYo2YKWAk"
      },
      "source": [
        "pat_precondition = pat_precondition.loc[(pat_precondition.intubed == 1) | (pat_precondition.intubed == 2)]\n",
        "pat_precondition = pat_precondition.loc[(pat_precondition.pneumonia == 1) | (pat_precondition.pneumonia == 2)]\n",
        "pat_precondition = pat_precondition.loc[(pat_precondition.diabetes == 1) | (pat_precondition.diabetes == 2)]\n",
        "pat_precondition = pat_precondition.loc[(pat_precondition.copd == 1) | (pat_precondition.copd == 2)]\n",
        "pat_precondition = pat_precondition.loc[(pat_precondition.asthma == 1) | (pat_precondition.asthma == 2)]\n",
        "pat_precondition = pat_precondition.loc[(pat_precondition.inmsupr == 1) | (pat_precondition.inmsupr == 2)]\n",
        "pat_precondition= pat_precondition.loc[(pat_precondition.hypertension == 1) | (pat_precondition.hypertension == 2)]\n",
        "pat_precondition = pat_precondition.loc[(pat_precondition.cardiovascular == 1) | (pat_precondition.cardiovascular == 2)]\n",
        "pat_precondition = pat_precondition.loc[(pat_precondition.renal_chronic == 1) | (pat_precondition.renal_chronic == 2)]\n",
        "pat_precondition = pat_precondition.loc[(pat_precondition.tobacco == 1) | (pat_precondition.tobacco == 2)]\n",
        "pat_precondition = pat_precondition.loc[(pat_precondition.covid_res == 1) | (pat_precondition.covid_res == 2)]\n",
        "pat_precondition = pat_precondition.loc[(pat_precondition.contact_other_covid == 1) | (pat_precondition.contact_other_covid == 2)]"
      ],
      "execution_count": null,
      "outputs": []
    },
    {
      "cell_type": "markdown",
      "metadata": {
        "id": "YKu6Gq11wDJl"
      },
      "source": [
        "Replacing the \"2\" to \"0\""
      ]
    },
    {
      "cell_type": "code",
      "metadata": {
        "id": "TOAmGagEtYlf"
      },
      "source": [
        "pat_precondition[\"sex\"].replace({ 2:0}, inplace=True)\n",
        "pat_precondition[\"intubed\"].replace({ 2:0}, inplace=True)\n",
        "pat_precondition[\"pneumonia\"].replace({ 2:0}, inplace=True)\n",
        "pat_precondition[\"pregnancy\"].replace({ 2:0}, inplace=True)\n",
        "pat_precondition[\"diabetes\"].replace({ 2:0}, inplace=True)\n",
        "pat_precondition[\"copd\"].replace({ 2:0}, inplace=True)\n",
        "pat_precondition[\"asthma\"].replace({ 2:0}, inplace=True)\n",
        "pat_precondition[\"inmsupr\"].replace({ 2:0}, inplace=True)\n",
        "pat_precondition[\"hypertension\"].replace({ 2:0}, inplace=True)\n",
        "pat_precondition[\"renal_chronic\"].replace({ 2:0}, inplace=True)\n",
        "pat_precondition[\"cardiovascular\"].replace({ 2:0}, inplace=True)\n",
        "pat_precondition[\"obesity\"].replace({ 2:0}, inplace=True)\n",
        "pat_precondition[\"covid_res\"].replace({ 2:0}, inplace=True)\n",
        "pat_precondition[\"contact_other_covid\"].replace({ 2:0}, inplace=True)"
      ],
      "execution_count": null,
      "outputs": []
    },
    {
      "cell_type": "code",
      "metadata": {
        "id": "9IK68hn-ZnY9"
      },
      "source": [
        "def preg_value(x):\n",
        "  if x['pregnancy'] == 0 or x['pregnancy'] == 97 or x['pregnancy'] == 98 or x['pregnancy'] == 99: return 0\n",
        "  else: return 1 "
      ],
      "execution_count": null,
      "outputs": []
    },
    {
      "cell_type": "code",
      "metadata": {
        "id": "USLKzS0uY5MC"
      },
      "source": [
        "pat_precondition['pregnancy'] = pat_precondition.apply(preg_value, axis=1)"
      ],
      "execution_count": null,
      "outputs": []
    },
    {
      "cell_type": "code",
      "metadata": {
        "colab": {
          "base_uri": "https://localhost:8080/"
        },
        "id": "F7oDjbIyuw7M",
        "outputId": "e69a8da4-b977-4606-f0b6-69773669264a"
      },
      "source": [
        "pat_precondition['age'].describe()"
      ],
      "execution_count": null,
      "outputs": [
        {
          "output_type": "execute_result",
          "data": {
            "text/plain": [
              "count    52054.000000\n",
              "mean        51.079437\n",
              "std         19.682346\n",
              "min          0.000000\n",
              "25%         40.000000\n",
              "50%         53.000000\n",
              "75%         65.000000\n",
              "max        118.000000\n",
              "Name: age, dtype: float64"
            ]
          },
          "metadata": {
            "tags": []
          },
          "execution_count": 41
        }
      ]
    },
    {
      "cell_type": "code",
      "metadata": {
        "colab": {
          "base_uri": "https://localhost:8080/"
        },
        "id": "sv3oPvHyYoYc",
        "outputId": "50bf2bba-b698-4f04-aae8-3375d0ce2411"
      },
      "source": [
        "pat_precondition.info()"
      ],
      "execution_count": null,
      "outputs": [
        {
          "output_type": "stream",
          "text": [
            "<class 'pandas.core.frame.DataFrame'>\n",
            "Int64Index: 52054 entries, 21 to 499688\n",
            "Data columns (total 23 columns):\n",
            " #   Column               Non-Null Count  Dtype \n",
            "---  ------               --------------  ----- \n",
            " 0   id                   52054 non-null  object\n",
            " 1   sex                  52054 non-null  int64 \n",
            " 2   patient_type         52054 non-null  int64 \n",
            " 3   entry_date           52054 non-null  object\n",
            " 4   date_symptoms        52054 non-null  object\n",
            " 5   date_died            52054 non-null  object\n",
            " 6   intubed              52054 non-null  int64 \n",
            " 7   pneumonia            52054 non-null  int64 \n",
            " 8   age                  52054 non-null  int64 \n",
            " 9   pregnancy            52054 non-null  int64 \n",
            " 10  diabetes             52054 non-null  int64 \n",
            " 11  copd                 52054 non-null  int64 \n",
            " 12  asthma               52054 non-null  int64 \n",
            " 13  inmsupr              52054 non-null  int64 \n",
            " 14  hypertension         52054 non-null  int64 \n",
            " 15  other_disease        52054 non-null  int64 \n",
            " 16  cardiovascular       52054 non-null  int64 \n",
            " 17  obesity              52054 non-null  int64 \n",
            " 18  renal_chronic        52054 non-null  int64 \n",
            " 19  tobacco              52054 non-null  int64 \n",
            " 20  contact_other_covid  52054 non-null  int64 \n",
            " 21  covid_res            52054 non-null  int64 \n",
            " 22  icu                  52054 non-null  int64 \n",
            "dtypes: int64(19), object(4)\n",
            "memory usage: 9.5+ MB\n"
          ],
          "name": "stdout"
        }
      ]
    },
    {
      "cell_type": "code",
      "metadata": {
        "colab": {
          "base_uri": "https://localhost:8080/"
        },
        "id": "P-MBdXTbAi3U",
        "outputId": "cb954342-d672-40ab-c205-94160abb24e7"
      },
      "source": [
        "pat_precondition.shape"
      ],
      "execution_count": null,
      "outputs": [
        {
          "output_type": "execute_result",
          "data": {
            "text/plain": [
              "(52054, 23)"
            ]
          },
          "metadata": {
            "tags": []
          },
          "execution_count": 43
        }
      ]
    },
    {
      "cell_type": "code",
      "metadata": {
        "id": "BhHMEnWNMWkA"
      },
      "source": [
        "pat_precondition.drop(columns = ['id',                                 \n",
        "                                 'patient_type',                      \n",
        "                                  'other_disease',\n",
        "                                  'icu', \n",
        "                                  'other_disease', \n",
        "                                  'entry_date',\n",
        "                                  'tobacco', \n",
        "                                  'date_symptoms', \n",
        "                                  'date_died'], inplace=True)"
      ],
      "execution_count": null,
      "outputs": []
    },
    {
      "cell_type": "code",
      "metadata": {
        "colab": {
          "base_uri": "https://localhost:8080/",
          "height": 224
        },
        "id": "ENqmi1tWO-Fu",
        "outputId": "30fbef58-1d20-4cdd-b6e2-e041669dbe7a"
      },
      "source": [
        "pat_precondition.head()"
      ],
      "execution_count": null,
      "outputs": [
        {
          "output_type": "execute_result",
          "data": {
            "text/html": [
              "<div>\n",
              "<style scoped>\n",
              "    .dataframe tbody tr th:only-of-type {\n",
              "        vertical-align: middle;\n",
              "    }\n",
              "\n",
              "    .dataframe tbody tr th {\n",
              "        vertical-align: top;\n",
              "    }\n",
              "\n",
              "    .dataframe thead th {\n",
              "        text-align: right;\n",
              "    }\n",
              "</style>\n",
              "<table border=\"1\" class=\"dataframe\">\n",
              "  <thead>\n",
              "    <tr style=\"text-align: right;\">\n",
              "      <th></th>\n",
              "      <th>sex</th>\n",
              "      <th>intubed</th>\n",
              "      <th>pneumonia</th>\n",
              "      <th>age</th>\n",
              "      <th>pregnancy</th>\n",
              "      <th>diabetes</th>\n",
              "      <th>copd</th>\n",
              "      <th>asthma</th>\n",
              "      <th>inmsupr</th>\n",
              "      <th>hypertension</th>\n",
              "      <th>cardiovascular</th>\n",
              "      <th>obesity</th>\n",
              "      <th>renal_chronic</th>\n",
              "      <th>contact_other_covid</th>\n",
              "      <th>covid_res</th>\n",
              "    </tr>\n",
              "  </thead>\n",
              "  <tbody>\n",
              "    <tr>\n",
              "      <th>21</th>\n",
              "      <td>1</td>\n",
              "      <td>0</td>\n",
              "      <td>0</td>\n",
              "      <td>25</td>\n",
              "      <td>0</td>\n",
              "      <td>0</td>\n",
              "      <td>0</td>\n",
              "      <td>0</td>\n",
              "      <td>0</td>\n",
              "      <td>0</td>\n",
              "      <td>0</td>\n",
              "      <td>0</td>\n",
              "      <td>0</td>\n",
              "      <td>1</td>\n",
              "      <td>1</td>\n",
              "    </tr>\n",
              "    <tr>\n",
              "      <th>30</th>\n",
              "      <td>1</td>\n",
              "      <td>0</td>\n",
              "      <td>0</td>\n",
              "      <td>52</td>\n",
              "      <td>0</td>\n",
              "      <td>0</td>\n",
              "      <td>0</td>\n",
              "      <td>0</td>\n",
              "      <td>0</td>\n",
              "      <td>0</td>\n",
              "      <td>0</td>\n",
              "      <td>1</td>\n",
              "      <td>0</td>\n",
              "      <td>1</td>\n",
              "      <td>1</td>\n",
              "    </tr>\n",
              "    <tr>\n",
              "      <th>50</th>\n",
              "      <td>0</td>\n",
              "      <td>1</td>\n",
              "      <td>1</td>\n",
              "      <td>57</td>\n",
              "      <td>0</td>\n",
              "      <td>0</td>\n",
              "      <td>0</td>\n",
              "      <td>0</td>\n",
              "      <td>0</td>\n",
              "      <td>0</td>\n",
              "      <td>0</td>\n",
              "      <td>1</td>\n",
              "      <td>0</td>\n",
              "      <td>0</td>\n",
              "      <td>1</td>\n",
              "    </tr>\n",
              "    <tr>\n",
              "      <th>71</th>\n",
              "      <td>1</td>\n",
              "      <td>0</td>\n",
              "      <td>1</td>\n",
              "      <td>51</td>\n",
              "      <td>0</td>\n",
              "      <td>0</td>\n",
              "      <td>0</td>\n",
              "      <td>0</td>\n",
              "      <td>0</td>\n",
              "      <td>0</td>\n",
              "      <td>0</td>\n",
              "      <td>0</td>\n",
              "      <td>0</td>\n",
              "      <td>1</td>\n",
              "      <td>1</td>\n",
              "    </tr>\n",
              "    <tr>\n",
              "      <th>79</th>\n",
              "      <td>1</td>\n",
              "      <td>1</td>\n",
              "      <td>1</td>\n",
              "      <td>67</td>\n",
              "      <td>0</td>\n",
              "      <td>1</td>\n",
              "      <td>0</td>\n",
              "      <td>0</td>\n",
              "      <td>0</td>\n",
              "      <td>1</td>\n",
              "      <td>0</td>\n",
              "      <td>1</td>\n",
              "      <td>0</td>\n",
              "      <td>1</td>\n",
              "      <td>1</td>\n",
              "    </tr>\n",
              "  </tbody>\n",
              "</table>\n",
              "</div>"
            ],
            "text/plain": [
              "    sex  intubed  pneumonia  ...  renal_chronic  contact_other_covid  covid_res\n",
              "21    1        0          0  ...              0                    1          1\n",
              "30    1        0          0  ...              0                    1          1\n",
              "50    0        1          1  ...              0                    0          1\n",
              "71    1        0          1  ...              0                    1          1\n",
              "79    1        1          1  ...              0                    1          1\n",
              "\n",
              "[5 rows x 15 columns]"
            ]
          },
          "metadata": {
            "tags": []
          },
          "execution_count": 45
        }
      ]
    },
    {
      "cell_type": "markdown",
      "metadata": {
        "id": "E1uQvGeg9se_"
      },
      "source": [
        "###What are the characteristics for a patient to be eligible for trial?\n",
        "\n",
        "I explore this by creating a function that defines the same and then create a column in the Patient Precondition dataset to show which patient is eligible or not\n",
        "\n",
        "In the eligibiity column:\n",
        "\n",
        "\n",
        "\n",
        "*   0 stands for **Not eligible**\n",
        "*   1 stands for **Eligible**\n",
        "\n"
      ]
    },
    {
      "cell_type": "code",
      "metadata": {
        "colab": {
          "base_uri": "https://localhost:8080/"
        },
        "id": "vp4FU1On_dB2",
        "outputId": "0ad8bf34-e82a-46e9-db6c-1135644c67f2"
      },
      "source": [
        "pat_precondition.info()"
      ],
      "execution_count": null,
      "outputs": [
        {
          "output_type": "stream",
          "text": [
            "<class 'pandas.core.frame.DataFrame'>\n",
            "Int64Index: 52054 entries, 21 to 499688\n",
            "Data columns (total 15 columns):\n",
            " #   Column               Non-Null Count  Dtype\n",
            "---  ------               --------------  -----\n",
            " 0   sex                  52054 non-null  int64\n",
            " 1   intubed              52054 non-null  int64\n",
            " 2   pneumonia            52054 non-null  int64\n",
            " 3   age                  52054 non-null  int64\n",
            " 4   pregnancy            52054 non-null  int64\n",
            " 5   diabetes             52054 non-null  int64\n",
            " 6   copd                 52054 non-null  int64\n",
            " 7   asthma               52054 non-null  int64\n",
            " 8   inmsupr              52054 non-null  int64\n",
            " 9   hypertension         52054 non-null  int64\n",
            " 10  cardiovascular       52054 non-null  int64\n",
            " 11  obesity              52054 non-null  int64\n",
            " 12  renal_chronic        52054 non-null  int64\n",
            " 13  contact_other_covid  52054 non-null  int64\n",
            " 14  covid_res            52054 non-null  int64\n",
            "dtypes: int64(15)\n",
            "memory usage: 6.4 MB\n"
          ],
          "name": "stdout"
        }
      ]
    },
    {
      "cell_type": "code",
      "metadata": {
        "colab": {
          "base_uri": "https://localhost:8080/"
        },
        "id": "hYAIknPhmA5j",
        "outputId": "ca8f6e54-2e21-4f96-dc40-305e4fd3e2a1"
      },
      "source": [
        "pat_precondition['contact_other_covid'].value_counts()"
      ],
      "execution_count": null,
      "outputs": [
        {
          "output_type": "execute_result",
          "data": {
            "text/plain": [
              "0    37144\n",
              "1    14910\n",
              "Name: contact_other_covid, dtype: int64"
            ]
          },
          "metadata": {
            "tags": []
          },
          "execution_count": 47
        }
      ]
    },
    {
      "cell_type": "code",
      "metadata": {
        "id": "ispanr9y4D6g"
      },
      "source": [
        "def pat_eligibility(c):\n",
        "    if ((c['sex'] == 1 or c['sex'] == 0 ) and \n",
        "        (c['age'] >= 12 <=85 ) and \n",
        "        (c['contact_other_covid'] ==0 ) and \n",
        "        (c['pneumonia'] == 0) and\n",
        "        (c['pregnancy'] == 0) and\n",
        "        (c['diabetes'] == 0) and\n",
        "        (c['copd'] == 0) and\n",
        "        (c['asthma'] == 0) and\n",
        "        (c['inmsupr'] == 0) and\n",
        "        (c['hypertension'] == 0) and\n",
        "        (c['cardiovascular'] == 0) and\n",
        "        (c['obesity'] == 0) and\n",
        "        (c['renal_chronic'] == 0) and\n",
        "        (c['covid_res'] == 0) ):\n",
        "        return 1\n",
        "    else:\n",
        "        return 0"
      ],
      "execution_count": null,
      "outputs": []
    },
    {
      "cell_type": "code",
      "metadata": {
        "id": "ci5Owubqao1-",
        "colab": {
          "base_uri": "https://localhost:8080/",
          "height": 35
        },
        "outputId": "b2d63575-5872-4c83-f378-5c356f4eb345"
      },
      "source": [
        "#Age distribution\n",
        "'''sns.set(rc={'figure.figsize':(40.7,15)})\n",
        "ax = sns.countplot(x=\"age\",data=pat_precondition)'''"
      ],
      "execution_count": null,
      "outputs": [
        {
          "output_type": "execute_result",
          "data": {
            "application/vnd.google.colaboratory.intrinsic+json": {
              "type": "string"
            },
            "text/plain": [
              "'sns.set(rc={\\'figure.figsize\\':(40.7,15)})\\nax = sns.countplot(x=\"age\",data=pat_precondition)'"
            ]
          },
          "metadata": {
            "tags": []
          },
          "execution_count": 49
        }
      ]
    },
    {
      "cell_type": "code",
      "metadata": {
        "id": "dcxQXhkxmQ3F",
        "colab": {
          "base_uri": "https://localhost:8080/",
          "height": 35
        },
        "outputId": "9fbe9948-f5c2-4799-be57-1ebb70d1ffde"
      },
      "source": [
        "# plot histograms for each variable\n",
        "'''pat_precondition.hist(figsize = (12, 12))\n",
        "plt.show()'''"
      ],
      "execution_count": null,
      "outputs": [
        {
          "output_type": "execute_result",
          "data": {
            "application/vnd.google.colaboratory.intrinsic+json": {
              "type": "string"
            },
            "text/plain": [
              "'pat_precondition.hist(figsize = (12, 12))\\nplt.show()'"
            ]
          },
          "metadata": {
            "tags": []
          },
          "execution_count": 50
        }
      ]
    },
    {
      "cell_type": "code",
      "metadata": {
        "id": "REB1_-ZY4F47"
      },
      "source": [
        "pat_precondition['eligibility'] = pat_precondition.apply(pat_eligibility, axis=1)"
      ],
      "execution_count": null,
      "outputs": []
    },
    {
      "cell_type": "code",
      "metadata": {
        "colab": {
          "base_uri": "https://localhost:8080/",
          "height": 224
        },
        "id": "Dl0yuhtGM_aQ",
        "outputId": "0a4b50c2-d5b7-4a18-d259-7b4f43526d66"
      },
      "source": [
        "pat_precondition.head()"
      ],
      "execution_count": null,
      "outputs": [
        {
          "output_type": "execute_result",
          "data": {
            "text/html": [
              "<div>\n",
              "<style scoped>\n",
              "    .dataframe tbody tr th:only-of-type {\n",
              "        vertical-align: middle;\n",
              "    }\n",
              "\n",
              "    .dataframe tbody tr th {\n",
              "        vertical-align: top;\n",
              "    }\n",
              "\n",
              "    .dataframe thead th {\n",
              "        text-align: right;\n",
              "    }\n",
              "</style>\n",
              "<table border=\"1\" class=\"dataframe\">\n",
              "  <thead>\n",
              "    <tr style=\"text-align: right;\">\n",
              "      <th></th>\n",
              "      <th>sex</th>\n",
              "      <th>intubed</th>\n",
              "      <th>pneumonia</th>\n",
              "      <th>age</th>\n",
              "      <th>pregnancy</th>\n",
              "      <th>diabetes</th>\n",
              "      <th>copd</th>\n",
              "      <th>asthma</th>\n",
              "      <th>inmsupr</th>\n",
              "      <th>hypertension</th>\n",
              "      <th>cardiovascular</th>\n",
              "      <th>obesity</th>\n",
              "      <th>renal_chronic</th>\n",
              "      <th>contact_other_covid</th>\n",
              "      <th>covid_res</th>\n",
              "      <th>eligibility</th>\n",
              "    </tr>\n",
              "  </thead>\n",
              "  <tbody>\n",
              "    <tr>\n",
              "      <th>21</th>\n",
              "      <td>1</td>\n",
              "      <td>0</td>\n",
              "      <td>0</td>\n",
              "      <td>25</td>\n",
              "      <td>0</td>\n",
              "      <td>0</td>\n",
              "      <td>0</td>\n",
              "      <td>0</td>\n",
              "      <td>0</td>\n",
              "      <td>0</td>\n",
              "      <td>0</td>\n",
              "      <td>0</td>\n",
              "      <td>0</td>\n",
              "      <td>1</td>\n",
              "      <td>1</td>\n",
              "      <td>0</td>\n",
              "    </tr>\n",
              "    <tr>\n",
              "      <th>30</th>\n",
              "      <td>1</td>\n",
              "      <td>0</td>\n",
              "      <td>0</td>\n",
              "      <td>52</td>\n",
              "      <td>0</td>\n",
              "      <td>0</td>\n",
              "      <td>0</td>\n",
              "      <td>0</td>\n",
              "      <td>0</td>\n",
              "      <td>0</td>\n",
              "      <td>0</td>\n",
              "      <td>1</td>\n",
              "      <td>0</td>\n",
              "      <td>1</td>\n",
              "      <td>1</td>\n",
              "      <td>0</td>\n",
              "    </tr>\n",
              "    <tr>\n",
              "      <th>50</th>\n",
              "      <td>0</td>\n",
              "      <td>1</td>\n",
              "      <td>1</td>\n",
              "      <td>57</td>\n",
              "      <td>0</td>\n",
              "      <td>0</td>\n",
              "      <td>0</td>\n",
              "      <td>0</td>\n",
              "      <td>0</td>\n",
              "      <td>0</td>\n",
              "      <td>0</td>\n",
              "      <td>1</td>\n",
              "      <td>0</td>\n",
              "      <td>0</td>\n",
              "      <td>1</td>\n",
              "      <td>0</td>\n",
              "    </tr>\n",
              "    <tr>\n",
              "      <th>71</th>\n",
              "      <td>1</td>\n",
              "      <td>0</td>\n",
              "      <td>1</td>\n",
              "      <td>51</td>\n",
              "      <td>0</td>\n",
              "      <td>0</td>\n",
              "      <td>0</td>\n",
              "      <td>0</td>\n",
              "      <td>0</td>\n",
              "      <td>0</td>\n",
              "      <td>0</td>\n",
              "      <td>0</td>\n",
              "      <td>0</td>\n",
              "      <td>1</td>\n",
              "      <td>1</td>\n",
              "      <td>0</td>\n",
              "    </tr>\n",
              "    <tr>\n",
              "      <th>79</th>\n",
              "      <td>1</td>\n",
              "      <td>1</td>\n",
              "      <td>1</td>\n",
              "      <td>67</td>\n",
              "      <td>0</td>\n",
              "      <td>1</td>\n",
              "      <td>0</td>\n",
              "      <td>0</td>\n",
              "      <td>0</td>\n",
              "      <td>1</td>\n",
              "      <td>0</td>\n",
              "      <td>1</td>\n",
              "      <td>0</td>\n",
              "      <td>1</td>\n",
              "      <td>1</td>\n",
              "      <td>0</td>\n",
              "    </tr>\n",
              "  </tbody>\n",
              "</table>\n",
              "</div>"
            ],
            "text/plain": [
              "    sex  intubed  pneumonia  ...  contact_other_covid  covid_res  eligibility\n",
              "21    1        0          0  ...                    1          1            0\n",
              "30    1        0          0  ...                    1          1            0\n",
              "50    0        1          1  ...                    0          1            0\n",
              "71    1        0          1  ...                    1          1            0\n",
              "79    1        1          1  ...                    1          1            0\n",
              "\n",
              "[5 rows x 16 columns]"
            ]
          },
          "metadata": {
            "tags": []
          },
          "execution_count": 52
        }
      ]
    },
    {
      "cell_type": "code",
      "metadata": {
        "colab": {
          "base_uri": "https://localhost:8080/"
        },
        "id": "j_VNbgr5XVo6",
        "outputId": "78f5ebf6-66ae-4464-eff3-1e48f8f6a5c1"
      },
      "source": [
        "pat_precondition['eligibility'].value_counts()"
      ],
      "execution_count": null,
      "outputs": [
        {
          "output_type": "execute_result",
          "data": {
            "text/plain": [
              "0    50166\n",
              "1     1888\n",
              "Name: eligibility, dtype: int64"
            ]
          },
          "metadata": {
            "tags": []
          },
          "execution_count": 53
        }
      ]
    },
    {
      "cell_type": "code",
      "metadata": {
        "colab": {
          "base_uri": "https://localhost:8080/"
        },
        "id": "hPHuBZphh_K-",
        "outputId": "2d4fd3c7-d901-4115-aea0-0250440d01e1"
      },
      "source": [
        "pal = sns.color_palette('tab10')\n",
        "print(pal.as_hex())"
      ],
      "execution_count": null,
      "outputs": [
        {
          "output_type": "stream",
          "text": [
            "['#1f77b4', '#ff7f0e', '#2ca02c', '#d62728', '#9467bd', '#8c564b', '#e377c2', '#7f7f7f', '#bcbd22', '#17becf']\n"
          ],
          "name": "stdout"
        }
      ]
    },
    {
      "cell_type": "code",
      "metadata": {
        "colab": {
          "base_uri": "https://localhost:8080/",
          "height": 89
        },
        "id": "zTl8j4kViIPG",
        "outputId": "a6c84586-0578-4af0-81e6-1456c334c52d"
      },
      "source": [
        "sns.set_palette(['#55a3cd', '#9c2f45'])\n",
        "sns.palplot(sns.color_palette())"
      ],
      "execution_count": null,
      "outputs": [
        {
          "output_type": "display_data",
          "data": {
            "image/png": "[encoded data removed]",
            "text/plain": [
              "<Figure size 144x72 with 1 Axes>"
            ]
          },
          "metadata": {
            "tags": [],
            "needs_background": "light"
          }
        }
      ]
    },
    {
      "cell_type": "code",
      "metadata": {
        "colab": {
          "base_uri": "https://localhost:8080/",
          "height": 464
        },
        "id": "fkAZyos7hkaC",
        "outputId": "755432e5-37ce-481c-8536-6ca2b8d19c94"
      },
      "source": [
        "#Visualize counts\n",
        "sns.set(rc={'figure.figsize':(8,7)})\n",
        "g = sns.countplot(x = pat_precondition['eligibility'])\n",
        "g.set_xticklabels(['Not Eligible','Eligible'])\n",
        "plt.title('Patient Eligibility Count')\n",
        "plt.show()"
      ],
      "execution_count": null,
      "outputs": [
        {
          "output_type": "display_data",
          "data": {
            "image/png": "[encoded data removed]",
            "text/plain": [
              "<Figure size 576x504 with 1 Axes>"
            ]
          },
          "metadata": {
            "tags": []
          }
        }
      ]
    },
    {
      "cell_type": "code",
      "metadata": {
        "id": "E9DiY-77VuNB",
        "colab": {
          "base_uri": "https://localhost:8080/",
          "height": 35
        },
        "outputId": "82a9519d-c3ea-4b60-90e2-7a00c2bcec82"
      },
      "source": [
        "'''rs = np.random.RandomState(0)\n",
        "df = pd.DataFrame(rs.rand(10, 10))\n",
        "corr = pat_precondition.corr()\n",
        "corr.style.background_gradient(cmap='BrBG')'''"
      ],
      "execution_count": null,
      "outputs": [
        {
          "output_type": "execute_result",
          "data": {
            "application/vnd.google.colaboratory.intrinsic+json": {
              "type": "string"
            },
            "text/plain": [
              "\"rs = np.random.RandomState(0)\\ndf = pd.DataFrame(rs.rand(10, 10))\\ncorr = pat_precondition.corr()\\ncorr.style.background_gradient(cmap='BrBG')\""
            ]
          },
          "metadata": {
            "tags": []
          },
          "execution_count": 57
        }
      ]
    },
    {
      "cell_type": "code",
      "metadata": {
        "colab": {
          "base_uri": "https://localhost:8080/",
          "height": 504
        },
        "id": "IO1BX7fOkhin",
        "outputId": "ae323aed-7946-4bf6-8091-2db435bac3f6"
      },
      "source": [
        "#Stronger correlation on both ends of the spectrum pops out in darker, weaker correlation in lighter shades.\n",
        "plt.figure(figsize=(16, 6))\n",
        "heatmap = sns.heatmap(pat_precondition.corr(), vmin=-1, vmax=1, annot=True, cmap='BrBG')\n",
        "heatmap.set_title('Correlation Heatmap', fontdict={'fontsize':18}, pad=12);\n",
        "plt.savefig('heatmap.png', dpi=200, bbox_inches='tight')"
      ],
      "execution_count": null,
      "outputs": [
        {
          "output_type": "display_data",
          "data": {
            "image/png": "[encoded data removed]",
            "text/plain": [
              "<Figure size 1152x432 with 2 Axes>"
            ]
          },
          "metadata": {
            "tags": []
          }
        }
      ]
    },
    {
      "cell_type": "code",
      "metadata": {
        "colab": {
          "base_uri": "https://localhost:8080/"
        },
        "id": "wGVvZQiNjsi-",
        "outputId": "83d6bff5-ab8a-4eb1-a632-a2686d5cb2c7"
      },
      "source": [
        "pat_precondition.info()"
      ],
      "execution_count": null,
      "outputs": [
        {
          "output_type": "stream",
          "text": [
            "<class 'pandas.core.frame.DataFrame'>\n",
            "Int64Index: 52054 entries, 21 to 499688\n",
            "Data columns (total 16 columns):\n",
            " #   Column               Non-Null Count  Dtype\n",
            "---  ------               --------------  -----\n",
            " 0   sex                  52054 non-null  int64\n",
            " 1   intubed              52054 non-null  int64\n",
            " 2   pneumonia            52054 non-null  int64\n",
            " 3   age                  52054 non-null  int64\n",
            " 4   pregnancy            52054 non-null  int64\n",
            " 5   diabetes             52054 non-null  int64\n",
            " 6   copd                 52054 non-null  int64\n",
            " 7   asthma               52054 non-null  int64\n",
            " 8   inmsupr              52054 non-null  int64\n",
            " 9   hypertension         52054 non-null  int64\n",
            " 10  cardiovascular       52054 non-null  int64\n",
            " 11  obesity              52054 non-null  int64\n",
            " 12  renal_chronic        52054 non-null  int64\n",
            " 13  contact_other_covid  52054 non-null  int64\n",
            " 14  covid_res            52054 non-null  int64\n",
            " 15  eligibility          52054 non-null  int64\n",
            "dtypes: int64(16)\n",
            "memory usage: 9.3 MB\n"
          ],
          "name": "stdout"
        }
      ]
    },
    {
      "cell_type": "code",
      "metadata": {
        "id": "exGsVMINnar0",
        "colab": {
          "base_uri": "https://localhost:8080/",
          "height": 52
        },
        "outputId": "4e532fb0-4538-42bf-d313-97b79fecda88"
      },
      "source": [
        "'''pd.crosstab(pat_precondition.age,pat_precondition.eligibility).plot(kind=\"bar\",figsize=(20,6))\n",
        "plt.title('Eligibility Frequency for Ages')\n",
        "plt.xlabel('Age')\n",
        "plt.ylabel('Frequency')\n",
        "plt.show()'''"
      ],
      "execution_count": null,
      "outputs": [
        {
          "output_type": "execute_result",
          "data": {
            "application/vnd.google.colaboratory.intrinsic+json": {
              "type": "string"
            },
            "text/plain": [
              "'pd.crosstab(pat_precondition.age,pat_precondition.eligibility).plot(kind=\"bar\",figsize=(20,6))\\nplt.title(\\'Eligibility Frequency for Ages\\')\\nplt.xlabel(\\'Age\\')\\nplt.ylabel(\\'Frequency\\')\\nplt.show()'"
            ]
          },
          "metadata": {
            "tags": []
          },
          "execution_count": 60
        }
      ]
    },
    {
      "cell_type": "markdown",
      "metadata": {
        "id": "Jcso8DvqpUal"
      },
      "source": [
        "##Model Training: Neural Network"
      ]
    },
    {
      "cell_type": "code",
      "metadata": {
        "id": "VPpgbv1wpxqC"
      },
      "source": [
        "import tensorflow as tf\n",
        "from tensorflow import keras\n",
        "from sklearn.model_selection import train_test_split"
      ],
      "execution_count": null,
      "outputs": []
    },
    {
      "cell_type": "code",
      "metadata": {
        "id": "pU6RiYBmqgFh",
        "colab": {
          "base_uri": "https://localhost:8080/",
          "height": 35
        },
        "outputId": "e1bb4169-afd5-4036-baee-264cfd0ae83c"
      },
      "source": [
        "#Reserve 1\n",
        "'''labels = pat_precondition['eligibility']\n",
        "features = pat_precondition.drop(columns=['eligibility'])'''"
      ],
      "execution_count": null,
      "outputs": [
        {
          "output_type": "execute_result",
          "data": {
            "application/vnd.google.colaboratory.intrinsic+json": {
              "type": "string"
            },
            "text/plain": [
              "\"labels = pat_precondition['eligibility']\\nfeatures = pat_precondition.drop(columns=['eligibility'])\""
            ]
          },
          "metadata": {
            "tags": []
          },
          "execution_count": 62
        }
      ]
    },
    {
      "cell_type": "code",
      "metadata": {
        "id": "LCduYW3yrC9O"
      },
      "source": [
        "X = np.array(pat_precondition.drop(['eligibility'], 1))\n",
        "y = np.array(pat_precondition['eligibility'])"
      ],
      "execution_count": null,
      "outputs": []
    },
    {
      "cell_type": "code",
      "metadata": {
        "id": "02bfTmNVfE_b"
      },
      "source": [
        "X = X.astype('float32')\n",
        "y = y.astype('float32')"
      ],
      "execution_count": null,
      "outputs": []
    },
    {
      "cell_type": "markdown",
      "metadata": {
        "id": "MOhNBBrSuIxO"
      },
      "source": [
        "##Splitting Data\n",
        "\n",
        "Training set - use to train the model\n",
        "\n",
        "Validation set - check overfitting of the model\n",
        "\n",
        "Testing set - check how well the model does"
      ]
    },
    {
      "cell_type": "code",
      "metadata": {
        "id": "qO-sYrOStbz0"
      },
      "source": [
        "X = X.astype('float32')\n",
        "mean = X.mean(axis=0)\n",
        "X -= mean\n",
        "std = X.std(axis=0)\n",
        "X /= std\n",
        "y = y.astype('float32')"
      ],
      "execution_count": null,
      "outputs": []
    },
    {
      "cell_type": "code",
      "metadata": {
        "id": "GklcgPcyscAc"
      },
      "source": [
        "# create X and Y datasets for training\n",
        "from sklearn import model_selection\n",
        "\n",
        "X_train, X_test, y_train, y_test = model_selection.train_test_split(X, y, stratify=y, random_state=42, test_size = 0.3)"
      ],
      "execution_count": null,
      "outputs": []
    },
    {
      "cell_type": "code",
      "metadata": {
        "colab": {
          "base_uri": "https://localhost:8080/"
        },
        "id": "Hhlf5BEbdt7L",
        "outputId": "d0bfdbc8-5f46-4109-c10e-ea40d1438361"
      },
      "source": [
        "X_train.shape"
      ],
      "execution_count": null,
      "outputs": [
        {
          "output_type": "execute_result",
          "data": {
            "text/plain": [
              "(36437, 15)"
            ]
          },
          "metadata": {
            "tags": []
          },
          "execution_count": 68
        }
      ]
    },
    {
      "cell_type": "code",
      "metadata": {
        "colab": {
          "base_uri": "https://localhost:8080/"
        },
        "id": "xbLvcsXwd17p",
        "outputId": "0d934135-273f-4087-83e6-d87ce2c26918"
      },
      "source": [
        "y_train.shape"
      ],
      "execution_count": null,
      "outputs": [
        {
          "output_type": "execute_result",
          "data": {
            "text/plain": [
              "(36437,)"
            ]
          },
          "metadata": {
            "tags": []
          },
          "execution_count": 69
        }
      ]
    },
    {
      "cell_type": "code",
      "metadata": {
        "colab": {
          "base_uri": "https://localhost:8080/"
        },
        "id": "dJR5r0Z5eT2-",
        "outputId": "451b05ae-88db-4c6f-f1bd-4750cbd8f9af"
      },
      "source": [
        "pd.value_counts(y_train[:,])"
      ],
      "execution_count": null,
      "outputs": [
        {
          "output_type": "execute_result",
          "data": {
            "text/plain": [
              "0.0    35115\n",
              "1.0     1322\n",
              "dtype: int64"
            ]
          },
          "metadata": {
            "tags": []
          },
          "execution_count": 70
        }
      ]
    },
    {
      "cell_type": "markdown",
      "metadata": {
        "id": "SCGTWNKG5sAr"
      },
      "source": [
        "##Oversampling(Training Dataset): ADASYN: Adaptive Synthetic Sampling Approach\n",
        "ADASYN is a generalized form of the SMOTE algorithm. This algorithm also aims to oversample the minority class by generating synthetic instances for it. But the difference here is it considers the density distribution, ri which decides the no. of synthetic instances generated for samples which difficult to learn. Due to this, it helps in adaptively changing the decision boundaries based on the samples difficult to learn. This is the major difference compared to SMOTE."
      ]
    },
    {
      "cell_type": "code",
      "metadata": {
        "colab": {
          "base_uri": "https://localhost:8080/",
          "height": 447
        },
        "id": "Bi8njri7bhUn",
        "outputId": "a7ca79b0-7607-4785-f33d-4974c34748a2"
      },
      "source": [
        "#Visualize counts on the training dataset before balancing\n",
        "sns.set(rc={'figure.figsize':(8,7)})\n",
        "g = sns.countplot(x = y_train[:,])\n",
        "g.set_xticklabels(['Not Eligible','Eligible'])\n",
        "plt.title('Patient Eligibility Count on Training Dataset')\n",
        "plt.show()"
      ],
      "execution_count": null,
      "outputs": [
        {
          "output_type": "display_data",
          "data": {
            "image/png": "[encoded data removed]",
            "text/plain": [
              "<Figure size 576x504 with 1 Axes>"
            ]
          },
          "metadata": {
            "tags": []
          }
        }
      ]
    },
    {
      "cell_type": "code",
      "metadata": {
        "colab": {
          "base_uri": "https://localhost:8080/"
        },
        "id": "425Eh7q1qpVc",
        "outputId": "e4cad5ad-aad1-486b-a950-3bd5bd4764dc"
      },
      "source": [
        "from imblearn.over_sampling import ADASYN\n",
        "ada = ADASYN()\n",
        "X_train_mod, y_train_mod = ada.fit_sample(X_train, y_train)"
      ],
      "execution_count": null,
      "outputs": [
        {
          "output_type": "stream",
          "text": [
            "/usr/local/lib/python3.7/dist-packages/sklearn/externals/six.py:31: FutureWarning: The module is deprecated in version 0.21 and will be removed in version 0.23 since we've dropped support for Python 2.7. Please rely on the official version of six (https://pypi.org/project/six/).\n",
            "  \"(https://pypi.org/project/six/).\", FutureWarning)\n",
            "/usr/local/lib/python3.7/dist-packages/sklearn/utils/deprecation.py:144: FutureWarning: The sklearn.neighbors.base module is  deprecated in version 0.22 and will be removed in version 0.24. The corresponding classes / functions should instead be imported from sklearn.neighbors. Anything that cannot be imported from sklearn.neighbors is now part of the private API.\n",
            "  warnings.warn(message, FutureWarning)\n",
            "/usr/local/lib/python3.7/dist-packages/sklearn/utils/deprecation.py:87: FutureWarning: Function safe_indexing is deprecated; safe_indexing is deprecated in version 0.22 and will be removed in version 0.24.\n",
            "  warnings.warn(msg, category=FutureWarning)\n"
          ],
          "name": "stderr"
        }
      ]
    },
    {
      "cell_type": "code",
      "metadata": {
        "colab": {
          "base_uri": "https://localhost:8080/"
        },
        "id": "4OXm9H7bu2Mi",
        "outputId": "652ad48e-9775-41ee-caae-88319b7fd6cf"
      },
      "source": [
        "from collections import Counter\n",
        "counter = Counter(y_train)\n",
        "print('Before',counter)\n",
        "counter = Counter(y_train_mod)\n",
        "print('After',counter)"
      ],
      "execution_count": null,
      "outputs": [
        {
          "output_type": "stream",
          "text": [
            "Before Counter({0.0: 35115, 1.0: 1322})\n",
            "After Counter({0.0: 35115, 1.0: 35114})\n"
          ],
          "name": "stdout"
        }
      ]
    },
    {
      "cell_type": "code",
      "metadata": {
        "id": "g4tuOGZTx6yV",
        "colab": {
          "base_uri": "https://localhost:8080/",
          "height": 35
        },
        "outputId": "88ce5f24-fc56-4ae4-d42e-3a944c4f9dd7"
      },
      "source": [
        "'''from sklearn.preprocessing import normalize\n",
        "X_train_mod = normalize(X_train_mod)\n",
        "X_test = normalize(X_test)'''"
      ],
      "execution_count": null,
      "outputs": [
        {
          "output_type": "execute_result",
          "data": {
            "application/vnd.google.colaboratory.intrinsic+json": {
              "type": "string"
            },
            "text/plain": [
              "'from sklearn.preprocessing import normalize\\nX_train_mod = normalize(X_train_mod)\\nX_test = normalize(X_test)'"
            ]
          },
          "metadata": {
            "tags": []
          },
          "execution_count": 74
        }
      ]
    },
    {
      "cell_type": "code",
      "metadata": {
        "colab": {
          "base_uri": "https://localhost:8080/"
        },
        "id": "MrLudFXmtM1V",
        "outputId": "eeb95dc4-d22d-42ba-fda7-8c33f7cefb09"
      },
      "source": [
        "X_train_mod[0]"
      ],
      "execution_count": null,
      "outputs": [
        {
          "output_type": "execute_result",
          "data": {
            "text/plain": [
              "array([ 1.2385588 , -0.39637807, -1.5472603 ,  0.7580756 , -0.09917501,\n",
              "       -0.62342775, -0.20503335, -0.16067313, -0.19163965, -0.64800674,\n",
              "       -0.23017094, -0.1146417 ,  4.4986515 ,  1.5783578 , -1.3068134 ],\n",
              "      dtype=float32)"
            ]
          },
          "metadata": {
            "tags": []
          },
          "execution_count": 75
        }
      ]
    },
    {
      "cell_type": "code",
      "metadata": {
        "colab": {
          "base_uri": "https://localhost:8080/"
        },
        "id": "IPPO5LtCyxfw",
        "outputId": "41c04b4e-23a1-4dd6-c109-bd9e023cec13"
      },
      "source": [
        "X_train_mod.shape"
      ],
      "execution_count": null,
      "outputs": [
        {
          "output_type": "execute_result",
          "data": {
            "text/plain": [
              "(70229, 15)"
            ]
          },
          "metadata": {
            "tags": []
          },
          "execution_count": 76
        }
      ]
    },
    {
      "cell_type": "code",
      "metadata": {
        "colab": {
          "base_uri": "https://localhost:8080/",
          "height": 52
        },
        "id": "pC3nHNa4yUAy",
        "outputId": "8c8524f7-7aac-4764-c415-d9d3e97ce2fb"
      },
      "source": [
        "'''Y_train_binary = y_train.copy()\n",
        "Y_test_binary = y_test.copy()\n",
        "\n",
        "Y_train_binary[Y_train_binary > 0] = 1\n",
        "Y_test_binary[Y_test_binary > 0] = 1\n",
        "\n",
        "print(Y_train_binary[:20])'''"
      ],
      "execution_count": null,
      "outputs": [
        {
          "output_type": "execute_result",
          "data": {
            "application/vnd.google.colaboratory.intrinsic+json": {
              "type": "string"
            },
            "text/plain": [
              "'Y_train_binary = y_train.copy()\\nY_test_binary = y_test.copy()\\n\\nY_train_binary[Y_train_binary > 0] = 1\\nY_test_binary[Y_test_binary > 0] = 1\\n\\nprint(Y_train_binary[:20])'"
            ]
          },
          "metadata": {
            "tags": []
          },
          "execution_count": 80
        }
      ]
    },
    {
      "cell_type": "code",
      "metadata": {
        "colab": {
          "base_uri": "https://localhost:8080/"
        },
        "id": "m6WmZd1Zvxll",
        "outputId": "1cf61c76-03a2-4d1c-95ae-850b9c485ff2"
      },
      "source": [
        "!pip install tensorboardcolab"
      ],
      "execution_count": null,
      "outputs": [
        {
          "output_type": "stream",
          "text": [
            "Collecting tensorboardcolab\n",
            "  Downloading https://files.pythonhosted.org/packages/d9/28/97bf50473dc058d26188ef3aae373e56173d24c615fb419705cfffa6875d/tensorboardcolab-0.0.22.tar.gz\n",
            "Building wheels for collected packages: tensorboardcolab\n",
            "  Building wheel for tensorboardcolab (setup.py) ... \u001b[?25l\u001b[?25hdone\n",
            "  Created wheel for tensorboardcolab: filename=tensorboardcolab-0.0.22-cp37-none-any.whl size=3860 sha256=3fbc2956df8ead04eabadea2ffb77c4587a9f9d0e84b0c493d7e69be8efc5747\n",
            "  Stored in directory: /root/.cache/pip/wheels/c4/aa/a0/3aaf4f1a66adbdab9b7bdd4c96db8ada89eb7cd87200cfdd32\n",
            "Successfully built tensorboardcolab\n",
            "Installing collected packages: tensorboardcolab\n",
            "Successfully installed tensorboardcolab-0.0.22\n"
          ],
          "name": "stdout"
        }
      ]
    },
    {
      "cell_type": "code",
      "metadata": {
        "id": "zI89DvlVwJM6"
      },
      "source": [
        "from keras.callbacks import TensorBoard\n",
        "%load_ext tensorboard\n",
        "!rm -rf ./logs/ #to delete previous runs\n",
        "%tensorboard --logdir logs/\n",
        "tensorboard = TensorBoard(log_dir=\"./logs\")"
      ],
      "execution_count": null,
      "outputs": []
    },
    {
      "cell_type": "code",
      "metadata": {
        "id": "s1mVDrphNYqt",
        "colab": {
          "base_uri": "https://localhost:8080/"
        },
        "outputId": "90b1729e-cf66-4366-a52d-15e2bb585a07"
      },
      "source": [
        "!kill 696"
      ],
      "execution_count": null,
      "outputs": [
        {
          "output_type": "stream",
          "text": [
            "/bin/bash: line 0: kill: (696) - No such process\n"
          ],
          "name": "stdout"
        }
      ]
    },
    {
      "cell_type": "code",
      "metadata": {
        "id": "BeixCMegueIM",
        "colab": {
          "base_uri": "https://localhost:8080/"
        },
        "outputId": "8124880a-036c-47b5-f447-f0a97c0a3f19"
      },
      "source": [
        "from keras.models import Sequential\n",
        "from keras.layers import Dense\n",
        "from keras.optimizers import Adam\n",
        "from keras.optimizers import SGD\n",
        "from keras.layers import Dropout\n",
        "from keras import regularizers\n",
        "\n",
        "# define a function to build the keras model\n",
        "def create_binary_model():\n",
        "    # create model\n",
        "    model = Sequential()\n",
        "    model.add(Dense(60, input_dim=15,kernel_initializer='normal',  kernel_regularizer=regularizers.l2(0.001), activation='relu'))\n",
        "    #model.add(Dropout(0.7))\n",
        "    #model.add(Dense(20, kernel_initializer='normal',  kernel_regularizer=regularizers.l2(0.001),activation='relu'))\n",
        "    #model.add(Dropout(0.6))\n",
        "    model.add(Dense(30,kernel_initializer='normal',  kernel_regularizer=regularizers.l2(0.001),  activation='relu'))\n",
        "   # model.add(Dropout(0.7))\n",
        "    model.add(Dense(1, activation='sigmoid'))\n",
        "    \n",
        "    # Compile model\n",
        "    '''lr_schedule = keras.optimizers.schedules.ExponentialDecay(\n",
        "    initial_learning_rate=1e-2,\n",
        "    decay_steps=10000,\n",
        "    decay_rate=0.9)'''\n",
        "    #optimizer = SGD(learning_rate=lr_schedule)\n",
        "    adam = SGD(lr=1e-3)\n",
        "    model.compile(loss='binary_crossentropy', optimizer=adam, metrics=['accuracy'])\n",
        "    return model\n",
        "\n",
        "binary_model = create_binary_model()\n",
        "\n",
        "\n",
        "print(binary_model.summary())\n"
      ],
      "execution_count": null,
      "outputs": [
        {
          "output_type": "stream",
          "text": [
            "Model: \"sequential_3\"\n",
            "_________________________________________________________________\n",
            "Layer (type)                 Output Shape              Param #   \n",
            "=================================================================\n",
            "dense_9 (Dense)              (None, 60)                960       \n",
            "_________________________________________________________________\n",
            "dense_10 (Dense)             (None, 30)                1830      \n",
            "_________________________________________________________________\n",
            "dense_11 (Dense)             (None, 1)                 31        \n",
            "=================================================================\n",
            "Total params: 2,821\n",
            "Trainable params: 2,821\n",
            "Non-trainable params: 0\n",
            "_________________________________________________________________\n",
            "None\n"
          ],
          "name": "stdout"
        }
      ]
    },
    {
      "cell_type": "code",
      "metadata": {
        "id": "NSKhk4R3u-yC",
        "colab": {
          "base_uri": "https://localhost:8080/"
        },
        "outputId": "794b63b5-bbe6-4970-a68c-3741a764d885"
      },
      "source": [
        "history=binary_model.fit(X_train_mod, y_train_mod,batch_size= 128, validation_data=(X_test, y_test), epochs=100)"
      ],
      "execution_count": null,
      "outputs": [
        {
          "output_type": "stream",
          "text": [
            "Epoch 1/100\n",
            "549/549 [==============================] - 1s 2ms/step - loss: 0.6870 - accuracy: 0.6751 - val_loss: 0.7002 - val_accuracy: 0.4989\n",
            "Epoch 2/100\n",
            "549/549 [==============================] - 1s 1ms/step - loss: 0.6479 - accuracy: 0.7820 - val_loss: 0.6807 - val_accuracy: 0.7425\n",
            "Epoch 3/100\n",
            "549/549 [==============================] - 1s 2ms/step - loss: 0.5999 - accuracy: 0.8717 - val_loss: 0.6524 - val_accuracy: 0.7842\n",
            "Epoch 4/100\n",
            "549/549 [==============================] - 1s 1ms/step - loss: 0.5380 - accuracy: 0.8882 - val_loss: 0.6146 - val_accuracy: 0.8020\n",
            "Epoch 5/100\n",
            "549/549 [==============================] - 1s 1ms/step - loss: 0.4710 - accuracy: 0.8988 - val_loss: 0.5640 - val_accuracy: 0.8222\n",
            "Epoch 6/100\n",
            "549/549 [==============================] - 1s 1ms/step - loss: 0.4084 - accuracy: 0.9094 - val_loss: 0.5087 - val_accuracy: 0.8486\n",
            "Epoch 7/100\n",
            "549/549 [==============================] - 1s 1ms/step - loss: 0.3570 - accuracy: 0.9238 - val_loss: 0.4535 - val_accuracy: 0.8719\n",
            "Epoch 8/100\n",
            "549/549 [==============================] - 1s 2ms/step - loss: 0.3143 - accuracy: 0.9355 - val_loss: 0.4039 - val_accuracy: 0.8919\n",
            "Epoch 9/100\n",
            "549/549 [==============================] - 1s 1ms/step - loss: 0.2797 - accuracy: 0.9449 - val_loss: 0.3601 - val_accuracy: 0.9103\n",
            "Epoch 10/100\n",
            "549/549 [==============================] - 1s 1ms/step - loss: 0.2485 - accuracy: 0.9553 - val_loss: 0.3221 - val_accuracy: 0.9240\n",
            "Epoch 11/100\n",
            "549/549 [==============================] - 1s 1ms/step - loss: 0.2240 - accuracy: 0.9624 - val_loss: 0.2898 - val_accuracy: 0.9344\n",
            "Epoch 12/100\n",
            "549/549 [==============================] - 1s 1ms/step - loss: 0.2026 - accuracy: 0.9668 - val_loss: 0.2619 - val_accuracy: 0.9407\n",
            "Epoch 13/100\n",
            "549/549 [==============================] - 1s 1ms/step - loss: 0.1846 - accuracy: 0.9706 - val_loss: 0.2385 - val_accuracy: 0.9480\n",
            "Epoch 14/100\n",
            "549/549 [==============================] - 1s 1ms/step - loss: 0.1690 - accuracy: 0.9740 - val_loss: 0.2183 - val_accuracy: 0.9518\n",
            "Epoch 15/100\n",
            "549/549 [==============================] - 1s 1ms/step - loss: 0.1554 - accuracy: 0.9765 - val_loss: 0.2008 - val_accuracy: 0.9559\n",
            "Epoch 16/100\n",
            "549/549 [==============================] - 1s 1ms/step - loss: 0.1456 - accuracy: 0.9767 - val_loss: 0.1870 - val_accuracy: 0.9570\n",
            "Epoch 17/100\n",
            "549/549 [==============================] - 1s 1ms/step - loss: 0.1351 - accuracy: 0.9778 - val_loss: 0.1742 - val_accuracy: 0.9581\n",
            "Epoch 18/100\n",
            "549/549 [==============================] - 1s 1ms/step - loss: 0.1248 - accuracy: 0.9795 - val_loss: 0.1630 - val_accuracy: 0.9592\n",
            "Epoch 19/100\n",
            "549/549 [==============================] - 1s 1ms/step - loss: 0.1183 - accuracy: 0.9794 - val_loss: 0.1534 - val_accuracy: 0.9602\n",
            "Epoch 20/100\n",
            "549/549 [==============================] - 1s 1ms/step - loss: 0.1135 - accuracy: 0.9795 - val_loss: 0.1458 - val_accuracy: 0.9625\n",
            "Epoch 21/100\n",
            "549/549 [==============================] - 1s 1ms/step - loss: 0.1065 - accuracy: 0.9811 - val_loss: 0.1384 - val_accuracy: 0.9655\n",
            "Epoch 22/100\n",
            "549/549 [==============================] - 1s 1ms/step - loss: 0.1009 - accuracy: 0.9823 - val_loss: 0.1319 - val_accuracy: 0.9678\n",
            "Epoch 23/100\n",
            "549/549 [==============================] - 1s 1ms/step - loss: 0.0981 - accuracy: 0.9827 - val_loss: 0.1265 - val_accuracy: 0.9690\n",
            "Epoch 24/100\n",
            "549/549 [==============================] - 1s 1ms/step - loss: 0.0928 - accuracy: 0.9846 - val_loss: 0.1217 - val_accuracy: 0.9712\n",
            "Epoch 25/100\n",
            "549/549 [==============================] - 1s 1ms/step - loss: 0.0907 - accuracy: 0.9845 - val_loss: 0.1175 - val_accuracy: 0.9712\n",
            "Epoch 26/100\n",
            "549/549 [==============================] - 1s 1ms/step - loss: 0.0858 - accuracy: 0.9854 - val_loss: 0.1133 - val_accuracy: 0.9712\n",
            "Epoch 27/100\n",
            "549/549 [==============================] - 1s 1ms/step - loss: 0.0824 - accuracy: 0.9859 - val_loss: 0.1095 - val_accuracy: 0.9712\n",
            "Epoch 28/100\n",
            "549/549 [==============================] - 1s 1ms/step - loss: 0.0799 - accuracy: 0.9856 - val_loss: 0.1064 - val_accuracy: 0.9715\n",
            "Epoch 29/100\n",
            "549/549 [==============================] - 1s 1ms/step - loss: 0.0775 - accuracy: 0.9865 - val_loss: 0.1034 - val_accuracy: 0.9719\n",
            "Epoch 30/100\n",
            "549/549 [==============================] - 1s 1ms/step - loss: 0.0761 - accuracy: 0.9861 - val_loss: 0.1009 - val_accuracy: 0.9725\n",
            "Epoch 31/100\n",
            "549/549 [==============================] - 1s 1ms/step - loss: 0.0744 - accuracy: 0.9862 - val_loss: 0.0984 - val_accuracy: 0.9737\n",
            "Epoch 32/100\n",
            "549/549 [==============================] - 1s 1ms/step - loss: 0.0712 - accuracy: 0.9879 - val_loss: 0.0961 - val_accuracy: 0.9754\n",
            "Epoch 33/100\n",
            "549/549 [==============================] - 1s 1ms/step - loss: 0.0717 - accuracy: 0.9873 - val_loss: 0.0943 - val_accuracy: 0.9757\n",
            "Epoch 34/100\n",
            "549/549 [==============================] - 1s 1ms/step - loss: 0.0701 - accuracy: 0.9874 - val_loss: 0.0926 - val_accuracy: 0.9760\n",
            "Epoch 35/100\n",
            "549/549 [==============================] - 1s 1ms/step - loss: 0.0676 - accuracy: 0.9882 - val_loss: 0.0905 - val_accuracy: 0.9764\n",
            "Epoch 36/100\n",
            "549/549 [==============================] - 1s 2ms/step - loss: 0.0664 - accuracy: 0.9883 - val_loss: 0.0892 - val_accuracy: 0.9764\n",
            "Epoch 37/100\n",
            "549/549 [==============================] - 1s 1ms/step - loss: 0.0668 - accuracy: 0.9879 - val_loss: 0.0879 - val_accuracy: 0.9768\n",
            "Epoch 38/100\n",
            "549/549 [==============================] - 1s 1ms/step - loss: 0.0639 - accuracy: 0.9882 - val_loss: 0.0865 - val_accuracy: 0.9773\n",
            "Epoch 39/100\n",
            "549/549 [==============================] - 1s 1ms/step - loss: 0.0646 - accuracy: 0.9890 - val_loss: 0.0852 - val_accuracy: 0.9781\n",
            "Epoch 40/100\n",
            "549/549 [==============================] - 1s 2ms/step - loss: 0.0622 - accuracy: 0.9889 - val_loss: 0.0842 - val_accuracy: 0.9785\n",
            "Epoch 41/100\n",
            "549/549 [==============================] - 1s 1ms/step - loss: 0.0614 - accuracy: 0.9892 - val_loss: 0.0832 - val_accuracy: 0.9795\n",
            "Epoch 42/100\n",
            "549/549 [==============================] - 1s 1ms/step - loss: 0.0633 - accuracy: 0.9895 - val_loss: 0.0822 - val_accuracy: 0.9807\n",
            "Epoch 43/100\n",
            "549/549 [==============================] - 1s 1ms/step - loss: 0.0599 - accuracy: 0.9904 - val_loss: 0.0812 - val_accuracy: 0.9808\n",
            "Epoch 44/100\n",
            "549/549 [==============================] - 1s 1ms/step - loss: 0.0602 - accuracy: 0.9899 - val_loss: 0.0802 - val_accuracy: 0.9809\n",
            "Epoch 45/100\n",
            "549/549 [==============================] - 1s 1ms/step - loss: 0.0582 - accuracy: 0.9905 - val_loss: 0.0794 - val_accuracy: 0.9809\n",
            "Epoch 46/100\n",
            "549/549 [==============================] - 1s 1ms/step - loss: 0.0581 - accuracy: 0.9904 - val_loss: 0.0785 - val_accuracy: 0.9809\n",
            "Epoch 47/100\n",
            "549/549 [==============================] - 1s 1ms/step - loss: 0.0564 - accuracy: 0.9907 - val_loss: 0.0778 - val_accuracy: 0.9810\n",
            "Epoch 48/100\n",
            "549/549 [==============================] - 1s 1ms/step - loss: 0.0577 - accuracy: 0.9901 - val_loss: 0.0771 - val_accuracy: 0.9810\n",
            "Epoch 49/100\n",
            "549/549 [==============================] - 1s 1ms/step - loss: 0.0569 - accuracy: 0.9902 - val_loss: 0.0765 - val_accuracy: 0.9810\n",
            "Epoch 50/100\n",
            "549/549 [==============================] - 1s 2ms/step - loss: 0.0549 - accuracy: 0.9907 - val_loss: 0.0759 - val_accuracy: 0.9812\n",
            "Epoch 51/100\n",
            "549/549 [==============================] - 1s 1ms/step - loss: 0.0547 - accuracy: 0.9911 - val_loss: 0.0751 - val_accuracy: 0.9812\n",
            "Epoch 52/100\n",
            "549/549 [==============================] - 1s 1ms/step - loss: 0.0542 - accuracy: 0.9907 - val_loss: 0.0747 - val_accuracy: 0.9814\n",
            "Epoch 53/100\n",
            "549/549 [==============================] - 1s 2ms/step - loss: 0.0541 - accuracy: 0.9909 - val_loss: 0.0742 - val_accuracy: 0.9822\n",
            "Epoch 54/100\n",
            "549/549 [==============================] - 1s 1ms/step - loss: 0.0529 - accuracy: 0.9916 - val_loss: 0.0736 - val_accuracy: 0.9822\n",
            "Epoch 55/100\n",
            "549/549 [==============================] - 1s 1ms/step - loss: 0.0528 - accuracy: 0.9914 - val_loss: 0.0733 - val_accuracy: 0.9822\n",
            "Epoch 56/100\n",
            "549/549 [==============================] - 1s 1ms/step - loss: 0.0552 - accuracy: 0.9900 - val_loss: 0.0732 - val_accuracy: 0.9822\n",
            "Epoch 57/100\n",
            "549/549 [==============================] - 1s 1ms/step - loss: 0.0528 - accuracy: 0.9911 - val_loss: 0.0725 - val_accuracy: 0.9822\n",
            "Epoch 58/100\n",
            "549/549 [==============================] - 1s 1ms/step - loss: 0.0533 - accuracy: 0.9909 - val_loss: 0.0721 - val_accuracy: 0.9822\n",
            "Epoch 59/100\n",
            "549/549 [==============================] - 1s 1ms/step - loss: 0.0525 - accuracy: 0.9911 - val_loss: 0.0716 - val_accuracy: 0.9822\n",
            "Epoch 60/100\n",
            "549/549 [==============================] - 1s 2ms/step - loss: 0.0517 - accuracy: 0.9910 - val_loss: 0.0713 - val_accuracy: 0.9822\n",
            "Epoch 61/100\n",
            "549/549 [==============================] - 1s 2ms/step - loss: 0.0503 - accuracy: 0.9914 - val_loss: 0.0709 - val_accuracy: 0.9822\n",
            "Epoch 62/100\n",
            "549/549 [==============================] - 1s 1ms/step - loss: 0.0513 - accuracy: 0.9912 - val_loss: 0.0704 - val_accuracy: 0.9822\n",
            "Epoch 63/100\n",
            "549/549 [==============================] - 1s 2ms/step - loss: 0.0508 - accuracy: 0.9911 - val_loss: 0.0702 - val_accuracy: 0.9822\n",
            "Epoch 64/100\n",
            "549/549 [==============================] - 1s 2ms/step - loss: 0.0519 - accuracy: 0.9904 - val_loss: 0.0701 - val_accuracy: 0.9822\n",
            "Epoch 65/100\n",
            "549/549 [==============================] - 1s 1ms/step - loss: 0.0508 - accuracy: 0.9908 - val_loss: 0.0697 - val_accuracy: 0.9822\n",
            "Epoch 66/100\n",
            "549/549 [==============================] - 1s 1ms/step - loss: 0.0513 - accuracy: 0.9909 - val_loss: 0.0695 - val_accuracy: 0.9822\n",
            "Epoch 67/100\n",
            "549/549 [==============================] - 1s 1ms/step - loss: 0.0486 - accuracy: 0.9916 - val_loss: 0.0689 - val_accuracy: 0.9823\n",
            "Epoch 68/100\n",
            "549/549 [==============================] - 1s 1ms/step - loss: 0.0491 - accuracy: 0.9913 - val_loss: 0.0685 - val_accuracy: 0.9823\n",
            "Epoch 69/100\n",
            "549/549 [==============================] - 1s 1ms/step - loss: 0.0494 - accuracy: 0.9911 - val_loss: 0.0684 - val_accuracy: 0.9823\n",
            "Epoch 70/100\n",
            "549/549 [==============================] - 1s 1ms/step - loss: 0.0503 - accuracy: 0.9908 - val_loss: 0.0682 - val_accuracy: 0.9823\n",
            "Epoch 71/100\n",
            "549/549 [==============================] - 1s 1ms/step - loss: 0.0490 - accuracy: 0.9908 - val_loss: 0.0682 - val_accuracy: 0.9823\n",
            "Epoch 72/100\n",
            "549/549 [==============================] - 1s 2ms/step - loss: 0.0484 - accuracy: 0.9917 - val_loss: 0.0676 - val_accuracy: 0.9823\n",
            "Epoch 73/100\n",
            "549/549 [==============================] - 1s 2ms/step - loss: 0.0468 - accuracy: 0.9917 - val_loss: 0.0674 - val_accuracy: 0.9823\n",
            "Epoch 74/100\n",
            "549/549 [==============================] - 1s 2ms/step - loss: 0.0478 - accuracy: 0.9915 - val_loss: 0.0672 - val_accuracy: 0.9823\n",
            "Epoch 75/100\n",
            "549/549 [==============================] - 1s 2ms/step - loss: 0.0484 - accuracy: 0.9911 - val_loss: 0.0670 - val_accuracy: 0.9823\n",
            "Epoch 76/100\n",
            "549/549 [==============================] - 1s 1ms/step - loss: 0.0482 - accuracy: 0.9914 - val_loss: 0.0669 - val_accuracy: 0.9823\n",
            "Epoch 77/100\n",
            "549/549 [==============================] - 1s 2ms/step - loss: 0.0486 - accuracy: 0.9909 - val_loss: 0.0666 - val_accuracy: 0.9823\n",
            "Epoch 78/100\n",
            "549/549 [==============================] - 1s 2ms/step - loss: 0.0484 - accuracy: 0.9908 - val_loss: 0.0666 - val_accuracy: 0.9823\n",
            "Epoch 79/100\n",
            "549/549 [==============================] - 1s 1ms/step - loss: 0.0479 - accuracy: 0.9910 - val_loss: 0.0663 - val_accuracy: 0.9823\n",
            "Epoch 80/100\n",
            "549/549 [==============================] - 1s 2ms/step - loss: 0.0468 - accuracy: 0.9913 - val_loss: 0.0661 - val_accuracy: 0.9823\n",
            "Epoch 81/100\n",
            "549/549 [==============================] - 1s 1ms/step - loss: 0.0474 - accuracy: 0.9914 - val_loss: 0.0658 - val_accuracy: 0.9823\n",
            "Epoch 82/100\n",
            "549/549 [==============================] - 1s 1ms/step - loss: 0.0482 - accuracy: 0.9908 - val_loss: 0.0658 - val_accuracy: 0.9823\n",
            "Epoch 83/100\n",
            "549/549 [==============================] - 1s 2ms/step - loss: 0.0483 - accuracy: 0.9909 - val_loss: 0.0657 - val_accuracy: 0.9823\n",
            "Epoch 84/100\n",
            "549/549 [==============================] - 1s 2ms/step - loss: 0.0461 - accuracy: 0.9915 - val_loss: 0.0654 - val_accuracy: 0.9823\n",
            "Epoch 85/100\n",
            "549/549 [==============================] - 1s 2ms/step - loss: 0.0461 - accuracy: 0.9909 - val_loss: 0.0652 - val_accuracy: 0.9823\n",
            "Epoch 86/100\n",
            "549/549 [==============================] - 1s 1ms/step - loss: 0.0473 - accuracy: 0.9908 - val_loss: 0.0651 - val_accuracy: 0.9823\n",
            "Epoch 87/100\n",
            "549/549 [==============================] - 1s 1ms/step - loss: 0.0452 - accuracy: 0.9917 - val_loss: 0.0649 - val_accuracy: 0.9823\n",
            "Epoch 88/100\n",
            "549/549 [==============================] - 1s 1ms/step - loss: 0.0476 - accuracy: 0.9906 - val_loss: 0.0650 - val_accuracy: 0.9823\n",
            "Epoch 89/100\n",
            "549/549 [==============================] - 1s 2ms/step - loss: 0.0447 - accuracy: 0.9917 - val_loss: 0.0646 - val_accuracy: 0.9824\n",
            "Epoch 90/100\n",
            "549/549 [==============================] - 1s 1ms/step - loss: 0.0465 - accuracy: 0.9914 - val_loss: 0.0645 - val_accuracy: 0.9824\n",
            "Epoch 91/100\n",
            "549/549 [==============================] - 1s 2ms/step - loss: 0.0465 - accuracy: 0.9909 - val_loss: 0.0644 - val_accuracy: 0.9824\n",
            "Epoch 92/100\n",
            "549/549 [==============================] - 1s 2ms/step - loss: 0.0462 - accuracy: 0.9910 - val_loss: 0.0642 - val_accuracy: 0.9824\n",
            "Epoch 93/100\n",
            "549/549 [==============================] - 1s 2ms/step - loss: 0.0464 - accuracy: 0.9909 - val_loss: 0.0642 - val_accuracy: 0.9824\n",
            "Epoch 94/100\n",
            "549/549 [==============================] - 1s 1ms/step - loss: 0.0444 - accuracy: 0.9917 - val_loss: 0.0640 - val_accuracy: 0.9824\n",
            "Epoch 95/100\n",
            "549/549 [==============================] - 1s 1ms/step - loss: 0.0453 - accuracy: 0.9914 - val_loss: 0.0637 - val_accuracy: 0.9824\n",
            "Epoch 96/100\n",
            "549/549 [==============================] - 1s 1ms/step - loss: 0.0448 - accuracy: 0.9914 - val_loss: 0.0636 - val_accuracy: 0.9824\n",
            "Epoch 97/100\n",
            "549/549 [==============================] - 1s 2ms/step - loss: 0.0460 - accuracy: 0.9912 - val_loss: 0.0635 - val_accuracy: 0.9824\n",
            "Epoch 98/100\n",
            "549/549 [==============================] - 1s 2ms/step - loss: 0.0482 - accuracy: 0.9900 - val_loss: 0.0636 - val_accuracy: 0.9824\n",
            "Epoch 99/100\n",
            "549/549 [==============================] - 1s 1ms/step - loss: 0.0442 - accuracy: 0.9914 - val_loss: 0.0633 - val_accuracy: 0.9824\n",
            "Epoch 100/100\n",
            "549/549 [==============================] - 1s 2ms/step - loss: 0.0444 - accuracy: 0.9911 - val_loss: 0.0632 - val_accuracy: 0.9824\n"
          ],
          "name": "stdout"
        }
      ]
    },
    {
      "cell_type": "code",
      "metadata": {
        "colab": {
          "base_uri": "https://localhost:8080/",
          "height": 464
        },
        "id": "_weQ8PAV4MIN",
        "outputId": "4ee88ca8-5ec9-4e6e-d50a-1c84c522b267"
      },
      "source": [
        "# Model accuracy\n",
        "sns.set(rc={'figure.figsize':(8,7)})\n",
        "\n",
        "plt.plot(history.history['accuracy'])\n",
        "plt.plot(history.history['val_accuracy'])\n",
        "plt.title('Model Accuracy')\n",
        "plt.ylabel('Accuracy')\n",
        "plt.xlabel('No. of Epochs')\n",
        "plt.legend(['train', 'test'])\n",
        "plt.show()"
      ],
      "execution_count": null,
      "outputs": [
        {
          "output_type": "display_data",
          "data": {
            "image/png": "[encoded data removed]",
            "text/plain": [
              "<Figure size 576x504 with 1 Axes>"
            ]
          },
          "metadata": {
            "tags": []
          }
        }
      ]
    },
    {
      "cell_type": "code",
      "metadata": {
        "colab": {
          "base_uri": "https://localhost:8080/",
          "height": 464
        },
        "id": "c4Opsjxd5doL",
        "outputId": "8072ca98-33f6-4b8c-903e-f72faee9593b"
      },
      "source": [
        "# Model Losss\n",
        "sns.set(rc={'figure.figsize':(8,7)})\n",
        "plt.plot(history.history['loss'])\n",
        "plt.plot(history.history['val_loss'])\n",
        "plt.title('Model Loss')\n",
        "plt.ylabel('Loss')\n",
        "plt.xlabel('No. of Epochs')\n",
        "plt.legend(['train', 'test'])\n",
        "plt.show()"
      ],
      "execution_count": null,
      "outputs": [
        {
          "output_type": "display_data",
          "data": {
            "image/png": "[encoded data removed]",
            "text/plain": [
              "<Figure size 576x504 with 1 Axes>"
            ]
          },
          "metadata": {
            "tags": []
          }
        }
      ]
    },
    {
      "cell_type": "code",
      "metadata": {
        "colab": {
          "base_uri": "https://localhost:8080/"
        },
        "id": "N68vOgXi5qir",
        "outputId": "57e68928-66b5-4e24-a637-015235f89df1"
      },
      "source": [
        "# generate classification report using predictions for binary model\n",
        "from sklearn.metrics import classification_report, accuracy_score\n",
        "# generate classification report using predictions for binary model \n",
        "binary_pred = np.round(binary_model.predict(X_test)).astype(int)\n",
        "\n",
        "print('Results for Binary Model')\n",
        "print(accuracy_score(y_test, binary_pred))\n",
        "print(classification_report(y_test, binary_pred))"
      ],
      "execution_count": null,
      "outputs": [
        {
          "output_type": "stream",
          "text": [
            "Results for Binary Model\n",
            "0.9823909841839021\n",
            "              precision    recall  f1-score   support\n",
            "\n",
            "         0.0       1.00      0.98      0.99     15051\n",
            "         1.0       0.67      1.00      0.80       566\n",
            "\n",
            "    accuracy                           0.98     15617\n",
            "   macro avg       0.84      0.99      0.90     15617\n",
            "weighted avg       0.99      0.98      0.98     15617\n",
            "\n"
          ],
          "name": "stdout"
        }
      ]
    },
    {
      "cell_type": "code",
      "metadata": {
        "colab": {
          "base_uri": "https://localhost:8080/"
        },
        "id": "FZPabTUHSvkJ",
        "outputId": "80fbb3be-177a-4716-f464-3514b0668ea5"
      },
      "source": [
        "from sklearn.metrics import confusion_matrix\n",
        "conf_matrix = confusion_matrix(y_test, binary_pred)\n",
        "conf_matrix"
      ],
      "execution_count": null,
      "outputs": [
        {
          "output_type": "execute_result",
          "data": {
            "text/plain": [
              "array([[14776,   275],\n",
              "       [    0,   566]])"
            ]
          },
          "metadata": {
            "tags": []
          },
          "execution_count": 89
        }
      ]
    },
    {
      "cell_type": "code",
      "metadata": {
        "colab": {
          "base_uri": "https://localhost:8080/",
          "height": 556
        },
        "id": "dbXi4re4btRW",
        "outputId": "7d2225da-90ab-4ca9-d6bb-9c996d786929"
      },
      "source": [
        "accuracy = np.trace(conf_matrix) / float(np.sum(conf_matrix))\n",
        "misclass = 1 - accuracy\n",
        "plt.title('Confusion Matrix for Binary Classification')\n",
        "sns.set(rc={'figure.figsize':(4,2)})\n",
        "#plt.figure(figsize=(8, 6))\n",
        "sns.heatmap(conf_matrix,annot=True,fmt='', cmap='RdPu')\n",
        "plt.tight_layout()\n",
        "plt.ylabel('True Label')\n",
        "plt.xlabel('Predicted Label\\n\\nAccuracy={:0.4f}; Misclass={:0.4f}'.format(accuracy, misclass))\n",
        "plt.show()"
      ],
      "execution_count": null,
      "outputs": [
        {
          "output_type": "display_data",
          "data": {
            "image/png": "[encoded data removed]",
            "text/plain": [
              "<Figure size 576x504 with 2 Axes>"
            ]
          },
          "metadata": {
            "tags": []
          }
        }
      ]
    },
    {
      "cell_type": "code",
      "metadata": {
        "id": "2RXkllxgslRo"
      },
      "source": [
        "!tensorboard dev upload --logdir logs --name \"ANN\" --description \"Smart Predictive Analysis in Patient Recruitment\" "
      ],
      "execution_count": null,
      "outputs": []
    },
    {
      "cell_type": "code",
      "metadata": {
        "colab": {
          "base_uri": "https://localhost:8080/"
        },
        "id": "LlsrKGpnxJ9b",
        "outputId": "f57910da-b4c6-4d70-f8b5-06efff34acde"
      },
      "source": [
        "!pip install ann_visualizer"
      ],
      "execution_count": null,
      "outputs": [
        {
          "output_type": "stream",
          "text": [
            "Collecting ann_visualizer\n",
            "  Downloading https://files.pythonhosted.org/packages/db/51/157be500337fba347e32711aaf9f11c1ba9e1162f486a1d708b4ae594ea4/ann_visualizer-2.5.tar.gz\n",
            "Building wheels for collected packages: ann-visualizer\n",
            "  Building wheel for ann-visualizer (setup.py) ... \u001b[?25l\u001b[?25hdone\n",
            "  Created wheel for ann-visualizer: filename=ann_visualizer-2.5-cp37-none-any.whl size=4168 sha256=0b06a27dd328bc111cf30635eb7e0b6c32b06007247a5e3662f8427b039b573f\n",
            "  Stored in directory: /root/.cache/pip/wheels/b6/b4/4e/d92f50c9c4f004cf315a0e0fcd455486bd799c50fe80cf1f5d\n",
            "Successfully built ann-visualizer\n",
            "Installing collected packages: ann-visualizer\n",
            "Successfully installed ann-visualizer-2.5\n"
          ],
          "name": "stdout"
        }
      ]
    },
    {
      "cell_type": "code",
      "metadata": {
        "colab": {
          "base_uri": "https://localhost:8080/"
        },
        "id": "W0DlWY7dxVnZ",
        "outputId": "7455271d-894f-4e53-da92-cc8b9e2ad1fc"
      },
      "source": [
        "!pip install graphviz"
      ],
      "execution_count": null,
      "outputs": [
        {
          "output_type": "stream",
          "text": [
            "Requirement already satisfied: graphviz in /usr/local/lib/python3.7/dist-packages (0.10.1)\n"
          ],
          "name": "stdout"
        }
      ]
    },
    {
      "cell_type": "code",
      "metadata": {
        "id": "GJ-rUk6Lxn_y"
      },
      "source": [
        "from ann_visualizer.visualize import ann_viz\n",
        "ann_viz(binary_model, view= True, filename=\"network.gv\",title=\"Network Topology\")"
      ],
      "execution_count": null,
      "outputs": []
    },
    {
      "cell_type": "code",
      "metadata": {
        "colab": {
          "base_uri": "https://localhost:8080/",
          "height": 422
        },
        "id": "erd0A8LQxsm6",
        "outputId": "6eda0773-242e-4455-acf1-9c87322ed696"
      },
      "source": [
        "from keras.utils import plot_model\n",
        "plot_model(binary_model, to_file='/tmp/model.png', show_shapes=True,)"
      ],
      "execution_count": null,
      "outputs": [
        {
          "output_type": "execute_result",
          "data": {
            "image/png": "[encoded data removed]",
            "text/plain": [
              "<IPython.core.display.Image object>"
            ]
          },
          "metadata": {
            "tags": []
          },
          "execution_count": 94
        }
      ]
    },
    {
      "cell_type": "code",
      "metadata": {
        "colab": {
          "base_uri": "https://localhost:8080/"
        },
        "id": "Klf6D_46xLuR",
        "outputId": "0ec09de1-8b41-45cb-a723-bca0fb53ef17"
      },
      "source": [
        "history_dict = history.history\n",
        "history_dict.keys()"
      ],
      "execution_count": null,
      "outputs": [
        {
          "output_type": "execute_result",
          "data": {
            "text/plain": [
              "dict_keys(['loss', 'accuracy', 'val_loss', 'val_accuracy'])"
            ]
          },
          "metadata": {
            "tags": []
          },
          "execution_count": 95
        }
      ]
    },
    {
      "cell_type": "code",
      "metadata": {
        "colab": {
          "base_uri": "https://localhost:8080/"
        },
        "id": "Y3kbUAtXxWwA",
        "outputId": "f9a365fd-ba29-4bd4-fb02-e0cec9934f23"
      },
      "source": [
        "predictions = binary_model.predict_classes(X_train)\n",
        "# summarize the first 5 cases\n",
        "for i in range(100):\n",
        "\tprint('%s => %d (expected %d)' % (X_train[i].tolist(), predictions[i], y_train[i]))"
      ],
      "execution_count": null,
      "outputs": [
        {
          "output_type": "stream",
          "text": [
            "/usr/local/lib/python3.7/dist-packages/tensorflow/python/keras/engine/sequential.py:450: UserWarning: `model.predict_classes()` is deprecated and will be removed after 2021-01-01. Please use instead:* `np.argmax(model.predict(x), axis=-1)`,   if your model does multi-class classification   (e.g. if it uses a `softmax` last-layer activation).* `(model.predict(x) > 0.5).astype(\"int32\")`,   if your model does binary classification   (e.g. if it uses a `sigmoid` last-layer activation).\n",
            "  warnings.warn('`model.predict_classes()` is deprecated and '\n"
          ],
          "name": "stderr"
        },
        {
          "output_type": "stream",
          "text": [
            "[1.2385587692260742, -0.3963780701160431, -1.5472602844238281, 0.7580755949020386, -0.09917500615119934, -0.6234277486801147, -0.2050333470106125, -0.160673126578331, -0.19163964688777924, -0.6480067372322083, -0.23017093539237976, -0.1146416962146759, 4.498651504516602, 1.5783578157424927, -1.306813359260559] => 0 (expected 0)\n",
            "[-0.8073899745941162, -0.3963780701160431, 0.6463037729263306, 0.6056532263755798, -0.09917500615119934, 1.6040352582931519, -0.2050333470106125, -0.160673126578331, -0.19163964688777924, 1.5431939363479614, -0.23017093539237976, -0.1146416962146759, -0.22228886187076569, -0.6335697770118713, 0.7652201652526855] => 0 (expected 0)\n",
            "[1.2385587692260742, 2.5228443145751953, 0.6463037729263306, -0.7153401374816895, -0.09917500615119934, 1.6040352582931519, -0.2050333470106125, -0.160673126578331, -0.19163964688777924, 1.5431939363479614, -0.23017093539237976, 0.2983953356742859, -0.22228886187076569, 1.5783578157424927, 0.7652201652526855] => 0 (expected 0)\n",
            "[-0.8073899745941162, -0.3963780701160431, 0.6463037729263306, 0.8596904277801514, -0.09917500615119934, 1.6040352582931519, 4.877254962921143, -0.160673126578331, -0.19163964688777924, -0.6480067372322083, -0.23017093539237976, -0.1146416962146759, -0.22228886187076569, -0.6335697770118713, 0.7652201652526855] => 0 (expected 0)\n",
            "[-0.8073899745941162, -0.3963780701160431, 0.6463037729263306, 1.4693796634674072, -0.09917500615119934, -0.6234277486801147, 4.877254962921143, -0.160673126578331, -0.19163964688777924, 1.5431939363479614, 4.344597339630127, -0.1146416962146759, -0.22228886187076569, -0.6335697770118713, 0.7652201652526855] => 0 (expected 0)\n",
            "[1.2385587692260742, -0.3963780701160431, 0.6463037729263306, 1.4185723066329956, -0.09917500615119934, 1.6040352582931519, -0.2050333470106125, -0.160673126578331, -0.19163964688777924, 1.5431939363479614, 4.344597339630127, -0.1146416962146759, 4.498651504516602, -0.6335697770118713, -1.306813359260559] => 0 (expected 0)\n",
            "[-0.8073899745941162, -0.3963780701160431, 0.6463037729263306, 0.504038393497467, -0.09917500615119934, -0.6234277486801147, -0.2050333470106125, -0.160673126578331, -0.19163964688777924, -0.6480067372322083, -0.23017093539237976, -0.1146416962146759, -0.22228886187076569, -0.6335697770118713, -1.306813359260559] => 0 (expected 0)\n",
            "[-0.8073899745941162, -0.3963780701160431, 0.6463037729263306, 0.3516160547733307, -0.09917500615119934, -0.6234277486801147, -0.2050333470106125, -0.160673126578331, -0.19163964688777924, -0.6480067372322083, -0.23017093539237976, 0.2983953356742859, -0.22228886187076569, 1.5783578157424927, 0.7652201652526855] => 0 (expected 0)\n",
            "[1.2385587692260742, -0.3963780701160431, 0.6463037729263306, -0.15645831823349, -0.09917500615119934, -0.6234277486801147, -0.2050333470106125, -0.160673126578331, -0.19163964688777924, -0.6480067372322083, -0.23017093539237976, -0.1146416962146759, -0.22228886187076569, -0.6335697770118713, 0.7652201652526855] => 0 (expected 0)\n",
            "[-0.8073899745941162, -0.3963780701160431, 0.6463037729263306, 0.04677143320441246, -0.09917500615119934, 1.6040352582931519, -0.2050333470106125, -0.160673126578331, -0.19163964688777924, -0.6480067372322083, -0.23017093539237976, -0.1146416962146759, -0.22228886187076569, 1.5783578157424927, 0.7652201652526855] => 0 (expected 0)\n",
            "[1.2385587692260742, -0.3963780701160431, 0.6463037729263306, 1.2153425216674805, -0.09917500615119934, -0.6234277486801147, -0.2050333470106125, -0.160673126578331, -0.19163964688777924, -0.6480067372322083, -0.23017093539237976, -0.1146416962146759, -0.22228886187076569, -0.6335697770118713, -1.306813359260559] => 0 (expected 0)\n",
            "[-0.8073899745941162, 2.5228443145751953, 0.6463037729263306, 0.5548458099365234, -0.09917500615119934, 1.6040352582931519, -0.2050333470106125, -0.160673126578331, -0.19163964688777924, 1.5431939363479614, -0.23017093539237976, 0.2983953356742859, -0.22228886187076569, -0.6335697770118713, 0.7652201652526855] => 0 (expected 0)\n",
            "[1.2385587692260742, -0.3963780701160431, -1.5472602844238281, 0.2500011920928955, -0.09917500615119934, 1.6040352582931519, -0.2050333470106125, -0.160673126578331, -0.19163964688777924, -0.6480067372322083, -0.23017093539237976, -0.1146416962146759, -0.22228886187076569, -0.6335697770118713, 0.7652201652526855] => 0 (expected 0)\n",
            "[1.2385587692260742, -0.3963780701160431, 0.6463037729263306, 0.45323094725608826, -0.09917500615119934, 1.6040352582931519, -0.2050333470106125, -0.160673126578331, -0.19163964688777924, 1.5431939363479614, -0.23017093539237976, -0.1146416962146759, -0.22228886187076569, -0.6335697770118713, 0.7652201652526855] => 0 (expected 0)\n",
            "[1.2385587692260742, 2.5228443145751953, 0.6463037729263306, 1.0121127367019653, -0.09917500615119934, 1.6040352582931519, -0.2050333470106125, -0.160673126578331, -0.19163964688777924, -0.6480067372322083, -0.23017093539237976, -0.1146416962146759, -0.22228886187076569, -0.6335697770118713, -1.306813359260559] => 0 (expected 0)\n",
            "[-0.8073899745941162, -0.3963780701160431, 0.6463037729263306, 0.6056532263755798, -0.09917500615119934, 1.6040352582931519, -0.2050333470106125, -0.160673126578331, -0.19163964688777924, 1.5431939363479614, -0.23017093539237976, -0.1146416962146759, -0.22228886187076569, -0.6335697770118713, -1.306813359260559] => 0 (expected 0)\n",
            "[1.2385587692260742, -0.3963780701160431, 0.6463037729263306, 0.504038393497467, -0.09917500615119934, -0.6234277486801147, -0.2050333470106125, -0.160673126578331, -0.19163964688777924, 1.5431939363479614, 4.344597339630127, -0.1146416962146759, -0.22228886187076569, 1.5783578157424927, 0.7652201652526855] => 0 (expected 0)\n",
            "[1.2385587692260742, -0.3963780701160431, -1.5472602844238281, 0.04677143320441246, -0.09917500615119934, -0.6234277486801147, -0.2050333470106125, -0.160673126578331, -0.19163964688777924, -0.6480067372322083, -0.23017093539237976, -0.1146416962146759, -0.22228886187076569, -0.6335697770118713, 0.7652201652526855] => 0 (expected 0)\n",
            "[1.2385587692260742, -0.3963780701160431, -1.5472602844238281, -0.816955029964447, -0.09917500615119934, -0.6234277486801147, -0.2050333470106125, -0.160673126578331, -0.19163964688777924, -0.6480067372322083, -0.23017093539237976, -0.1146416962146759, -0.22228886187076569, 1.5783578157424927, -1.306813359260559] => 0 (expected 0)\n",
            "[1.2385587692260742, -0.3963780701160431, 0.6463037729263306, -0.7661475539207458, -0.09917500615119934, -0.6234277486801147, -0.2050333470106125, -0.160673126578331, -0.19163964688777924, -0.6480067372322083, -0.23017093539237976, -0.1146416962146759, -0.22228886187076569, -0.6335697770118713, 0.7652201652526855] => 0 (expected 0)\n",
            "[-0.8073899745941162, 2.5228443145751953, -1.5472602844238281, 1.0121127367019653, -0.09917500615119934, -0.6234277486801147, -0.2050333470106125, -0.160673126578331, -0.19163964688777924, -0.6480067372322083, -0.23017093539237976, -0.1146416962146759, -0.22228886187076569, -0.6335697770118713, 0.7652201652526855] => 0 (expected 0)\n",
            "[1.2385587692260742, -0.3963780701160431, 0.6463037729263306, 0.3516160547733307, -0.09917500615119934, 1.6040352582931519, -0.2050333470106125, -0.160673126578331, -0.19163964688777924, 1.5431939363479614, -0.23017093539237976, 0.2983953356742859, -0.22228886187076569, -0.6335697770118713, -1.306813359260559] => 0 (expected 0)\n",
            "[-0.8073899745941162, 2.5228443145751953, 0.6463037729263306, 1.2153425216674805, -0.09917500615119934, -0.6234277486801147, -0.2050333470106125, -0.160673126578331, -0.19163964688777924, 1.5431939363479614, -0.23017093539237976, -0.1146416962146759, -0.22228886187076569, -0.6335697770118713, 0.7652201652526855] => 0 (expected 0)\n",
            "[-0.8073899745941162, -0.3963780701160431, 0.6463037729263306, -2.595215320587158, -0.09917500615119934, -0.6234277486801147, -0.2050333470106125, -0.160673126578331, -0.19163964688777924, -0.6480067372322083, -0.23017093539237976, -0.1146416962146759, -0.22228886187076569, -0.6335697770118713, 0.7652201652526855] => 0 (expected 0)\n",
            "[1.2385587692260742, -0.3963780701160431, -1.5472602844238281, 0.9613053202629089, -0.09917500615119934, 1.6040352582931519, -0.2050333470106125, -0.160673126578331, -0.19163964688777924, 1.5431939363479614, -0.23017093539237976, -0.1146416962146759, -0.22228886187076569, -0.6335697770118713, 0.7652201652526855] => 0 (expected 0)\n",
            "[-0.8073899745941162, -0.3963780701160431, 0.6463037729263306, 1.3169573545455933, -0.09917500615119934, 1.6040352582931519, 4.877254962921143, -0.160673126578331, -0.19163964688777924, 1.5431939363479614, 4.344597339630127, 0.2983953356742859, -0.22228886187076569, -0.6335697770118713, -1.306813359260559] => 0 (expected 0)\n",
            "[-0.8073899745941162, -0.3963780701160431, 0.6463037729263306, -0.816955029964447, -0.09917500615119934, 1.6040352582931519, -0.2050333470106125, -0.160673126578331, -0.19163964688777924, -0.6480067372322083, -0.23017093539237976, 0.2983953356742859, -0.22228886187076569, 1.5783578157424927, 0.7652201652526855] => 0 (expected 0)\n",
            "[-0.8073899745941162, -0.3963780701160431, 0.6463037729263306, 0.9104979038238525, -0.09917500615119934, -0.6234277486801147, -0.2050333470106125, -0.160673126578331, -0.19163964688777924, -0.6480067372322083, -0.23017093539237976, -0.1146416962146759, -0.22228886187076569, -0.6335697770118713, -1.306813359260559] => 0 (expected 0)\n",
            "[1.2385587692260742, -0.3963780701160431, 0.6463037729263306, 0.656460702419281, -0.09917500615119934, 1.6040352582931519, -0.2050333470106125, -0.160673126578331, -0.19163964688777924, 1.5431939363479614, -0.23017093539237976, -0.1146416962146759, -0.22228886187076569, -0.6335697770118713, -1.306813359260559] => 0 (expected 0)\n",
            "[1.2385587692260742, 2.5228443145751953, 0.6463037729263306, 0.9104979038238525, -0.09917500615119934, 1.6040352582931519, 4.877254962921143, -0.160673126578331, -0.19163964688777924, -0.6480067372322083, -0.23017093539237976, -0.1146416962146759, -0.22228886187076569, -0.6335697770118713, -1.306813359260559] => 0 (expected 0)\n",
            "[-0.8073899745941162, -0.3963780701160431, 0.6463037729263306, 0.14838631451129913, -0.09917500615119934, 1.6040352582931519, -0.2050333470106125, -0.160673126578331, -0.19163964688777924, 1.5431939363479614, -0.23017093539237976, -0.1146416962146759, -0.22228886187076569, 1.5783578157424927, 0.7652201652526855] => 0 (expected 0)\n",
            "[-0.8073899745941162, -0.3963780701160431, -1.5472602844238281, -1.6298739910125732, -0.09917500615119934, -0.6234277486801147, -0.2050333470106125, -0.160673126578331, -0.19163964688777924, -0.6480067372322083, -0.23017093539237976, -0.1146416962146759, -0.22228886187076569, -0.6335697770118713, -1.306813359260559] => 1 (expected 1)\n",
            "[-0.8073899745941162, -0.3963780701160431, 0.6463037729263306, 0.14838631451129913, -0.09917500615119934, -0.6234277486801147, -0.2050333470106125, -0.160673126578331, -0.19163964688777924, -0.6480067372322083, -0.23017093539237976, -0.1146416962146759, -0.22228886187076569, 1.5783578157424927, 0.7652201652526855] => 0 (expected 0)\n",
            "[-0.8073899745941162, -0.3963780701160431, 0.6463037729263306, 0.808883011341095, -0.09917500615119934, 1.6040352582931519, -0.2050333470106125, -0.160673126578331, -0.19163964688777924, -0.6480067372322083, -0.23017093539237976, -0.1146416962146759, -0.22228886187076569, -0.6335697770118713, -1.306813359260559] => 0 (expected 0)\n",
            "[-0.8073899745941162, 2.5228443145751953, 0.6463037729263306, -0.969377338886261, -0.09917500615119934, -0.6234277486801147, -0.2050333470106125, -0.160673126578331, -0.19163964688777924, -0.6480067372322083, -0.23017093539237976, -0.1146416962146759, -0.22228886187076569, -0.6335697770118713, 0.7652201652526855] => 0 (expected 0)\n",
            "[1.2385587692260742, -0.3963780701160431, 0.6463037729263306, -0.7153401374816895, -0.09917500615119934, 1.6040352582931519, -0.2050333470106125, -0.160673126578331, -0.19163964688777924, -0.6480067372322083, -0.23017093539237976, -0.1146416962146759, -0.22228886187076569, -0.6335697770118713, -1.306813359260559] => 0 (expected 0)\n",
            "[1.2385587692260742, -0.3963780701160431, 0.6463037729263306, 0.6056532263755798, -0.09917500615119934, -0.6234277486801147, -0.2050333470106125, -0.160673126578331, -0.19163964688777924, 1.5431939363479614, -0.23017093539237976, -0.1146416962146759, -0.22228886187076569, -0.6335697770118713, 0.7652201652526855] => 0 (expected 0)\n",
            "[-0.8073899745941162, -0.3963780701160431, -1.5472602844238281, 0.4024235010147095, -0.09917500615119934, -0.6234277486801147, -0.2050333470106125, -0.160673126578331, -0.19163964688777924, -0.6480067372322083, -0.23017093539237976, -0.1146416962146759, -0.22228886187076569, 1.5783578157424927, 0.7652201652526855] => 0 (expected 0)\n",
            "[-0.8073899745941162, -0.3963780701160431, -1.5472602844238281, -0.054843440651893616, -0.09917500615119934, -0.6234277486801147, -0.2050333470106125, -0.160673126578331, -0.19163964688777924, -0.6480067372322083, -0.23017093539237976, -0.1146416962146759, -0.22228886187076569, -0.6335697770118713, -1.306813359260559] => 1 (expected 1)\n",
            "[1.2385587692260742, 2.5228443145751953, 0.6463037729263306, -0.30888062715530396, -0.09917500615119934, 1.6040352582931519, -0.2050333470106125, -0.160673126578331, -0.19163964688777924, 1.5431939363479614, -0.23017093539237976, 0.2983953356742859, -0.22228886187076569, 1.5783578157424927, 0.7652201652526855] => 0 (expected 0)\n",
            "[-0.8073899745941162, -0.3963780701160431, -1.5472602844238281, -0.4613029360771179, -0.09917500615119934, -0.6234277486801147, -0.2050333470106125, -0.160673126578331, -0.19163964688777924, -0.6480067372322083, -0.23017093539237976, -0.1146416962146759, -0.22228886187076569, -0.6335697770118713, 0.7652201652526855] => 0 (expected 0)\n",
            "[-0.8073899745941162, -0.3963780701160431, 0.6463037729263306, -0.25807318091392517, -0.09917500615119934, -0.6234277486801147, -0.2050333470106125, -0.160673126578331, -0.19163964688777924, -0.6480067372322083, -0.23017093539237976, -0.1146416962146759, -0.22228886187076569, -0.6335697770118713, 0.7652201652526855] => 0 (expected 0)\n",
            "[-0.8073899745941162, -0.3963780701160431, 0.6463037729263306, -0.054843440651893616, -0.09917500615119934, 1.6040352582931519, -0.2050333470106125, -0.160673126578331, -0.19163964688777924, -0.6480067372322083, -0.23017093539237976, -0.1146416962146759, -0.22228886187076569, -0.6335697770118713, 0.7652201652526855] => 0 (expected 0)\n",
            "[-0.8073899745941162, -0.3963780701160431, 0.6463037729263306, 0.14838631451129913, -0.09917500615119934, -0.6234277486801147, -0.2050333470106125, -0.160673126578331, -0.19163964688777924, -0.6480067372322083, -0.23017093539237976, 0.2983953356742859, -0.22228886187076569, -0.6335697770118713, 0.7652201652526855] => 0 (expected 0)\n",
            "[1.2385587692260742, -0.3963780701160431, -1.5472602844238281, -1.0709922313690186, -0.09917500615119934, -0.6234277486801147, -0.2050333470106125, -0.160673126578331, -0.19163964688777924, -0.6480067372322083, -0.23017093539237976, -0.1146416962146759, -0.22228886187076569, -0.6335697770118713, 0.7652201652526855] => 0 (expected 0)\n",
            "[1.2385587692260742, -0.3963780701160431, 0.6463037729263306, -0.5629178285598755, -0.09917500615119934, -0.6234277486801147, -0.2050333470106125, -0.160673126578331, -0.19163964688777924, -0.6480067372322083, -0.23017093539237976, -0.1146416962146759, -0.22228886187076569, -0.6335697770118713, 0.7652201652526855] => 0 (expected 0)\n",
            "[-0.8073899745941162, -0.3963780701160431, -1.5472602844238281, 0.19919374585151672, -0.09917500615119934, 1.6040352582931519, -0.2050333470106125, -0.160673126578331, -0.19163964688777924, -0.6480067372322083, -0.23017093539237976, -0.1146416962146759, -0.22228886187076569, -0.6335697770118713, 0.7652201652526855] => 0 (expected 0)\n",
            "[1.2385587692260742, -0.3963780701160431, -1.5472602844238281, 0.7580755949020386, -0.09917500615119934, 1.6040352582931519, -0.2050333470106125, -0.160673126578331, -0.19163964688777924, 1.5431939363479614, -0.23017093539237976, -0.1146416962146759, -0.22228886187076569, -0.6335697770118713, -1.306813359260559] => 0 (expected 0)\n",
            "[-0.8073899745941162, -0.3963780701160431, 0.6463037729263306, 0.4024235010147095, -0.09917500615119934, -0.6234277486801147, -0.2050333470106125, -0.160673126578331, -0.19163964688777924, -0.6480067372322083, -0.23017093539237976, -0.1146416962146759, -0.22228886187076569, 1.5783578157424927, 0.7652201652526855] => 0 (expected 0)\n",
            "[-0.8073899745941162, 2.5228443145751953, 0.6463037729263306, 1.1645350456237793, -0.09917500615119934, -0.6234277486801147, -0.2050333470106125, -0.160673126578331, -0.19163964688777924, -0.6480067372322083, -0.23017093539237976, -0.1146416962146759, -0.22228886187076569, -0.6335697770118713, 0.7652201652526855] => 0 (expected 0)\n",
            "[-0.8073899745941162, -0.3963780701160431, 0.6463037729263306, 1.0121127367019653, -0.09917500615119934, 1.6040352582931519, -0.2050333470106125, -0.160673126578331, -0.19163964688777924, 1.5431939363479614, -0.23017093539237976, 0.2983953356742859, 4.498651504516602, -0.6335697770118713, 0.7652201652526855] => 0 (expected 0)\n",
            "[1.2385587692260742, -0.3963780701160431, 0.6463037729263306, 0.2500011920928955, -0.09917500615119934, 1.6040352582931519, -0.2050333470106125, -0.160673126578331, -0.19163964688777924, -0.6480067372322083, -0.23017093539237976, -0.1146416962146759, 4.498651504516602, -0.6335697770118713, 0.7652201652526855] => 0 (expected 0)\n",
            "[1.2385587692260742, -0.3963780701160431, 0.6463037729263306, 1.1137276887893677, -0.09917500615119934, -0.6234277486801147, -0.2050333470106125, -0.160673126578331, -0.19163964688777924, -0.6480067372322083, -0.23017093539237976, -0.1146416962146759, -0.22228886187076569, -0.6335697770118713, 0.7652201652526855] => 0 (expected 0)\n",
            "[-0.8073899745941162, 2.5228443145751953, 0.6463037729263306, -0.25807318091392517, -0.09917500615119934, -0.6234277486801147, -0.2050333470106125, -0.160673126578331, -0.19163964688777924, -0.6480067372322083, -0.23017093539237976, -0.1146416962146759, -0.22228886187076569, 1.5783578157424927, 0.7652201652526855] => 0 (expected 0)\n",
            "[1.2385587692260742, -0.3963780701160431, 0.6463037729263306, -0.8677624464035034, -0.09917500615119934, 1.6040352582931519, -0.2050333470106125, -0.160673126578331, -0.19163964688777924, -0.6480067372322083, -0.23017093539237976, 0.2983953356742859, -0.22228886187076569, -0.6335697770118713, 0.7652201652526855] => 0 (expected 0)\n",
            "[1.2385587692260742, -0.3963780701160431, -1.5472602844238281, 0.504038393497467, -0.09917500615119934, 1.6040352582931519, -0.2050333470106125, -0.160673126578331, -0.19163964688777924, 1.5431939363479614, -0.23017093539237976, -0.1146416962146759, -0.22228886187076569, -0.6335697770118713, 0.7652201652526855] => 0 (expected 0)\n",
            "[-0.8073899745941162, 2.5228443145751953, 0.6463037729263306, -0.4613029360771179, -0.09917500615119934, 1.6040352582931519, -0.2050333470106125, -0.160673126578331, -0.19163964688777924, -0.6480067372322083, -0.23017093539237976, -0.1146416962146759, -0.22228886187076569, -0.6335697770118713, 0.7652201652526855] => 0 (expected 0)\n",
            "[-0.8073899745941162, -0.3963780701160431, 0.6463037729263306, -0.8677624464035034, -0.09917500615119934, -0.6234277486801147, -0.2050333470106125, -0.160673126578331, -0.19163964688777924, -0.6480067372322083, -0.23017093539237976, -0.1146416962146759, -0.22228886187076569, -0.6335697770118713, 0.7652201652526855] => 0 (expected 0)\n",
            "[1.2385587692260742, -0.3963780701160431, 0.6463037729263306, -0.15645831823349, -0.09917500615119934, -0.6234277486801147, -0.2050333470106125, -0.160673126578331, -0.19163964688777924, -0.6480067372322083, -0.23017093539237976, 0.2983953356742859, -0.22228886187076569, -0.6335697770118713, 0.7652201652526855] => 0 (expected 0)\n",
            "[-0.8073899745941162, -0.3963780701160431, -1.5472602844238281, 0.3516160547733307, -0.09917500615119934, 1.6040352582931519, -0.2050333470106125, -0.160673126578331, -0.19163964688777924, 1.5431939363479614, -0.23017093539237976, -0.1146416962146759, -0.22228886187076569, 1.5783578157424927, 0.7652201652526855] => 0 (expected 0)\n",
            "[1.2385587692260742, -0.3963780701160431, 0.6463037729263306, -1.2742218971252441, -0.09917500615119934, -0.6234277486801147, -0.2050333470106125, -0.160673126578331, -0.19163964688777924, -0.6480067372322083, -0.23017093539237976, -0.1146416962146759, -0.22228886187076569, 1.5783578157424927, -1.306813359260559] => 0 (expected 0)\n",
            "[-0.8073899745941162, -0.3963780701160431, 0.6463037729263306, 0.3008086383342743, -0.09917500615119934, -0.6234277486801147, -0.2050333470106125, -0.160673126578331, -0.19163964688777924, -0.6480067372322083, -0.23017093539237976, -0.1146416962146759, -0.22228886187076569, -0.6335697770118713, -1.306813359260559] => 0 (expected 0)\n",
            "[-0.8073899745941162, -0.3963780701160431, 0.6463037729263306, 1.0121127367019653, -0.09917500615119934, -0.6234277486801147, -0.2050333470106125, -0.160673126578331, -0.19163964688777924, 1.5431939363479614, -0.23017093539237976, -0.1146416962146759, -0.22228886187076569, -0.6335697770118713, -1.306813359260559] => 0 (expected 0)\n",
            "[-0.8073899745941162, -0.3963780701160431, 0.6463037729263306, 0.7580755949020386, -0.09917500615119934, 1.6040352582931519, -0.2050333470106125, -0.160673126578331, -0.19163964688777924, 1.5431939363479614, -0.23017093539237976, 0.2983953356742859, -0.22228886187076569, 1.5783578157424927, 0.7652201652526855] => 0 (expected 0)\n",
            "[-0.8073899745941162, -0.3963780701160431, 0.6463037729263306, -1.1726070642471313, -0.09917500615119934, -0.6234277486801147, -0.2050333470106125, -0.160673126578331, -0.19163964688777924, -0.6480067372322083, -0.23017093539237976, -0.1146416962146759, -0.22228886187076569, -0.6335697770118713, -1.306813359260559] => 0 (expected 0)\n",
            "[-0.8073899745941162, -0.3963780701160431, 0.6463037729263306, -1.6298739910125732, -0.09917500615119934, -0.6234277486801147, -0.2050333470106125, -0.160673126578331, -0.19163964688777924, -0.6480067372322083, -0.23017093539237976, -0.1146416962146759, -0.22228886187076569, -0.6335697770118713, -1.306813359260559] => 0 (expected 0)\n",
            "[-0.8073899745941162, -0.3963780701160431, -1.5472602844238281, 0.5548458099365234, -0.09917500615119934, -0.6234277486801147, -0.2050333470106125, -0.160673126578331, -0.19163964688777924, -0.6480067372322083, -0.23017093539237976, -0.1146416962146759, -0.22228886187076569, -0.6335697770118713, 0.7652201652526855] => 0 (expected 0)\n",
            "[1.2385587692260742, -0.3963780701160431, -1.5472602844238281, 0.9613053202629089, -0.09917500615119934, -0.6234277486801147, -0.2050333470106125, -0.160673126578331, -0.19163964688777924, -0.6480067372322083, -0.23017093539237976, -0.1146416962146759, -0.22228886187076569, -0.6335697770118713, -1.306813359260559] => 1 (expected 1)\n",
            "[-0.8073899745941162, -0.3963780701160431, -1.5472602844238281, 0.3516160547733307, -0.09917500615119934, -0.6234277486801147, -0.2050333470106125, -0.160673126578331, -0.19163964688777924, -0.6480067372322083, -0.23017093539237976, -0.1146416962146759, -0.22228886187076569, -0.6335697770118713, -1.306813359260559] => 1 (expected 1)\n",
            "[-0.8073899745941162, 2.5228443145751953, 0.6463037729263306, 0.9613053202629089, -0.09917500615119934, -0.6234277486801147, -0.2050333470106125, -0.160673126578331, -0.19163964688777924, -0.6480067372322083, -0.23017093539237976, -0.1146416962146759, -0.22228886187076569, -0.6335697770118713, 0.7652201652526855] => 0 (expected 0)\n",
            "[-0.8073899745941162, 2.5228443145751953, 0.6463037729263306, -1.1217995882034302, -0.09917500615119934, -0.6234277486801147, -0.2050333470106125, -0.160673126578331, -0.19163964688777924, -0.6480067372322083, -0.23017093539237976, -0.1146416962146759, -0.22228886187076569, -0.6335697770118713, -1.306813359260559] => 0 (expected 0)\n",
            "[1.2385587692260742, 2.5228443145751953, 0.6463037729263306, 0.14838631451129913, -0.09917500615119934, -0.6234277486801147, -0.2050333470106125, -0.160673126578331, -0.19163964688777924, -0.6480067372322083, -0.23017093539237976, -0.1146416962146759, -0.22228886187076569, -0.6335697770118713, 0.7652201652526855] => 0 (expected 0)\n",
            "[-0.8073899745941162, 2.5228443145751953, 0.6463037729263306, -0.8677624464035034, -0.09917500615119934, -0.6234277486801147, -0.2050333470106125, -0.160673126578331, -0.19163964688777924, -0.6480067372322083, -0.23017093539237976, 0.2983953356742859, -0.22228886187076569, -0.6335697770118713, 0.7652201652526855] => 0 (expected 0)\n",
            "[-0.8073899745941162, -0.3963780701160431, 0.6463037729263306, -0.5121104121208191, -0.09917500615119934, 1.6040352582931519, -0.2050333470106125, -0.160673126578331, -0.19163964688777924, -0.6480067372322083, -0.23017093539237976, -0.1146416962146759, -0.22228886187076569, -0.6335697770118713, 0.7652201652526855] => 0 (expected 0)\n",
            "[1.2385587692260742, -0.3963780701160431, 0.6463037729263306, 0.45323094725608826, -0.09917500615119934, -0.6234277486801147, -0.2050333470106125, -0.160673126578331, -0.19163964688777924, -0.6480067372322083, -0.23017093539237976, -0.1146416962146759, -0.22228886187076569, -0.6335697770118713, -1.306813359260559] => 0 (expected 0)\n",
            "[1.2385587692260742, -0.3963780701160431, 0.6463037729263306, -0.8677624464035034, -0.09917500615119934, -0.6234277486801147, -0.2050333470106125, -0.160673126578331, 5.218127250671387, 1.5431939363479614, -0.23017093539237976, -0.1146416962146759, 4.498651504516602, -0.6335697770118713, -1.306813359260559] => 0 (expected 0)\n",
            "[1.2385587692260742, 2.5228443145751953, 0.6463037729263306, -0.6137252449989319, -0.09917500615119934, -0.6234277486801147, -0.2050333470106125, -0.160673126578331, -0.19163964688777924, -0.6480067372322083, -0.23017093539237976, 0.2983953356742859, -0.22228886187076569, -0.6335697770118713, 0.7652201652526855] => 0 (expected 0)\n",
            "[-0.8073899745941162, -0.3963780701160431, 0.6463037729263306, -0.25807318091392517, -0.09917500615119934, 1.6040352582931519, -0.2050333470106125, -0.160673126578331, -0.19163964688777924, 1.5431939363479614, -0.23017093539237976, -0.1146416962146759, -0.22228886187076569, -0.6335697770118713, 0.7652201652526855] => 0 (expected 0)\n",
            "[-0.8073899745941162, -0.3963780701160431, -1.5472602844238281, -0.25807318091392517, -0.09917500615119934, -0.6234277486801147, -0.2050333470106125, 6.223814964294434, -0.19163964688777924, -0.6480067372322083, -0.23017093539237976, -0.1146416962146759, -0.22228886187076569, 1.5783578157424927, 0.7652201652526855] => 0 (expected 0)\n",
            "[-0.8073899745941162, 2.5228443145751953, 0.6463037729263306, 0.7072681188583374, -0.09917500615119934, -0.6234277486801147, -0.2050333470106125, -0.160673126578331, -0.19163964688777924, -0.6480067372322083, -0.23017093539237976, 0.2983953356742859, -0.22228886187076569, 1.5783578157424927, 0.7652201652526855] => 0 (expected 0)\n",
            "[-0.8073899745941162, -0.3963780701160431, -1.5472602844238281, -0.9185698628425598, -0.09917500615119934, 1.6040352582931519, -0.2050333470106125, -0.160673126578331, -0.19163964688777924, -0.6480067372322083, -0.23017093539237976, -0.1146416962146759, -0.22228886187076569, -0.6335697770118713, 0.7652201652526855] => 0 (expected 0)\n",
            "[-0.8073899745941162, -0.3963780701160431, 0.6463037729263306, 0.09757887572050095, -0.09917500615119934, 1.6040352582931519, -0.2050333470106125, -0.160673126578331, -0.19163964688777924, -0.6480067372322083, -0.23017093539237976, -0.1146416962146759, -0.22228886187076569, -0.6335697770118713, 0.7652201652526855] => 0 (expected 0)\n",
            "[1.2385587692260742, -0.3963780701160431, 0.6463037729263306, 1.6726094484329224, -0.09917500615119934, -0.6234277486801147, -0.2050333470106125, -0.160673126578331, -0.19163964688777924, 1.5431939363479614, 4.344597339630127, 0.2983953356742859, -0.22228886187076569, -0.6335697770118713, -1.306813359260559] => 0 (expected 0)\n",
            "[1.2385587692260742, -0.3963780701160431, 0.6463037729263306, 1.7234169244766235, -0.09917500615119934, 1.6040352582931519, -0.2050333470106125, -0.160673126578331, -0.19163964688777924, -0.6480067372322083, -0.23017093539237976, -0.1146416962146759, -0.22228886187076569, -0.6335697770118713, -1.306813359260559] => 0 (expected 0)\n",
            "[1.2385587692260742, -0.3963780701160431, -1.5472602844238281, 1.0629202127456665, -0.09917500615119934, -0.6234277486801147, -0.2050333470106125, -0.160673126578331, -0.19163964688777924, -0.6480067372322083, -0.23017093539237976, -0.1146416962146759, -0.22228886187076569, -0.6335697770118713, -1.306813359260559] => 1 (expected 1)\n",
            "[1.2385587692260742, -0.3963780701160431, -1.5472602844238281, 1.4693796634674072, -0.09917500615119934, 1.6040352582931519, -0.2050333470106125, -0.160673126578331, -0.19163964688777924, -0.6480067372322083, -0.23017093539237976, -0.1146416962146759, -0.22228886187076569, 1.5783578157424927, 0.7652201652526855] => 0 (expected 0)\n",
            "[1.2385587692260742, -0.3963780701160431, 0.6463037729263306, 0.2500011920928955, -0.09917500615119934, -0.6234277486801147, -0.2050333470106125, -0.160673126578331, -0.19163964688777924, 1.5431939363479614, 4.344597339630127, -0.1146416962146759, -0.22228886187076569, 1.5783578157424927, 0.7652201652526855] => 0 (expected 0)\n",
            "[1.2385587692260742, -0.3963780701160431, -1.5472602844238281, -0.4613029360771179, -0.09917500615119934, -0.6234277486801147, -0.2050333470106125, -0.160673126578331, -0.19163964688777924, -0.6480067372322083, -0.23017093539237976, -0.1146416962146759, -0.22228886187076569, -0.6335697770118713, -1.306813359260559] => 1 (expected 1)\n",
            "[-0.8073899745941162, -0.3963780701160431, 0.6463037729263306, -1.0709922313690186, -0.09917500615119934, -0.6234277486801147, -0.2050333470106125, -0.160673126578331, -0.19163964688777924, -0.6480067372322083, -0.23017093539237976, -0.1146416962146759, -0.22228886187076569, 1.5783578157424927, -1.306813359260559] => 0 (expected 0)\n",
            "[1.2385587692260742, -0.3963780701160431, -1.5472602844238281, 0.2500011920928955, -0.09917500615119934, -0.6234277486801147, -0.2050333470106125, -0.160673126578331, -0.19163964688777924, 1.5431939363479614, -0.23017093539237976, 0.2983953356742859, -0.22228886187076569, 1.5783578157424927, -1.306813359260559] => 0 (expected 0)\n",
            "[-0.8073899745941162, -0.3963780701160431, -1.5472602844238281, -0.6137252449989319, -0.09917500615119934, -0.6234277486801147, -0.2050333470106125, -0.160673126578331, -0.19163964688777924, -0.6480067372322083, -0.23017093539237976, -0.1146416962146759, -0.22228886187076569, -0.6335697770118713, 0.7652201652526855] => 0 (expected 0)\n",
            "[1.2385587692260742, -0.3963780701160431, -1.5472602844238281, -0.20726574957370758, -0.09917500615119934, -0.6234277486801147, -0.2050333470106125, -0.160673126578331, -0.19163964688777924, 1.5431939363479614, -0.23017093539237976, 0.2983953356742859, -0.22228886187076569, -0.6335697770118713, 0.7652201652526855] => 0 (expected 0)\n",
            "[1.2385587692260742, -0.3963780701160431, -1.5472602844238281, 0.7072681188583374, -0.09917500615119934, -0.6234277486801147, 4.877254962921143, -0.160673126578331, 5.218127250671387, 1.5431939363479614, -0.23017093539237976, -0.1146416962146759, -0.22228886187076569, 1.5783578157424927, 0.7652201652526855] => 0 (expected 0)\n",
            "[-0.8073899745941162, 2.5228443145751953, 0.6463037729263306, 0.09757887572050095, -0.09917500615119934, -0.6234277486801147, -0.2050333470106125, -0.160673126578331, -0.19163964688777924, -0.6480067372322083, -0.23017093539237976, -0.1146416962146759, -0.22228886187076569, -0.6335697770118713, 0.7652201652526855] => 0 (expected 0)\n",
            "[-0.8073899745941162, -0.3963780701160431, 0.6463037729263306, 0.7072681188583374, -0.09917500615119934, 1.6040352582931519, -0.2050333470106125, -0.160673126578331, -0.19163964688777924, -0.6480067372322083, -0.23017093539237976, 0.2983953356742859, -0.22228886187076569, -0.6335697770118713, -1.306813359260559] => 0 (expected 0)\n",
            "[1.2385587692260742, -0.3963780701160431, -1.5472602844238281, -0.6137252449989319, -0.09917500615119934, -0.6234277486801147, -0.2050333470106125, -0.160673126578331, -0.19163964688777924, -0.6480067372322083, -0.23017093539237976, -0.1146416962146759, -0.22228886187076569, -0.6335697770118713, -1.306813359260559] => 1 (expected 1)\n",
            "[1.2385587692260742, -0.3963780701160431, -1.5472602844238281, -0.15645831823349, -0.09917500615119934, 1.6040352582931519, -0.2050333470106125, -0.160673126578331, -0.19163964688777924, 1.5431939363479614, -0.23017093539237976, -0.1146416962146759, -0.22228886187076569, 1.5783578157424927, -1.306813359260559] => 0 (expected 0)\n",
            "[1.2385587692260742, -0.3963780701160431, -1.5472602844238281, -0.8677624464035034, -0.09917500615119934, -0.6234277486801147, -0.2050333470106125, -0.160673126578331, -0.19163964688777924, -0.6480067372322083, -0.23017093539237976, -0.1146416962146759, -0.22228886187076569, 1.5783578157424927, 0.7652201652526855] => 0 (expected 0)\n",
            "[-0.8073899745941162, -0.3963780701160431, 0.6463037729263306, -0.00403600325807929, -0.09917500615119934, -0.6234277486801147, -0.2050333470106125, -0.160673126578331, -0.19163964688777924, 1.5431939363479614, -0.23017093539237976, -0.1146416962146759, -0.22228886187076569, -0.6335697770118713, 0.7652201652526855] => 0 (expected 0)\n",
            "[1.2385587692260742, -0.3963780701160431, -1.5472602844238281, -0.9185698628425598, -0.09917500615119934, -0.6234277486801147, -0.2050333470106125, -0.160673126578331, -0.19163964688777924, -0.6480067372322083, -0.23017093539237976, -0.1146416962146759, -0.22228886187076569, 1.5783578157424927, 0.7652201652526855] => 0 (expected 0)\n"
          ],
          "name": "stdout"
        }
      ]
    }
  ]
}