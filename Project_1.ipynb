{
  "nbformat": 4,
  "nbformat_minor": 0,
  "metadata": {
    "kernelspec": {
      "display_name": "Python 3",
      "language": "python",
      "name": "python3"
    },
    "language_info": {
      "codemirror_mode": {
        "name": "ipython",
        "version": 3
      },
      "file_extension": ".py",
      "mimetype": "text/x-python",
      "name": "python",
      "nbconvert_exporter": "python",
      "pygments_lexer": "ipython3",
      "version": "3.7.6"
    },
    "colab": {
      "name": "Project 1.ipynb",
      "provenance": [],
      "collapsed_sections": [
        "vyQR00WHzTrT",
        "59wZNYrJzTrd",
        "0ujMU4FUzTre"
      ],
      "include_colab_link": true
    }
  },
  "cells": [
    {
      "cell_type": "markdown",
      "metadata": {
        "id": "view-in-github",
        "colab_type": "text"
      },
      "source": [
        "<a href=\"https://colab.research.google.com/github/johnnyagaka/Data-Science-Projects/blob/main/Project_1.ipynb\" target=\"_parent\"><img src=\"https://colab.research.google.com/assets/colab-badge.svg\" alt=\"Open In Colab\"/></a>"
      ]
    },
    {
      "cell_type": "markdown",
      "metadata": {
        "id": "rMvPZ0f-zTnH"
      },
      "source": [
        "# Political Alignment Case Study\n",
        "\n",
        "Allen Downey\n",
        "\n",
        "[MIT License](https://en.wikipedia.org/wiki/MIT_License)\n",
        "\n",
        "\n",
        "### Introduction\n",
        "\n",
        "This notebook is a template for a do-it-yourself, choose-your-own-adventure mini-project that explores the relationship between political alignment and other attitudes and beliefs.\n",
        "\n",
        "I will outline the steps and provide sample code.  You can choose which survey question to explore, adapt my code for your data, and write a report presenting the results."
      ]
    },
    {
      "cell_type": "markdown",
      "metadata": {
        "id": "qLqy4AcPzTnJ"
      },
      "source": [
        "In previous notebooks, we looked at changes in political alignment over time, and explored the relationship between political alignment and survey questions related to \"outlook\".\n",
        "\n",
        "The analysis in this notebook follows the steps we have seen:\n",
        "\n",
        "1) For your variable of interest, you will read the code book to understand the question and valid responses.\n",
        "\n",
        "2) You will compute and display the distribution (PMF) of responses and the distribution within each political group.\n",
        "\n",
        "3) You will recode the variable on a numerical scale that makes it possible to interpret the mean, and then plot the mean over time.\n",
        "\n",
        "4) You will use a pivot table to compute the mean of your variable over time for each political alignment group (liberal, moderate, and conservative).\n",
        "\n",
        "5) Finally, you will look at results from three resamplings of the data to see whether the patterns you observed might be due to random sampling."
      ]
    },
    {
      "cell_type": "markdown",
      "metadata": {
        "id": "2x7hVW9czTnK"
      },
      "source": [
        "### Setup\n",
        "\n",
        "If you are running this notebook in Colab, the following cell installs the `empiricaldist` library.\n",
        "\n",
        "If you are running in another environment, you will need to install it yourself."
      ]
    },
    {
      "cell_type": "code",
      "metadata": {
        "id": "yRio_fGdzTnL",
        "colab": {
          "base_uri": "https://localhost:8080/",
          "height": 34
        },
        "outputId": "9ca89986-695b-45e2-a3d9-6f6397d3b833"
      },
      "source": [
        "# If we're running in Colab, set up the environment\n",
        "\n",
        "import sys\n",
        "IN_COLAB = 'google.colab' in sys.modules\n",
        "\n",
        "if IN_COLAB:\n",
        "    !pip install empiricaldist"
      ],
      "execution_count": null,
      "outputs": [
        {
          "output_type": "stream",
          "text": [
            "Requirement already satisfied: empiricaldist in /usr/local/lib/python3.6/dist-packages (0.3.9)\n"
          ],
          "name": "stdout"
        }
      ]
    },
    {
      "cell_type": "markdown",
      "metadata": {
        "id": "_wdJP32WzTnX"
      },
      "source": [
        "If everything we need is installed, the following cell should run without error."
      ]
    },
    {
      "cell_type": "code",
      "metadata": {
        "id": "rKW1_lLDzTnY"
      },
      "source": [
        "import pandas as pd\n",
        "import numpy as np\n",
        "import matplotlib.pyplot as plt\n",
        "import seaborn as sns\n",
        "\n",
        "from empiricaldist import Pmf"
      ],
      "execution_count": null,
      "outputs": []
    },
    {
      "cell_type": "markdown",
      "metadata": {
        "id": "1ADquXvCzTnm"
      },
      "source": [
        "The following cells define functions from previous notebooks we will use again."
      ]
    },
    {
      "cell_type": "code",
      "metadata": {
        "id": "Rb5Rdx92zTnn"
      },
      "source": [
        "def values(series):\n",
        "    \"\"\"Count the values and sort.\n",
        "    \n",
        "    series: pd.Series\n",
        "    \n",
        "    returns: series mapping from values to frequencies\n",
        "    \"\"\"\n",
        "    return series.value_counts().sort_index()"
      ],
      "execution_count": null,
      "outputs": []
    },
    {
      "cell_type": "code",
      "metadata": {
        "id": "SLPLmV62zTns"
      },
      "source": [
        "def decorate(**options):\n",
        "    \"\"\"Decorate the current axes.\n",
        "    Call decorate with keyword arguments like\n",
        "    decorate(title='Title',\n",
        "             xlabel='x',\n",
        "             ylabel='y')\n",
        "    The keyword arguments can be any of the axis properties\n",
        "    https://matplotlib.org/api/axes_api.html\n",
        "    \"\"\"\n",
        "    plt.gca().set(**options)\n",
        "    plt.tight_layout()"
      ],
      "execution_count": null,
      "outputs": []
    },
    {
      "cell_type": "code",
      "metadata": {
        "id": "K3vZFKCRzTn6",
        "colab": {
          "base_uri": "https://localhost:8080/",
          "height": 71
        },
        "outputId": "f55bc50f-9db6-42e0-fc45-ba2fda6632f9"
      },
      "source": [
        "from statsmodels.nonparametric.smoothers_lowess import lowess\n",
        "\n",
        "def make_lowess(series):\n",
        "    \"\"\"Use LOWESS to compute a smooth line.\n",
        "    \n",
        "    series: pd.Series\n",
        "    \n",
        "    returns: pd.Series\n",
        "    \"\"\"\n",
        "    y = series.values\n",
        "    x = series.index.values\n",
        "\n",
        "    smooth = lowess(y, x)\n",
        "    index, data = np.transpose(smooth)\n",
        "\n",
        "    return pd.Series(data, index=index) "
      ],
      "execution_count": null,
      "outputs": [
        {
          "output_type": "stream",
          "text": [
            "/usr/local/lib/python3.6/dist-packages/statsmodels/tools/_testing.py:19: FutureWarning: pandas.util.testing is deprecated. Use the functions in the public API at pandas.testing instead.\n",
            "  import pandas.util.testing as tm\n"
          ],
          "name": "stderr"
        }
      ]
    },
    {
      "cell_type": "code",
      "metadata": {
        "id": "bLwTVvHazToF"
      },
      "source": [
        "def plot_series_lowess(series, color):\n",
        "    \"\"\"Plots a series of data points and a smooth line.\n",
        "    \n",
        "    series: pd.Series\n",
        "    color: string or tuple\n",
        "    \"\"\"\n",
        "    series.plot(linewidth=0, marker='o', color=color, alpha=0.5)\n",
        "    smooth = make_lowess(series)\n",
        "    smooth.plot(label='_', color=color)"
      ],
      "execution_count": null,
      "outputs": []
    },
    {
      "cell_type": "code",
      "metadata": {
        "id": "VsmIy9UQzToK"
      },
      "source": [
        "def plot_columns_lowess(table, columns, color_map):\n",
        "    \"\"\"Plot the columns in a DataFrame.\n",
        "    \n",
        "    table: DataFrame with a cross tabulation\n",
        "    columns: list of column names, in the desired order\n",
        "    color_map: mapping from column names to color_map\n",
        "    \"\"\"\n",
        "    for col in columns:\n",
        "        series = table[col]\n",
        "        plot_series_lowess(series, color_map[col])"
      ],
      "execution_count": null,
      "outputs": []
    },
    {
      "cell_type": "markdown",
      "metadata": {
        "id": "VjQ2mzH0zToV"
      },
      "source": [
        "### Loading the data\n",
        "\n",
        "In the first notebook, we downloaded GSS data, loaded and cleaned it, resampled it to correct for stratified sampling, and then saved the data in an HDF5 file, which is much faster to load.\n",
        "\n",
        "The following cells downloads the file."
      ]
    },
    {
      "cell_type": "code",
      "metadata": {
        "id": "EpJXXNFWzToY",
        "colab": {
          "base_uri": "https://localhost:8080/",
          "height": 289
        },
        "outputId": "faa2cbda-c9e3-44d0-9774-8fefe80f6896"
      },
      "source": [
        "# Load the data file\n",
        "\n",
        "import os\n",
        "\n",
        "datafile = 'gss_eda.3.hdf5'\n",
        "if not os.path.exists(datafile):\n",
        "    !wget https://github.com/AllenDowney/PoliticalAlignmentCaseStudy/raw/master/gss_eda.3.hdf5\n"
      ],
      "execution_count": null,
      "outputs": [
        {
          "output_type": "stream",
          "text": [
            "--2020-10-21 05:02:32--  https://github.com/AllenDowney/PoliticalAlignmentCaseStudy/raw/master/gss_eda.3.hdf5\n",
            "Resolving github.com (github.com)... 52.192.72.89\n",
            "Connecting to github.com (github.com)|52.192.72.89|:443... connected.\n",
            "HTTP request sent, awaiting response... 302 Found\n",
            "Location: https://raw.githubusercontent.com/AllenDowney/PoliticalAlignmentCaseStudy/master/gss_eda.3.hdf5 [following]\n",
            "--2020-10-21 05:02:33--  https://raw.githubusercontent.com/AllenDowney/PoliticalAlignmentCaseStudy/master/gss_eda.3.hdf5\n",
            "Resolving raw.githubusercontent.com (raw.githubusercontent.com)... 151.101.0.133, 151.101.64.133, 151.101.128.133, ...\n",
            "Connecting to raw.githubusercontent.com (raw.githubusercontent.com)|151.101.0.133|:443... connected.\n",
            "HTTP request sent, awaiting response... 200 OK\n",
            "Length: 20717513 (20M) [application/octet-stream]\n",
            "Saving to: ‘gss_eda.3.hdf5’\n",
            "\n",
            "gss_eda.3.hdf5      100%[===================>]  19.76M  28.4MB/s    in 0.7s    \n",
            "\n",
            "2020-10-21 05:02:34 (28.4 MB/s) - ‘gss_eda.3.hdf5’ saved [20717513/20717513]\n",
            "\n"
          ],
          "name": "stdout"
        }
      ]
    },
    {
      "cell_type": "markdown",
      "metadata": {
        "id": "LgyqeD__zToc"
      },
      "source": [
        "Now I'll load one of the resampled DataFrames."
      ]
    },
    {
      "cell_type": "code",
      "metadata": {
        "id": "yTQQP1UvzTod",
        "colab": {
          "base_uri": "https://localhost:8080/",
          "height": 34
        },
        "outputId": "42a0ad2e-4935-4cd5-89de-5e49cae6340e"
      },
      "source": [
        "gss = pd.read_hdf(datafile, 'gss0')\n",
        "gss.shape"
      ],
      "execution_count": null,
      "outputs": [
        {
          "output_type": "execute_result",
          "data": {
            "text/plain": [
              "(64814, 169)"
            ]
          },
          "metadata": {
            "tags": []
          },
          "execution_count": 12
        }
      ]
    },
    {
      "cell_type": "markdown",
      "metadata": {
        "id": "p2yXHPpZzTon"
      },
      "source": [
        "## Changes in social attitudes\n",
        "\n",
        "The General Social Survey includes questions about a variety of social attitudes and beliefs.  We can use this dataset to explore changes in the responses over time and the relationship with political alignment.\n",
        "\n",
        "In my subset of the GSS data, I selected questions that were asked repeatedly over the interval of the survey.  [You can see the variables I chose on the GSS web site](https://gssdataexplorer.norc.org/projects/52787/variables/data_cart).\n",
        "\n",
        "To do the exercises in this notebook, you should choose a variable that you think might be interesting.\n",
        "\n",
        "I will walk you through a process for exploring the variable you choose, but you should feel free to ignore my suggestions if you have a better idea."
      ]
    },
    {
      "cell_type": "markdown",
      "metadata": {
        "id": "F5nBTXH9zToo"
      },
      "source": [
        "If you are not sure which variable to explore, here is a [random selection of three that you can choose from](https://en.wikipedia.org/wiki/The_Paradox_of_Choice):"
      ]
    },
    {
      "cell_type": "code",
      "metadata": {
        "id": "3xViKzCQzToo",
        "colab": {
          "base_uri": "https://localhost:8080/",
          "height": 68
        },
        "outputId": "e2440025-94f2-4ac8-f55d-24bf18960cf5"
      },
      "source": [
        "cols = list(gss.columns)\n",
        "for col in ['ballot', 'id_', 'year']:\n",
        "    cols.remove(col)\n",
        "    \n",
        "np.random.shuffle(cols)\n",
        "for col in cols[:3]:\n",
        "    print(col)"
      ],
      "execution_count": null,
      "outputs": [
        {
          "output_type": "stream",
          "text": [
            "happy\n",
            "natarmsy\n",
            "sprtprsn\n"
          ],
          "name": "stdout"
        }
      ]
    },
    {
      "cell_type": "markdown",
      "metadata": {
        "id": "2N_8wZ4dzTot"
      },
      "source": [
        "\n",
        "## Improving Nations Education System\n",
        "\n",
        "I will look at responses to the following [question Improving nations education system](https://gssdataexplorer.norc.org/variables/187/vshow).\n",
        "\n",
        "> We are faced with many problems in this country, none of which can be solved easily or inexpensively. I'm going to name some of these problems, and for each one I'd like you to name some of these problems, and for each one I'd like you to tell me whether you think we're spending too much money on it, too little money, or about the right amount. First (READ ITEM A) . . . are we spending too much, too little, or about the right amount on (ITEM)?\n",
        "\n",
        "\n",
        "> G. Improving the nation's education system?\n",
        "\n",
        "\n",
        "\n",
        "The valid responses are:\n",
        "\n",
        "```\n",
        "1\tToo little\n",
        "2\tAbout right\n",
        "3\tToo much\n",
        "```\n",
        "\n",
        "\n",
        "\n",
        "Here's the distribution of responses:"
      ]
    },
    {
      "cell_type": "code",
      "metadata": {
        "id": "-aHc6zfJzTot",
        "colab": {
          "base_uri": "https://localhost:8080/",
          "height": 85
        },
        "outputId": "8530608e-352c-427b-ca7d-8a3b23ab0fd5"
      },
      "source": [
        "values(gss['nateduc'])"
      ],
      "execution_count": null,
      "outputs": [
        {
          "output_type": "execute_result",
          "data": {
            "text/plain": [
              "1.0    23588\n",
              "2.0    10208\n",
              "3.0     2459\n",
              "Name: nateduc, dtype: int64"
            ]
          },
          "metadata": {
            "tags": []
          },
          "execution_count": 14
        }
      ]
    },
    {
      "cell_type": "markdown",
      "metadata": {
        "id": "g9NdI0nezTo2"
      },
      "source": [
        "And here's what the distribution looks like."
      ]
    },
    {
      "cell_type": "code",
      "metadata": {
        "id": "9mLr2RZEzTo3",
        "colab": {
          "base_uri": "https://localhost:8080/",
          "height": 324
        },
        "outputId": "80e51237-3324-499f-e772-8637e0025fc7"
      },
      "source": [
        "pmf = Pmf.from_seq(gss['nateduc'])\n",
        "pmf.bar(alpha=0.7)\n",
        "\n",
        "decorate(xlabel='Response',\n",
        "         ylabel='PMF',\n",
        "         title='Distribution of responses')\n",
        "\n",
        "responses = [1, 2, 3]\n",
        "\n",
        "labels = ['Too little',\n",
        "          'About right',\n",
        "          'Too much']\n",
        "\n",
        "plt.xticks(responses, labels, rotation=30);"
      ],
      "execution_count": null,
      "outputs": [
        {
          "output_type": "display_data",
          "data": {
            "image/png": "[encoded data removed]",
            "text/plain": [
              "<Figure size 432x288 with 1 Axes>"
            ]
          },
          "metadata": {
            "tags": [],
            "needs_background": "light"
          }
        }
      ]
    },
    {
      "cell_type": "markdown",
      "metadata": {
        "id": "eubPTHxfzTo8"
      },
      "source": [
        "When you write your report, you should add a few sentences here to interpret the results you get for your variable.\n",
        "\n",
        "But remember that the results are an average over the entire interval of the survey, so you should not interpet it as a current condition."
      ]
    },
    {
      "cell_type": "markdown",
      "metadata": {
        "id": "bkI7i93nzTo9"
      },
      "source": [
        "## Responses over time\n",
        "\n",
        "If we make a cross tabulation of `year` and the variable of interest, we get the distribution of responses over time."
      ]
    },
    {
      "cell_type": "code",
      "metadata": {
        "id": "HsMpba2yzTo-",
        "colab": {
          "base_uri": "https://localhost:8080/",
          "height": 235
        },
        "outputId": "188fc9a1-fa17-4e1f-e810-840a9cc6591d"
      },
      "source": [
        "xtab = pd.crosstab(gss['year'], gss['nateduc'], normalize='index')\n",
        "xtab.head()"
      ],
      "execution_count": null,
      "outputs": [
        {
          "output_type": "execute_result",
          "data": {
            "text/html": [
              "<div>\n",
              "<style scoped>\n",
              "    .dataframe tbody tr th:only-of-type {\n",
              "        vertical-align: middle;\n",
              "    }\n",
              "\n",
              "    .dataframe tbody tr th {\n",
              "        vertical-align: top;\n",
              "    }\n",
              "\n",
              "    .dataframe thead th {\n",
              "        text-align: right;\n",
              "    }\n",
              "</style>\n",
              "<table border=\"1\" class=\"dataframe\">\n",
              "  <thead>\n",
              "    <tr style=\"text-align: right;\">\n",
              "      <th>nateduc</th>\n",
              "      <th>1.0</th>\n",
              "      <th>2.0</th>\n",
              "      <th>3.0</th>\n",
              "    </tr>\n",
              "    <tr>\n",
              "      <th>year</th>\n",
              "      <th></th>\n",
              "      <th></th>\n",
              "      <th></th>\n",
              "    </tr>\n",
              "  </thead>\n",
              "  <tbody>\n",
              "    <tr>\n",
              "      <th>1973</th>\n",
              "      <td>0.534362</td>\n",
              "      <td>0.384993</td>\n",
              "      <td>0.080645</td>\n",
              "    </tr>\n",
              "    <tr>\n",
              "      <th>1974</th>\n",
              "      <td>0.547435</td>\n",
              "      <td>0.382291</td>\n",
              "      <td>0.070274</td>\n",
              "    </tr>\n",
              "    <tr>\n",
              "      <th>1975</th>\n",
              "      <td>0.511789</td>\n",
              "      <td>0.377254</td>\n",
              "      <td>0.110957</td>\n",
              "    </tr>\n",
              "    <tr>\n",
              "      <th>1976</th>\n",
              "      <td>0.525239</td>\n",
              "      <td>0.374488</td>\n",
              "      <td>0.100273</td>\n",
              "    </tr>\n",
              "    <tr>\n",
              "      <th>1977</th>\n",
              "      <td>0.512559</td>\n",
              "      <td>0.369993</td>\n",
              "      <td>0.117447</td>\n",
              "    </tr>\n",
              "  </tbody>\n",
              "</table>\n",
              "</div>"
            ],
            "text/plain": [
              "nateduc       1.0       2.0       3.0\n",
              "year                                 \n",
              "1973     0.534362  0.384993  0.080645\n",
              "1974     0.547435  0.382291  0.070274\n",
              "1975     0.511789  0.377254  0.110957\n",
              "1976     0.525239  0.374488  0.100273\n",
              "1977     0.512559  0.369993  0.117447"
            ]
          },
          "metadata": {
            "tags": []
          },
          "execution_count": 16
        }
      ]
    },
    {
      "cell_type": "code",
      "metadata": {
        "id": "pE_vZLDxzTpF",
        "colab": {
          "base_uri": "https://localhost:8080/",
          "height": 235
        },
        "outputId": "40091de8-a7ae-4740-f3e5-b7e0077a5cd0"
      },
      "source": [
        "xtab.tail()"
      ],
      "execution_count": null,
      "outputs": [
        {
          "output_type": "execute_result",
          "data": {
            "text/html": [
              "<div>\n",
              "<style scoped>\n",
              "    .dataframe tbody tr th:only-of-type {\n",
              "        vertical-align: middle;\n",
              "    }\n",
              "\n",
              "    .dataframe tbody tr th {\n",
              "        vertical-align: top;\n",
              "    }\n",
              "\n",
              "    .dataframe thead th {\n",
              "        text-align: right;\n",
              "    }\n",
              "</style>\n",
              "<table border=\"1\" class=\"dataframe\">\n",
              "  <thead>\n",
              "    <tr style=\"text-align: right;\">\n",
              "      <th>nateduc</th>\n",
              "      <th>1.0</th>\n",
              "      <th>2.0</th>\n",
              "      <th>3.0</th>\n",
              "    </tr>\n",
              "    <tr>\n",
              "      <th>year</th>\n",
              "      <th></th>\n",
              "      <th></th>\n",
              "      <th></th>\n",
              "    </tr>\n",
              "  </thead>\n",
              "  <tbody>\n",
              "    <tr>\n",
              "      <th>2010</th>\n",
              "      <td>0.718533</td>\n",
              "      <td>0.239841</td>\n",
              "      <td>0.041625</td>\n",
              "    </tr>\n",
              "    <tr>\n",
              "      <th>2012</th>\n",
              "      <td>0.739479</td>\n",
              "      <td>0.186373</td>\n",
              "      <td>0.074148</td>\n",
              "    </tr>\n",
              "    <tr>\n",
              "      <th>2014</th>\n",
              "      <td>0.702552</td>\n",
              "      <td>0.228070</td>\n",
              "      <td>0.069378</td>\n",
              "    </tr>\n",
              "    <tr>\n",
              "      <th>2016</th>\n",
              "      <td>0.730296</td>\n",
              "      <td>0.210412</td>\n",
              "      <td>0.059291</td>\n",
              "    </tr>\n",
              "    <tr>\n",
              "      <th>2018</th>\n",
              "      <td>0.749371</td>\n",
              "      <td>0.198659</td>\n",
              "      <td>0.051970</td>\n",
              "    </tr>\n",
              "  </tbody>\n",
              "</table>\n",
              "</div>"
            ],
            "text/plain": [
              "nateduc       1.0       2.0       3.0\n",
              "year                                 \n",
              "2010     0.718533  0.239841  0.041625\n",
              "2012     0.739479  0.186373  0.074148\n",
              "2014     0.702552  0.228070  0.069378\n",
              "2016     0.730296  0.210412  0.059291\n",
              "2018     0.749371  0.198659  0.051970"
            ]
          },
          "metadata": {
            "tags": []
          },
          "execution_count": 17
        }
      ]
    },
    {
      "cell_type": "markdown",
      "metadata": {
        "id": "nJtaeknuzTpJ"
      },
      "source": [
        "Now we can plot the results."
      ]
    },
    {
      "cell_type": "code",
      "metadata": {
        "id": "TMXWvsMMzTpJ",
        "colab": {
          "base_uri": "https://localhost:8080/",
          "height": 297
        },
        "outputId": "8938082e-c9ff-481f-950e-e001a49618f9"
      },
      "source": [
        "for response, label in zip(responses, labels):\n",
        "    xtab[response].plot(label=label)\n",
        "\n",
        "decorate(xlabel='Year',\n",
        "         ylabel='Percentage',\n",
        "         xlim=[1972, 2019],\n",
        "         title='Expenditure on Improving nations education system')\n",
        "\n",
        "plt.legend();"
      ],
      "execution_count": null,
      "outputs": [
        {
          "output_type": "display_data",
          "data": {
            "image/png": "[encoded data removed]",
            "text/plain": [
              "<Figure size 432x288 with 1 Axes>"
            ]
          },
          "metadata": {
            "tags": [],
            "needs_background": "light"
          }
        }
      ]
    },
    {
      "cell_type": "code",
      "metadata": {
        "id": "61cIjR-VC7X6",
        "colab": {
          "base_uri": "https://localhost:8080/",
          "height": 1000
        },
        "outputId": "cc0c4d49-168f-4b8e-ca39-eae93a6a57a4"
      },
      "source": [
        "xtab"
      ],
      "execution_count": null,
      "outputs": [
        {
          "output_type": "execute_result",
          "data": {
            "text/html": [
              "<div>\n",
              "<style scoped>\n",
              "    .dataframe tbody tr th:only-of-type {\n",
              "        vertical-align: middle;\n",
              "    }\n",
              "\n",
              "    .dataframe tbody tr th {\n",
              "        vertical-align: top;\n",
              "    }\n",
              "\n",
              "    .dataframe thead th {\n",
              "        text-align: right;\n",
              "    }\n",
              "</style>\n",
              "<table border=\"1\" class=\"dataframe\">\n",
              "  <thead>\n",
              "    <tr style=\"text-align: right;\">\n",
              "      <th>nateduc</th>\n",
              "      <th>1.0</th>\n",
              "      <th>2.0</th>\n",
              "      <th>3.0</th>\n",
              "    </tr>\n",
              "    <tr>\n",
              "      <th>year</th>\n",
              "      <th></th>\n",
              "      <th></th>\n",
              "      <th></th>\n",
              "    </tr>\n",
              "  </thead>\n",
              "  <tbody>\n",
              "    <tr>\n",
              "      <th>1973</th>\n",
              "      <td>0.534362</td>\n",
              "      <td>0.384993</td>\n",
              "      <td>0.080645</td>\n",
              "    </tr>\n",
              "    <tr>\n",
              "      <th>1974</th>\n",
              "      <td>0.547435</td>\n",
              "      <td>0.382291</td>\n",
              "      <td>0.070274</td>\n",
              "    </tr>\n",
              "    <tr>\n",
              "      <th>1975</th>\n",
              "      <td>0.511789</td>\n",
              "      <td>0.377254</td>\n",
              "      <td>0.110957</td>\n",
              "    </tr>\n",
              "    <tr>\n",
              "      <th>1976</th>\n",
              "      <td>0.525239</td>\n",
              "      <td>0.374488</td>\n",
              "      <td>0.100273</td>\n",
              "    </tr>\n",
              "    <tr>\n",
              "      <th>1977</th>\n",
              "      <td>0.512559</td>\n",
              "      <td>0.369993</td>\n",
              "      <td>0.117447</td>\n",
              "    </tr>\n",
              "    <tr>\n",
              "      <th>1978</th>\n",
              "      <td>0.528212</td>\n",
              "      <td>0.354181</td>\n",
              "      <td>0.117607</td>\n",
              "    </tr>\n",
              "    <tr>\n",
              "      <th>1980</th>\n",
              "      <td>0.564607</td>\n",
              "      <td>0.339185</td>\n",
              "      <td>0.096208</td>\n",
              "    </tr>\n",
              "    <tr>\n",
              "      <th>1982</th>\n",
              "      <td>0.601329</td>\n",
              "      <td>0.313953</td>\n",
              "      <td>0.084718</td>\n",
              "    </tr>\n",
              "    <tr>\n",
              "      <th>1983</th>\n",
              "      <td>0.604560</td>\n",
              "      <td>0.338111</td>\n",
              "      <td>0.057329</td>\n",
              "    </tr>\n",
              "    <tr>\n",
              "      <th>1984</th>\n",
              "      <td>0.635052</td>\n",
              "      <td>0.340206</td>\n",
              "      <td>0.024742</td>\n",
              "    </tr>\n",
              "    <tr>\n",
              "      <th>1985</th>\n",
              "      <td>0.604683</td>\n",
              "      <td>0.331956</td>\n",
              "      <td>0.063361</td>\n",
              "    </tr>\n",
              "    <tr>\n",
              "      <th>1986</th>\n",
              "      <td>0.600877</td>\n",
              "      <td>0.346491</td>\n",
              "      <td>0.052632</td>\n",
              "    </tr>\n",
              "    <tr>\n",
              "      <th>1987</th>\n",
              "      <td>0.682886</td>\n",
              "      <td>0.256711</td>\n",
              "      <td>0.060403</td>\n",
              "    </tr>\n",
              "    <tr>\n",
              "      <th>1988</th>\n",
              "      <td>0.641940</td>\n",
              "      <td>0.328103</td>\n",
              "      <td>0.029957</td>\n",
              "    </tr>\n",
              "    <tr>\n",
              "      <th>1989</th>\n",
              "      <td>0.701847</td>\n",
              "      <td>0.267810</td>\n",
              "      <td>0.030343</td>\n",
              "    </tr>\n",
              "    <tr>\n",
              "      <th>1990</th>\n",
              "      <td>0.733236</td>\n",
              "      <td>0.231778</td>\n",
              "      <td>0.034985</td>\n",
              "    </tr>\n",
              "    <tr>\n",
              "      <th>1991</th>\n",
              "      <td>0.737360</td>\n",
              "      <td>0.223315</td>\n",
              "      <td>0.039326</td>\n",
              "    </tr>\n",
              "    <tr>\n",
              "      <th>1993</th>\n",
              "      <td>0.702101</td>\n",
              "      <td>0.231150</td>\n",
              "      <td>0.066749</td>\n",
              "    </tr>\n",
              "    <tr>\n",
              "      <th>1994</th>\n",
              "      <td>0.720430</td>\n",
              "      <td>0.225134</td>\n",
              "      <td>0.054435</td>\n",
              "    </tr>\n",
              "    <tr>\n",
              "      <th>1996</th>\n",
              "      <td>0.708477</td>\n",
              "      <td>0.223983</td>\n",
              "      <td>0.067540</td>\n",
              "    </tr>\n",
              "    <tr>\n",
              "      <th>1998</th>\n",
              "      <td>0.719824</td>\n",
              "      <td>0.220922</td>\n",
              "      <td>0.059254</td>\n",
              "    </tr>\n",
              "    <tr>\n",
              "      <th>2000</th>\n",
              "      <td>0.711242</td>\n",
              "      <td>0.230713</td>\n",
              "      <td>0.058046</td>\n",
              "    </tr>\n",
              "    <tr>\n",
              "      <th>2002</th>\n",
              "      <td>0.732224</td>\n",
              "      <td>0.207262</td>\n",
              "      <td>0.060514</td>\n",
              "    </tr>\n",
              "    <tr>\n",
              "      <th>2004</th>\n",
              "      <td>0.725362</td>\n",
              "      <td>0.222464</td>\n",
              "      <td>0.052174</td>\n",
              "    </tr>\n",
              "    <tr>\n",
              "      <th>2006</th>\n",
              "      <td>0.743502</td>\n",
              "      <td>0.221614</td>\n",
              "      <td>0.034884</td>\n",
              "    </tr>\n",
              "    <tr>\n",
              "      <th>2008</th>\n",
              "      <td>0.715768</td>\n",
              "      <td>0.238589</td>\n",
              "      <td>0.045643</td>\n",
              "    </tr>\n",
              "    <tr>\n",
              "      <th>2010</th>\n",
              "      <td>0.718533</td>\n",
              "      <td>0.239841</td>\n",
              "      <td>0.041625</td>\n",
              "    </tr>\n",
              "    <tr>\n",
              "      <th>2012</th>\n",
              "      <td>0.739479</td>\n",
              "      <td>0.186373</td>\n",
              "      <td>0.074148</td>\n",
              "    </tr>\n",
              "    <tr>\n",
              "      <th>2014</th>\n",
              "      <td>0.702552</td>\n",
              "      <td>0.228070</td>\n",
              "      <td>0.069378</td>\n",
              "    </tr>\n",
              "    <tr>\n",
              "      <th>2016</th>\n",
              "      <td>0.730296</td>\n",
              "      <td>0.210412</td>\n",
              "      <td>0.059291</td>\n",
              "    </tr>\n",
              "    <tr>\n",
              "      <th>2018</th>\n",
              "      <td>0.749371</td>\n",
              "      <td>0.198659</td>\n",
              "      <td>0.051970</td>\n",
              "    </tr>\n",
              "  </tbody>\n",
              "</table>\n",
              "</div>"
            ],
            "text/plain": [
              "nateduc       1.0       2.0       3.0\n",
              "year                                 \n",
              "1973     0.534362  0.384993  0.080645\n",
              "1974     0.547435  0.382291  0.070274\n",
              "1975     0.511789  0.377254  0.110957\n",
              "1976     0.525239  0.374488  0.100273\n",
              "1977     0.512559  0.369993  0.117447\n",
              "1978     0.528212  0.354181  0.117607\n",
              "1980     0.564607  0.339185  0.096208\n",
              "1982     0.601329  0.313953  0.084718\n",
              "1983     0.604560  0.338111  0.057329\n",
              "1984     0.635052  0.340206  0.024742\n",
              "1985     0.604683  0.331956  0.063361\n",
              "1986     0.600877  0.346491  0.052632\n",
              "1987     0.682886  0.256711  0.060403\n",
              "1988     0.641940  0.328103  0.029957\n",
              "1989     0.701847  0.267810  0.030343\n",
              "1990     0.733236  0.231778  0.034985\n",
              "1991     0.737360  0.223315  0.039326\n",
              "1993     0.702101  0.231150  0.066749\n",
              "1994     0.720430  0.225134  0.054435\n",
              "1996     0.708477  0.223983  0.067540\n",
              "1998     0.719824  0.220922  0.059254\n",
              "2000     0.711242  0.230713  0.058046\n",
              "2002     0.732224  0.207262  0.060514\n",
              "2004     0.725362  0.222464  0.052174\n",
              "2006     0.743502  0.221614  0.034884\n",
              "2008     0.715768  0.238589  0.045643\n",
              "2010     0.718533  0.239841  0.041625\n",
              "2012     0.739479  0.186373  0.074148\n",
              "2014     0.702552  0.228070  0.069378\n",
              "2016     0.730296  0.210412  0.059291\n",
              "2018     0.749371  0.198659  0.051970"
            ]
          },
          "metadata": {
            "tags": []
          },
          "execution_count": 49
        }
      ]
    },
    {
      "cell_type": "markdown",
      "metadata": {
        "id": "ItFzQojbzTpN"
      },
      "source": [
        "When you write your report, you should add a few sentences here to interpret the results you get for your variable."
      ]
    },
    {
      "cell_type": "markdown",
      "metadata": {
        "id": "ETestlZHzTpN"
      },
      "source": [
        "## Political alignment\n",
        "\n",
        "To explore the relationship between this variable and political alignment, I'll recode political alignment into three groups:"
      ]
    },
    {
      "cell_type": "code",
      "metadata": {
        "id": "p91cD_vRzTpO"
      },
      "source": [
        "d_polviews = {1: 'Liberal', \n",
        "              2: 'Liberal', \n",
        "              3: 'Liberal', \n",
        "              4: 'Moderate', \n",
        "              5: 'Conservative', \n",
        "              6: 'Conservative', \n",
        "              7: 'Conservative'}"
      ],
      "execution_count": null,
      "outputs": []
    },
    {
      "cell_type": "markdown",
      "metadata": {
        "id": "4rkWZZNdzTpS"
      },
      "source": [
        "I'll use `replace`, as we've seen before, and store the result as a new column in the DataFrame."
      ]
    },
    {
      "cell_type": "code",
      "metadata": {
        "id": "Wfb538ObzTpU"
      },
      "source": [
        "gss['polviews3'] = gss['polviews'].replace(d_polviews)"
      ],
      "execution_count": null,
      "outputs": []
    },
    {
      "cell_type": "markdown",
      "metadata": {
        "id": "zJv9rCmmzTpa"
      },
      "source": [
        "With this scale, there are roughly the same number of people in each group."
      ]
    },
    {
      "cell_type": "code",
      "metadata": {
        "id": "TeHC3mZKzTpc",
        "colab": {
          "base_uri": "https://localhost:8080/",
          "height": 85
        },
        "outputId": "30cfbfc4-6b80-49da-806b-5afb9c46f617"
      },
      "source": [
        "values(gss['polviews3'])"
      ],
      "execution_count": null,
      "outputs": [
        {
          "output_type": "execute_result",
          "data": {
            "text/plain": [
              "Conservative    19129\n",
              "Liberal         14979\n",
              "Moderate        21444\n",
              "Name: polviews3, dtype: int64"
            ]
          },
          "metadata": {
            "tags": []
          },
          "execution_count": 23
        }
      ]
    },
    {
      "cell_type": "code",
      "metadata": {
        "id": "6DPApFTdzTpf",
        "colab": {
          "base_uri": "https://localhost:8080/",
          "height": 297
        },
        "outputId": "047d5e9e-2565-44f7-8c36-0b692b304158"
      },
      "source": [
        "pmf = Pmf.from_seq(gss['polviews3'])\n",
        "pmf.bar(color='C1', alpha=0.7)\n",
        "\n",
        "decorate(xlabel='Political alignment',\n",
        "         ylabel='PMF',\n",
        "         title='Distribution of political alignment')"
      ],
      "execution_count": null,
      "outputs": [
        {
          "output_type": "display_data",
          "data": {
            "image/png": "[encoded data removed]",
            "text/plain": [
              "<Figure size 432x288 with 1 Axes>"
            ]
          },
          "metadata": {
            "tags": [],
            "needs_background": "light"
          }
        }
      ]
    },
    {
      "cell_type": "markdown",
      "metadata": {
        "id": "T9YRi5QWzTpj"
      },
      "source": [
        "## Group by political alignment\n",
        "\n",
        "Now we can use `groupby` to group the respondents by political alignment."
      ]
    },
    {
      "cell_type": "code",
      "metadata": {
        "id": "aeMAhXcdzTpl"
      },
      "source": [
        "by_polviews = gss.groupby('polviews3')"
      ],
      "execution_count": null,
      "outputs": []
    },
    {
      "cell_type": "markdown",
      "metadata": {
        "id": "GT5Vt4oYzTpp"
      },
      "source": [
        "Next I will plot the distribution of responses in each group.\n",
        "\n",
        "But first I'll make a dictionary that maps from each group to a color."
      ]
    },
    {
      "cell_type": "code",
      "metadata": {
        "id": "nwjL82frzTpp",
        "colab": {
          "base_uri": "https://localhost:8080/",
          "height": 89
        },
        "outputId": "109b3ede-5746-4feb-a23f-38c274949bb4"
      },
      "source": [
        "muted = sns.color_palette('muted', 5)\n",
        "sns.palplot(muted)"
      ],
      "execution_count": null,
      "outputs": [
        {
          "output_type": "display_data",
          "data": {
            "image/png": "[encoded data removed]",
            "text/plain": [
              "<Figure size 360x72 with 1 Axes>"
            ]
          },
          "metadata": {
            "tags": [],
            "needs_background": "light"
          }
        }
      ]
    },
    {
      "cell_type": "code",
      "metadata": {
        "id": "Vm5F61HozTpt"
      },
      "source": [
        "color_map = {'Conservative': muted[3], \n",
        "              'Moderate': muted[4], \n",
        "               'Liberal': muted[0]}"
      ],
      "execution_count": null,
      "outputs": []
    },
    {
      "cell_type": "markdown",
      "metadata": {
        "id": "1mHO7ifGzTpx"
      },
      "source": [
        "Now I'll make a PMF of responses for each group."
      ]
    },
    {
      "cell_type": "code",
      "metadata": {
        "id": "yw2Gn_rEzTpx",
        "colab": {
          "base_uri": "https://localhost:8080/",
          "height": 857
        },
        "outputId": "1fb6fd62-dd39-46dc-de83-d9c38abd0d1d"
      },
      "source": [
        "for name in color_map:\n",
        "    group = by_polviews.get_group(name)\n",
        "    \n",
        "    plt.figure()\n",
        "    pmf = Pmf.from_seq(group['nateduc'])\n",
        "    pmf.bar(label=name, color=color_map[name], alpha=0.7)\n",
        "    \n",
        "    decorate(xlabel='Response',\n",
        "             ylabel='PMF',\n",
        "             title='Distribution of responses')\n",
        "    \n",
        "    plt.legend()"
      ],
      "execution_count": null,
      "outputs": [
        {
          "output_type": "display_data",
          "data": {
            "image/png": "[encoded data removed]",
            "text/plain": [
              "<Figure size 432x288 with 1 Axes>"
            ]
          },
          "metadata": {
            "tags": [],
            "needs_background": "light"
          }
        },
        {
          "output_type": "display_data",
          "data": {
            "image/png": "[encoded data removed]",
            "text/plain": [
              "<Figure size 432x288 with 1 Axes>"
            ]
          },
          "metadata": {
            "tags": [],
            "needs_background": "light"
          }
        },
        {
          "output_type": "display_data",
          "data": {
            "image/png": "[encoded data removed]",
            "text/plain": [
              "<Figure size 432x288 with 1 Axes>"
            ]
          },
          "metadata": {
            "tags": [],
            "needs_background": "light"
          }
        }
      ]
    },
    {
      "cell_type": "markdown",
      "metadata": {
        "id": "gwjUFu-9zTp6"
      },
      "source": [
        "When you write your report, you should add a few sentences here to interpret the results.\n",
        "\n",
        "But again, the results are an average over the entire interval of the survey, so you should not interpet it as a current condition."
      ]
    },
    {
      "cell_type": "markdown",
      "metadata": {
        "id": "1ZgLKfaJzTp6"
      },
      "source": [
        "## Recode\n",
        "\n",
        "For each group, we could compute the mean of the responses, but it would be hard to interpret. So we'll recode the variable of interest to make the mean more... meaningful.\n",
        "\n",
        "For the variable I chose, a majority of respondents chose \"always wrong\".  I'll use that as my baseline response with code 1, and lump the other responses with code 0."
      ]
    },
    {
      "cell_type": "code",
      "metadata": {
        "id": "JGVnmUdxzTp7"
      },
      "source": [
        "d_recode = {1:1, 2:0, 3:0}"
      ],
      "execution_count": null,
      "outputs": []
    },
    {
      "cell_type": "markdown",
      "metadata": {
        "id": "Dwdkgd1NzTp-"
      },
      "source": [
        "We can use `replace` to recode the values and store the result as a new column in the DataFrame."
      ]
    },
    {
      "cell_type": "code",
      "metadata": {
        "id": "gGnhYbN9zTp-"
      },
      "source": [
        "gss['recoded'] = gss['nateduc'].replace(d_recode)"
      ],
      "execution_count": null,
      "outputs": []
    },
    {
      "cell_type": "markdown",
      "metadata": {
        "id": "ZKaeDAkUzTqB"
      },
      "source": [
        "And we'll use `values` to check whether it worked."
      ]
    },
    {
      "cell_type": "code",
      "metadata": {
        "id": "Vq6eeoz-zTqC",
        "colab": {
          "base_uri": "https://localhost:8080/",
          "height": 68
        },
        "outputId": "a6d7cb71-a7a6-4c95-f75c-0dc159e9bcad"
      },
      "source": [
        "values(gss['recoded'])"
      ],
      "execution_count": null,
      "outputs": [
        {
          "output_type": "execute_result",
          "data": {
            "text/plain": [
              "0.0    12667\n",
              "1.0    23588\n",
              "Name: recoded, dtype: int64"
            ]
          },
          "metadata": {
            "tags": []
          },
          "execution_count": 31
        }
      ]
    },
    {
      "cell_type": "markdown",
      "metadata": {
        "id": "Sz9b5yLszTqK"
      },
      "source": [
        "Now if we compute the mean, we can interpret it as \"the fraction of respondents who think there is need in improving nations education system*."
      ]
    },
    {
      "cell_type": "code",
      "metadata": {
        "id": "JCDakljCzTqL",
        "colab": {
          "base_uri": "https://localhost:8080/",
          "height": 34
        },
        "outputId": "cca13e35-0620-4d37-81f5-bbb065e7eb13"
      },
      "source": [
        "gss['recoded'].mean()"
      ],
      "execution_count": null,
      "outputs": [
        {
          "output_type": "execute_result",
          "data": {
            "text/plain": [
              "0.6506137251853943"
            ]
          },
          "metadata": {
            "tags": []
          },
          "execution_count": 29
        }
      ]
    },
    {
      "cell_type": "markdown",
      "metadata": {
        "id": "1gMkS1pJzTqO"
      },
      "source": [
        "## Average by group\n",
        "\n"
      ]
    },
    {
      "cell_type": "markdown",
      "metadata": {
        "id": "DRBA0P8mzTqO"
      },
      "source": [
        "Now we can compute the mean of the recoded variable in each group."
      ]
    },
    {
      "cell_type": "code",
      "metadata": {
        "id": "1ItTvybNzTqP",
        "colab": {
          "base_uri": "https://localhost:8080/",
          "height": 102
        },
        "outputId": "b6bd95ba-c871-4fd9-b056-e9831511e6ae"
      },
      "source": [
        "means = by_polviews['recoded'].mean()\n",
        "means"
      ],
      "execution_count": null,
      "outputs": [
        {
          "output_type": "execute_result",
          "data": {
            "text/plain": [
              "polviews3\n",
              "Conservative    0.585073\n",
              "Liberal         0.730148\n",
              "Moderate        0.663442\n",
              "Name: recoded, dtype: float32"
            ]
          },
          "metadata": {
            "tags": []
          },
          "execution_count": 32
        }
      ]
    },
    {
      "cell_type": "markdown",
      "metadata": {
        "id": "kUQgWvwazTqT"
      },
      "source": [
        "To get the values in a particular order, we can use the group names as an index:"
      ]
    },
    {
      "cell_type": "code",
      "metadata": {
        "id": "OZcQdM4bzTqV",
        "colab": {
          "base_uri": "https://localhost:8080/",
          "height": 34
        },
        "outputId": "8fb8b3b0-ae9c-4b06-9fed-3b20abf32660"
      },
      "source": [
        "names = color_map.keys()\n",
        "names"
      ],
      "execution_count": null,
      "outputs": [
        {
          "output_type": "execute_result",
          "data": {
            "text/plain": [
              "dict_keys(['Conservative', 'Moderate', 'Liberal'])"
            ]
          },
          "metadata": {
            "tags": []
          },
          "execution_count": 33
        }
      ]
    },
    {
      "cell_type": "code",
      "metadata": {
        "id": "REc_dqTjzTqa",
        "colab": {
          "base_uri": "https://localhost:8080/",
          "height": 102
        },
        "outputId": "b1a2361e-19a4-479b-9479-ebeed8978359"
      },
      "source": [
        "means[names]"
      ],
      "execution_count": null,
      "outputs": [
        {
          "output_type": "execute_result",
          "data": {
            "text/plain": [
              "polviews3\n",
              "Conservative    0.585073\n",
              "Moderate        0.663442\n",
              "Liberal         0.730148\n",
              "Name: recoded, dtype: float32"
            ]
          },
          "metadata": {
            "tags": []
          },
          "execution_count": 34
        }
      ]
    },
    {
      "cell_type": "markdown",
      "metadata": {
        "id": "RjhADqJfzTqf"
      },
      "source": [
        "Now we can make a bar plot with color-coded bars:"
      ]
    },
    {
      "cell_type": "code",
      "metadata": {
        "id": "se8avnh4zTqg",
        "colab": {
          "base_uri": "https://localhost:8080/",
          "height": 273
        },
        "outputId": "79a13b26-0504-4ba7-de25-9c42010b75cd"
      },
      "source": [
        "colors = color_map.values()\n",
        "\n",
        "means[names].plot(kind='bar', color=colors, alpha=0.7)\n",
        "\n",
        "decorate(xlabel='Political alignment',\n",
        "         ylabel='Fraction thinking its too little',\n",
        "         title='Expenditure on Improving nations education system')\n",
        "\n",
        "plt.xticks(rotation='30');"
      ],
      "execution_count": null,
      "outputs": [
        {
          "output_type": "display_data",
          "data": {
            "image/png": "[encoded data removed]",
            "text/plain": [
              "<Figure size 432x288 with 1 Axes>"
            ]
          },
          "metadata": {
            "tags": [],
            "needs_background": "light"
          }
        }
      ]
    },
    {
      "cell_type": "markdown",
      "metadata": {
        "id": "wJFSHN2jzTqj"
      },
      "source": [
        "When you write your report, you should add a few sentences here to interpret the results you get for your variable."
      ]
    },
    {
      "cell_type": "markdown",
      "metadata": {
        "id": "LMMhAikBzTqj"
      },
      "source": [
        "## Time series\n",
        "\n",
        "As we saw in previous notebooks, we can use `groupby` to group responses by year."
      ]
    },
    {
      "cell_type": "code",
      "metadata": {
        "id": "Y3oUgOhIzTqk"
      },
      "source": [
        "by_year = gss.groupby('year')"
      ],
      "execution_count": null,
      "outputs": []
    },
    {
      "cell_type": "markdown",
      "metadata": {
        "id": "AE_OckNrzTqr"
      },
      "source": [
        "From the result we can select the recoded variable and compute the mean."
      ]
    },
    {
      "cell_type": "code",
      "metadata": {
        "id": "8JAZi7slzTqr"
      },
      "source": [
        "time_series = by_year['recoded'].mean()"
      ],
      "execution_count": null,
      "outputs": []
    },
    {
      "cell_type": "markdown",
      "metadata": {
        "id": "va4xBOunzTqv"
      },
      "source": [
        "And we can plot the results with the data points themselves as circles and a local regression model as a line."
      ]
    },
    {
      "cell_type": "code",
      "metadata": {
        "id": "eErKDpFzzTqv",
        "colab": {
          "base_uri": "https://localhost:8080/",
          "height": 297
        },
        "outputId": "6648db6a-cf42-4e03-de70-f8ade7b5e05c"
      },
      "source": [
        "plot_series_lowess(time_series, 'C1')\n",
        "\n",
        "decorate(xlabel='Year',\n",
        "         ylabel='Fraction thinking its too little',\n",
        "         xlim=[1970, 2020],\n",
        "         title='Expenditure on Improving nations education system')"
      ],
      "execution_count": null,
      "outputs": [
        {
          "output_type": "display_data",
          "data": {
            "image/png": "[encoded data removed]",
            "text/plain": [
              "<Figure size 432x288 with 1 Axes>"
            ]
          },
          "metadata": {
            "tags": [],
            "needs_background": "light"
          }
        }
      ]
    },
    {
      "cell_type": "markdown",
      "metadata": {
        "id": "PIcXEEKWzTq0"
      },
      "source": [
        "Again, you should add some text here to interpret the results you get for your variable."
      ]
    },
    {
      "cell_type": "markdown",
      "metadata": {
        "id": "y3c_A7lozTq1"
      },
      "source": [
        "## Time series by group\n",
        "\n",
        "So far, we have grouped by `polviews3` and computed the mean of the variable of interest in each group.\n",
        "\n",
        "Then we grouped by `year` and computed the mean for each year.\n",
        "\n",
        "Now we'll use `pivot_table` to compute the mean in each group for each year."
      ]
    },
    {
      "cell_type": "code",
      "metadata": {
        "id": "L44FrAaJzTq3"
      },
      "source": [
        "table = gss.pivot_table(values='recoded', \n",
        "                        index='year', \n",
        "                        columns='polviews3', \n",
        "                        aggfunc='mean')"
      ],
      "execution_count": null,
      "outputs": []
    },
    {
      "cell_type": "markdown",
      "metadata": {
        "id": "UrEqekExzTq_"
      },
      "source": [
        "The result is a table that has years running down the rows and political alignment running across the columns.\n",
        "\n",
        "Each entry in the table is the mean of the variable of interest for a given group in a given year."
      ]
    },
    {
      "cell_type": "code",
      "metadata": {
        "id": "eSFGc_s0zTrA",
        "colab": {
          "base_uri": "https://localhost:8080/",
          "height": 235
        },
        "outputId": "3b31ac57-f8c0-405b-a188-c8b781f0c49c"
      },
      "source": [
        "table.head()"
      ],
      "execution_count": null,
      "outputs": [
        {
          "output_type": "execute_result",
          "data": {
            "text/html": [
              "<div>\n",
              "<style scoped>\n",
              "    .dataframe tbody tr th:only-of-type {\n",
              "        vertical-align: middle;\n",
              "    }\n",
              "\n",
              "    .dataframe tbody tr th {\n",
              "        vertical-align: top;\n",
              "    }\n",
              "\n",
              "    .dataframe thead th {\n",
              "        text-align: right;\n",
              "    }\n",
              "</style>\n",
              "<table border=\"1\" class=\"dataframe\">\n",
              "  <thead>\n",
              "    <tr style=\"text-align: right;\">\n",
              "      <th>polviews3</th>\n",
              "      <th>Conservative</th>\n",
              "      <th>Liberal</th>\n",
              "      <th>Moderate</th>\n",
              "    </tr>\n",
              "    <tr>\n",
              "      <th>year</th>\n",
              "      <th></th>\n",
              "      <th></th>\n",
              "      <th></th>\n",
              "    </tr>\n",
              "  </thead>\n",
              "  <tbody>\n",
              "    <tr>\n",
              "      <th>1974</th>\n",
              "      <td>0.454545</td>\n",
              "      <td>0.637850</td>\n",
              "      <td>0.550864</td>\n",
              "    </tr>\n",
              "    <tr>\n",
              "      <th>1975</th>\n",
              "      <td>0.489950</td>\n",
              "      <td>0.566210</td>\n",
              "      <td>0.482824</td>\n",
              "    </tr>\n",
              "    <tr>\n",
              "      <th>1976</th>\n",
              "      <td>0.449074</td>\n",
              "      <td>0.592500</td>\n",
              "      <td>0.540250</td>\n",
              "    </tr>\n",
              "    <tr>\n",
              "      <th>1977</th>\n",
              "      <td>0.460829</td>\n",
              "      <td>0.570423</td>\n",
              "      <td>0.507909</td>\n",
              "    </tr>\n",
              "    <tr>\n",
              "      <th>1978</th>\n",
              "      <td>0.461538</td>\n",
              "      <td>0.603448</td>\n",
              "      <td>0.516605</td>\n",
              "    </tr>\n",
              "  </tbody>\n",
              "</table>\n",
              "</div>"
            ],
            "text/plain": [
              "polviews3  Conservative   Liberal  Moderate\n",
              "year                                       \n",
              "1974           0.454545  0.637850  0.550864\n",
              "1975           0.489950  0.566210  0.482824\n",
              "1976           0.449074  0.592500  0.540250\n",
              "1977           0.460829  0.570423  0.507909\n",
              "1978           0.461538  0.603448  0.516605"
            ]
          },
          "metadata": {
            "tags": []
          },
          "execution_count": 43
        }
      ]
    },
    {
      "cell_type": "code",
      "metadata": {
        "id": "WOEEZMl-i_WR",
        "colab": {
          "base_uri": "https://localhost:8080/",
          "height": 235
        },
        "outputId": "d80eaef8-c2e0-4f4f-bd44-b109360bc42d"
      },
      "source": [
        "table.tail()"
      ],
      "execution_count": null,
      "outputs": [
        {
          "output_type": "execute_result",
          "data": {
            "text/html": [
              "<div>\n",
              "<style scoped>\n",
              "    .dataframe tbody tr th:only-of-type {\n",
              "        vertical-align: middle;\n",
              "    }\n",
              "\n",
              "    .dataframe tbody tr th {\n",
              "        vertical-align: top;\n",
              "    }\n",
              "\n",
              "    .dataframe thead th {\n",
              "        text-align: right;\n",
              "    }\n",
              "</style>\n",
              "<table border=\"1\" class=\"dataframe\">\n",
              "  <thead>\n",
              "    <tr style=\"text-align: right;\">\n",
              "      <th>polviews3</th>\n",
              "      <th>Conservative</th>\n",
              "      <th>Liberal</th>\n",
              "      <th>Moderate</th>\n",
              "    </tr>\n",
              "    <tr>\n",
              "      <th>year</th>\n",
              "      <th></th>\n",
              "      <th></th>\n",
              "      <th></th>\n",
              "    </tr>\n",
              "  </thead>\n",
              "  <tbody>\n",
              "    <tr>\n",
              "      <th>2010</th>\n",
              "      <td>0.599398</td>\n",
              "      <td>0.791045</td>\n",
              "      <td>0.790026</td>\n",
              "    </tr>\n",
              "    <tr>\n",
              "      <th>2012</th>\n",
              "      <td>0.631757</td>\n",
              "      <td>0.794702</td>\n",
              "      <td>0.788571</td>\n",
              "    </tr>\n",
              "    <tr>\n",
              "      <th>2014</th>\n",
              "      <td>0.579572</td>\n",
              "      <td>0.830619</td>\n",
              "      <td>0.728992</td>\n",
              "    </tr>\n",
              "    <tr>\n",
              "      <th>2016</th>\n",
              "      <td>0.625000</td>\n",
              "      <td>0.788698</td>\n",
              "      <td>0.775348</td>\n",
              "    </tr>\n",
              "    <tr>\n",
              "      <th>2018</th>\n",
              "      <td>0.680412</td>\n",
              "      <td>0.831250</td>\n",
              "      <td>0.765909</td>\n",
              "    </tr>\n",
              "  </tbody>\n",
              "</table>\n",
              "</div>"
            ],
            "text/plain": [
              "polviews3  Conservative   Liberal  Moderate\n",
              "year                                       \n",
              "2010           0.599398  0.791045  0.790026\n",
              "2012           0.631757  0.794702  0.788571\n",
              "2014           0.579572  0.830619  0.728992\n",
              "2016           0.625000  0.788698  0.775348\n",
              "2018           0.680412  0.831250  0.765909"
            ]
          },
          "metadata": {
            "tags": []
          },
          "execution_count": 50
        }
      ]
    },
    {
      "cell_type": "markdown",
      "metadata": {
        "id": "dvQ2mKo7zTrE"
      },
      "source": [
        "## Plotting the results"
      ]
    },
    {
      "cell_type": "markdown",
      "metadata": {
        "id": "zNqkI4hWzTrF"
      },
      "source": [
        "Now we can use `plot_columns_lowess` to see the results."
      ]
    },
    {
      "cell_type": "code",
      "metadata": {
        "id": "VQnw8BrfzTrI"
      },
      "source": [
        "columns = ['Conservative', 'Moderate', 'Liberal']"
      ],
      "execution_count": null,
      "outputs": []
    },
    {
      "cell_type": "code",
      "metadata": {
        "id": "YG0Mzc4zzTrO",
        "colab": {
          "base_uri": "https://localhost:8080/",
          "height": 297
        },
        "outputId": "ca1a5662-6e8e-4745-c3d0-8575c9e245c7"
      },
      "source": [
        "plot_columns_lowess(table, columns, color_map)\n",
        "\n",
        "decorate(xlabel='Year',\n",
        "         ylabel='Fraction thinking its too little',\n",
        "         xlim=[1970, 2020],\n",
        "         title='Expenditure on Improving nations education system')\n",
        "\n",
        "plt.legend();"
      ],
      "execution_count": null,
      "outputs": [
        {
          "output_type": "display_data",
          "data": {
            "image/png": "[encoded data removed]",
            "text/plain": [
              "<Figure size 432x288 with 1 Axes>"
            ]
          },
          "metadata": {
            "tags": [],
            "needs_background": "light"
          }
        }
      ]
    },
    {
      "cell_type": "markdown",
      "metadata": {
        "id": "9aaboLyNzTrS"
      },
      "source": [
        "You should write a few sentences here to interpret the results."
      ]
    },
    {
      "cell_type": "markdown",
      "metadata": {
        "id": "vyQR00WHzTrT"
      },
      "source": [
        "## Resampling\n",
        "\n",
        "The figures we have generated so far in this notebook are based on a single resampling of the GSS data.  Some of the features we see in these figures might be due to random sampling rather than actual changes in the world.\n",
        "\n",
        "By generating the same figures with different resampled datasets, we can get a sense of how much variation there is due to random sampling.\n",
        "\n",
        "To make that easier, the following function contains the code from the previous analysis all in one place.\n",
        "\n",
        "You will probably have to update this function with any changes you made in my code."
      ]
    },
    {
      "cell_type": "code",
      "metadata": {
        "id": "G5GIXDP2zTrT"
      },
      "source": [
        "def plot_by_polviews(gss):\n",
        "    \"\"\"Plot mean response by polviews and year.\n",
        "    \n",
        "    gss: DataFrame\n",
        "    \"\"\"\n",
        "    gss['polviews3'] = gss['polviews'].replace(d_polviews)\n",
        "    gss['recoded'] = gss['homosex'].replace(d_recode)\n",
        "    \n",
        "    table = gss.pivot_table(values='recoded', \n",
        "                        index='year', \n",
        "                        columns='polviews3', \n",
        "                        aggfunc='mean')\n",
        "\n",
        "    plot_columns_lowess(table, columns, color_map)\n",
        "\n",
        "    decorate(xlabel='Year',\n",
        "             ylabel='Fraction saying yes',\n",
        "             xlim=[1970, 2020],\n",
        "             title='Are same-sex relations always wrong?')"
      ],
      "execution_count": null,
      "outputs": []
    },
    {
      "cell_type": "markdown",
      "metadata": {
        "id": "Wim0RZfOzTrV"
      },
      "source": [
        "Now we can loop through the three resampled datasets in the HDF5 file and generate a figure for each one."
      ]
    },
    {
      "cell_type": "code",
      "metadata": {
        "id": "HGR1o2tMzTrW",
        "outputId": "c2f49e2b-b56d-440a-c31c-b831bab5a959"
      },
      "source": [
        "for key in ['gss0', 'gss1', 'gss2']:\n",
        "    df = pd.read_hdf('gss_eda.3.hdf5', key)\n",
        "\n",
        "    plt.figure()\n",
        "    plot_by_polviews(df)"
      ],
      "execution_count": null,
      "outputs": [
        {
          "output_type": "display_data",
          "data": {
            "image/png": "[encoded data removed]",
            "text/plain": [
              "<Figure size 432x288 with 1 Axes>"
            ]
          },
          "metadata": {
            "tags": [],
            "needs_background": "light"
          }
        },
        {
          "output_type": "display_data",
          "data": {
            "image/png": "[encoded data removed]",
            "text/plain": [
              "<Figure size 432x288 with 1 Axes>"
            ]
          },
          "metadata": {
            "tags": [],
            "needs_background": "light"
          }
        },
        {
          "output_type": "display_data",
          "data": {
            "image/png": "[encoded data removed]",
            "text/plain": [
              "<Figure size 432x288 with 1 Axes>"
            ]
          },
          "metadata": {
            "tags": [],
            "needs_background": "light"
          }
        }
      ]
    },
    {
      "cell_type": "markdown",
      "metadata": {
        "id": "Pwfl0PDWzTrd"
      },
      "source": [
        "You should review your interpretation in the previous section to see how it holds up to resampling.  If you see an effect that is consistent in all three figures, it is less likely to be an artifact of random sampling.\n",
        "\n",
        "If it varies from one resampling to the next, you should probably not take it too seriously."
      ]
    },
    {
      "cell_type": "markdown",
      "metadata": {
        "id": "59wZNYrJzTrd"
      },
      "source": [
        "## Publishing your report\n",
        "\n",
        "If you would like to publish your results as a report, here's how:\n",
        "\n",
        "0) Make sure you have saved your modified version of this notebook with an appropriate file name.\n",
        "\n",
        "1) Write your report by filling in the template below.\n",
        "\n",
        "2) Move your filled-in template to the top of the notebook.\n",
        "\n",
        "3) Hide or delete the cells a reader does not need to see.\n",
        "\n",
        "4) If you are running on Colab, use the Share button in the upper right to get a link you can share.\n",
        "\n",
        "5) Share the link with anyone who might be interested in your report.\n",
        "\n",
        "If you would like your report to be included in my collection, and possibly published on my blog, you can [use this form to submit it](https://forms.gle/ak3srpQM5qsMwRbA8).\n",
        "\n",
        "As an example, I wrote up [the results from this notebook in a blog article](https://www.allendowney.com/blog/2019/12/03/political-alignment-and-beliefs-about-homosexuality/)."
      ]
    },
    {
      "cell_type": "markdown",
      "metadata": {
        "id": "0ujMU4FUzTre"
      },
      "source": [
        "(This is the report template: Fill in the information below, then delete everything in parentheses.)\n",
        "\n",
        "## Headline that summarizes your results\n",
        "\n",
        "By (Put your name here)\n",
        "\n",
        "(Today's date)\n",
        "\n",
        "(Write a sentence or two that summarizes what you found.  Maybe include a few numbers, rounded off to about 2 significant digits.)\n",
        "\n",
        "(Explain where the variable you chose to explore, what years it covers, and the number of respondents)\n",
        "\n",
        "(Explain the methodology)\n",
        "\n",
        "(Present 1-2 figures that show your results)\n",
        "\n",
        "(Interpret the figures for the reader)\n",
        "\n",
        "(Having seen these results, what other questions are raised?)\n",
        "\n",
        "(Include the following text, which attributes the source of this material)\n",
        "\n",
        "This is a modified version of a notebook by Allen Downey, [available here](https://github.com/AllenDowney/PoliticalAlignmentCaseStudy) under the [MIT License](https://en.wikipedia.org/wiki/MIT_License).\n",
        "\n",
        "(If you agree to make your modified version available under the MIT license, you should include the following text.)\n",
        "\n",
        "This modified version is also under the [MIT License](https://en.wikipedia.org/wiki/MIT_License)."
      ]
    },
    {
      "cell_type": "code",
      "metadata": {
        "id": "Ha0Q5ZanzTrf"
      },
      "source": [
        ""
      ],
      "execution_count": null,
      "outputs": []
    }
  ]
}